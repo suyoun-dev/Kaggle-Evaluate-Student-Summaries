{
 "cells": [
  {
   "cell_type": "code",
   "execution_count": 1,
   "id": "b39a3188",
   "metadata": {
    "_cell_guid": "b1076dfc-b9ad-4769-8c92-a6c4dae69d19",
    "_uuid": "8f2839f25d086af736a60e9eeb907d3b93b6e0e5",
    "execution": {
     "iopub.execute_input": "2023-08-23T14:30:30.757446Z",
     "iopub.status.busy": "2023-08-23T14:30:30.756673Z",
     "iopub.status.idle": "2023-08-23T14:30:30.782265Z",
     "shell.execute_reply": "2023-08-23T14:30:30.781274Z"
    },
    "papermill": {
     "duration": 0.038165,
     "end_time": "2023-08-23T14:30:30.785906",
     "exception": false,
     "start_time": "2023-08-23T14:30:30.747741",
     "status": "completed"
    },
    "tags": []
   },
   "outputs": [
    {
     "name": "stdout",
     "output_type": "stream",
     "text": [
      "/kaggle/input/commonlit-evaluate-student-summaries/sample_submission.csv\n",
      "/kaggle/input/commonlit-evaluate-student-summaries/prompts_train.csv\n",
      "/kaggle/input/commonlit-evaluate-student-summaries/summaries_test.csv\n",
      "/kaggle/input/commonlit-evaluate-student-summaries/summaries_train.csv\n",
      "/kaggle/input/commonlit-evaluate-student-summaries/prompts_test.csv\n",
      "/kaggle/input/hugging-face-models-safe-tensors/bert-base-uncased/config.json\n",
      "/kaggle/input/hugging-face-models-safe-tensors/bert-base-uncased/tokenizer_config.json\n",
      "/kaggle/input/hugging-face-models-safe-tensors/bert-base-uncased/pytorch_model.bin\n",
      "/kaggle/input/hugging-face-models-safe-tensors/bert-base-uncased/special_tokens_map.json\n",
      "/kaggle/input/hugging-face-models-safe-tensors/bert-base-uncased/vocab.txt\n"
     ]
    }
   ],
   "source": [
    "# This Python 3 environment comes with many helpful analytics libraries installed\n",
    "# It is defined by the kaggle/python Docker image: https://github.com/kaggle/docker-python\n",
    "# For example, here's several helpful packages to load\n",
    "\n",
    "import numpy as np # linear algebra\n",
    "import pandas as pd # data processing, CSV file I/O (e.g. pd.read_csv)\n",
    "\n",
    "# Input data files are available in the read-only \"../input/\" directory\n",
    "# For example, running this (by clicking run or pressing Shift+Enter) will list all files under the input directory\n",
    "\n",
    "import os\n",
    "for dirname, _, filenames in os.walk('/kaggle/input'):\n",
    "    for filename in filenames:\n",
    "        print(os.path.join(dirname, filename))\n",
    "\n",
    "# You can write up to 20GB to the current directory (/kaggle/working/) that gets preserved as output when you create a version using \"Save & Run All\" \n",
    "# You can also write temporary files to /kaggle/temp/, but they won't be saved outside of the current session"
   ]
  },
  {
   "cell_type": "markdown",
   "id": "ea205472",
   "metadata": {
    "papermill": {
     "duration": 0.006848,
     "end_time": "2023-08-23T14:30:30.801149",
     "exception": false,
     "start_time": "2023-08-23T14:30:30.794301",
     "status": "completed"
    },
    "tags": []
   },
   "source": [
    "## Reference: Bert Tokenizer + Fine-Tuning Model\n",
    "https://www.kaggle.com/code/theodorospsarras/bert-tokenizer-fine-tuning-model/input"
   ]
  },
  {
   "cell_type": "code",
   "execution_count": 2,
   "id": "cb251d25",
   "metadata": {
    "execution": {
     "iopub.execute_input": "2023-08-23T14:30:30.816984Z",
     "iopub.status.busy": "2023-08-23T14:30:30.816299Z",
     "iopub.status.idle": "2023-08-23T14:30:36.161086Z",
     "shell.execute_reply": "2023-08-23T14:30:36.160077Z"
    },
    "papermill": {
     "duration": 5.355261,
     "end_time": "2023-08-23T14:30:36.163562",
     "exception": false,
     "start_time": "2023-08-23T14:30:30.808301",
     "status": "completed"
    },
    "tags": []
   },
   "outputs": [],
   "source": [
    "import torch\n",
    "import torch.nn as nn\n",
    "from transformers import AutoTokenizer, AutoModel,AutoModelForSequenceClassification\n",
    "import pandas as pd\n",
    "import torch.nn.functional as F\n",
    "import numpy as np"
   ]
  },
  {
   "cell_type": "code",
   "execution_count": 3,
   "id": "c105ac8b",
   "metadata": {
    "execution": {
     "iopub.execute_input": "2023-08-23T14:30:36.179635Z",
     "iopub.status.busy": "2023-08-23T14:30:36.179055Z",
     "iopub.status.idle": "2023-08-23T14:30:36.183322Z",
     "shell.execute_reply": "2023-08-23T14:30:36.182360Z"
    },
    "papermill": {
     "duration": 0.014555,
     "end_time": "2023-08-23T14:30:36.185349",
     "exception": false,
     "start_time": "2023-08-23T14:30:36.170794",
     "status": "completed"
    },
    "tags": []
   },
   "outputs": [],
   "source": [
    "#import os\n",
    "\n",
    "#os.environ['CUDA_VISIBLE_DEVICES']  = \"0\"\n",
    "\n",
    "#torch.cuda.device_count()"
   ]
  },
  {
   "cell_type": "code",
   "execution_count": 4,
   "id": "d677c279",
   "metadata": {
    "execution": {
     "iopub.execute_input": "2023-08-23T14:30:36.200196Z",
     "iopub.status.busy": "2023-08-23T14:30:36.199907Z",
     "iopub.status.idle": "2023-08-23T14:30:36.345451Z",
     "shell.execute_reply": "2023-08-23T14:30:36.344459Z"
    },
    "papermill": {
     "duration": 0.155486,
     "end_time": "2023-08-23T14:30:36.347744",
     "exception": false,
     "start_time": "2023-08-23T14:30:36.192258",
     "status": "completed"
    },
    "tags": []
   },
   "outputs": [
    {
     "data": {
      "text/html": [
       "<div>\n",
       "<style scoped>\n",
       "    .dataframe tbody tr th:only-of-type {\n",
       "        vertical-align: middle;\n",
       "    }\n",
       "\n",
       "    .dataframe tbody tr th {\n",
       "        vertical-align: top;\n",
       "    }\n",
       "\n",
       "    .dataframe thead th {\n",
       "        text-align: right;\n",
       "    }\n",
       "</style>\n",
       "<table border=\"1\" class=\"dataframe\">\n",
       "  <thead>\n",
       "    <tr style=\"text-align: right;\">\n",
       "      <th></th>\n",
       "      <th>prompt_id</th>\n",
       "      <th>prompt_question</th>\n",
       "      <th>prompt_title</th>\n",
       "      <th>prompt_text</th>\n",
       "    </tr>\n",
       "  </thead>\n",
       "  <tbody>\n",
       "    <tr>\n",
       "      <th>0</th>\n",
       "      <td>39c16e</td>\n",
       "      <td>Summarize at least 3 elements of an ideal trag...</td>\n",
       "      <td>On Tragedy</td>\n",
       "      <td>Chapter 13 \\r\\nAs the sequel to what has alrea...</td>\n",
       "    </tr>\n",
       "    <tr>\n",
       "      <th>1</th>\n",
       "      <td>3b9047</td>\n",
       "      <td>In complete sentences, summarize the structure...</td>\n",
       "      <td>Egyptian Social Structure</td>\n",
       "      <td>Egyptian society was structured like a pyramid...</td>\n",
       "    </tr>\n",
       "    <tr>\n",
       "      <th>2</th>\n",
       "      <td>814d6b</td>\n",
       "      <td>Summarize how the Third Wave developed over su...</td>\n",
       "      <td>The Third Wave</td>\n",
       "      <td>Background \\r\\nThe Third Wave experiment took ...</td>\n",
       "    </tr>\n",
       "    <tr>\n",
       "      <th>3</th>\n",
       "      <td>ebad26</td>\n",
       "      <td>Summarize the various ways the factory would u...</td>\n",
       "      <td>Excerpt from The Jungle</td>\n",
       "      <td>With one member trimming beef in a cannery, an...</td>\n",
       "    </tr>\n",
       "  </tbody>\n",
       "</table>\n",
       "</div>"
      ],
      "text/plain": [
       "  prompt_id                                    prompt_question  \\\n",
       "0    39c16e  Summarize at least 3 elements of an ideal trag...   \n",
       "1    3b9047  In complete sentences, summarize the structure...   \n",
       "2    814d6b  Summarize how the Third Wave developed over su...   \n",
       "3    ebad26  Summarize the various ways the factory would u...   \n",
       "\n",
       "                prompt_title  \\\n",
       "0                 On Tragedy   \n",
       "1  Egyptian Social Structure   \n",
       "2             The Third Wave   \n",
       "3    Excerpt from The Jungle   \n",
       "\n",
       "                                         prompt_text  \n",
       "0  Chapter 13 \\r\\nAs the sequel to what has alrea...  \n",
       "1  Egyptian society was structured like a pyramid...  \n",
       "2  Background \\r\\nThe Third Wave experiment took ...  \n",
       "3  With one member trimming beef in a cannery, an...  "
      ]
     },
     "execution_count": 4,
     "metadata": {},
     "output_type": "execute_result"
    }
   ],
   "source": [
    "prompts_train = pd.read_csv(\"/kaggle/input/commonlit-evaluate-student-summaries/prompts_train.csv\")\n",
    "prompts_test = pd.read_csv(\"/kaggle/input/commonlit-evaluate-student-summaries/prompts_test.csv\")\n",
    "\n",
    "summaries_train = pd.read_csv(\"/kaggle/input/commonlit-evaluate-student-summaries/summaries_train.csv\")\n",
    "summaries_test = pd.read_csv(\"/kaggle/input/commonlit-evaluate-student-summaries/summaries_test.csv\")\n",
    "\n",
    "sample_submission = pd.read_csv(\"/kaggle/input/commonlit-evaluate-student-summaries/sample_submission.csv\")\n",
    "\n",
    "prompts_train"
   ]
  },
  {
   "cell_type": "markdown",
   "id": "610cb74a",
   "metadata": {
    "papermill": {
     "duration": 0.006988,
     "end_time": "2023-08-23T14:30:36.362717",
     "exception": false,
     "start_time": "2023-08-23T14:30:36.355729",
     "status": "completed"
    },
    "tags": []
   },
   "source": [
    "1. prompt 파일과 train/test 파일 merge 하기"
   ]
  },
  {
   "cell_type": "code",
   "execution_count": 5,
   "id": "fda19246",
   "metadata": {
    "execution": {
     "iopub.execute_input": "2023-08-23T14:30:36.379178Z",
     "iopub.status.busy": "2023-08-23T14:30:36.378335Z",
     "iopub.status.idle": "2023-08-23T14:30:36.411862Z",
     "shell.execute_reply": "2023-08-23T14:30:36.410646Z"
    },
    "papermill": {
     "duration": 0.04462,
     "end_time": "2023-08-23T14:30:36.414798",
     "exception": false,
     "start_time": "2023-08-23T14:30:36.370178",
     "status": "completed"
    },
    "tags": []
   },
   "outputs": [
    {
     "data": {
      "text/html": [
       "<div>\n",
       "<style scoped>\n",
       "    .dataframe tbody tr th:only-of-type {\n",
       "        vertical-align: middle;\n",
       "    }\n",
       "\n",
       "    .dataframe tbody tr th {\n",
       "        vertical-align: top;\n",
       "    }\n",
       "\n",
       "    .dataframe thead th {\n",
       "        text-align: right;\n",
       "    }\n",
       "</style>\n",
       "<table border=\"1\" class=\"dataframe\">\n",
       "  <thead>\n",
       "    <tr style=\"text-align: right;\">\n",
       "      <th></th>\n",
       "      <th>student_id</th>\n",
       "      <th>prompt_id</th>\n",
       "      <th>text</th>\n",
       "      <th>content</th>\n",
       "      <th>wording</th>\n",
       "      <th>prompt_question</th>\n",
       "      <th>prompt_title</th>\n",
       "      <th>prompt_text</th>\n",
       "    </tr>\n",
       "  </thead>\n",
       "  <tbody>\n",
       "    <tr>\n",
       "      <th>0</th>\n",
       "      <td>000e8c3c7ddb</td>\n",
       "      <td>814d6b</td>\n",
       "      <td>The third wave was an experimentto see how peo...</td>\n",
       "      <td>0.205683</td>\n",
       "      <td>0.380538</td>\n",
       "      <td>Summarize how the Third Wave developed over su...</td>\n",
       "      <td>The Third Wave</td>\n",
       "      <td>Background \\r\\nThe Third Wave experiment took ...</td>\n",
       "    </tr>\n",
       "    <tr>\n",
       "      <th>1</th>\n",
       "      <td>0020ae56ffbf</td>\n",
       "      <td>ebad26</td>\n",
       "      <td>They would rub it up with soda to make the sme...</td>\n",
       "      <td>-0.548304</td>\n",
       "      <td>0.506755</td>\n",
       "      <td>Summarize the various ways the factory would u...</td>\n",
       "      <td>Excerpt from The Jungle</td>\n",
       "      <td>With one member trimming beef in a cannery, an...</td>\n",
       "    </tr>\n",
       "    <tr>\n",
       "      <th>2</th>\n",
       "      <td>004e978e639e</td>\n",
       "      <td>3b9047</td>\n",
       "      <td>In Egypt, there were many occupations and soci...</td>\n",
       "      <td>3.128928</td>\n",
       "      <td>4.231226</td>\n",
       "      <td>In complete sentences, summarize the structure...</td>\n",
       "      <td>Egyptian Social Structure</td>\n",
       "      <td>Egyptian society was structured like a pyramid...</td>\n",
       "    </tr>\n",
       "    <tr>\n",
       "      <th>3</th>\n",
       "      <td>005ab0199905</td>\n",
       "      <td>3b9047</td>\n",
       "      <td>The highest class was Pharaohs these people we...</td>\n",
       "      <td>-0.210614</td>\n",
       "      <td>-0.471415</td>\n",
       "      <td>In complete sentences, summarize the structure...</td>\n",
       "      <td>Egyptian Social Structure</td>\n",
       "      <td>Egyptian society was structured like a pyramid...</td>\n",
       "    </tr>\n",
       "    <tr>\n",
       "      <th>4</th>\n",
       "      <td>0070c9e7af47</td>\n",
       "      <td>814d6b</td>\n",
       "      <td>The Third Wave developed  rapidly because the ...</td>\n",
       "      <td>3.272894</td>\n",
       "      <td>3.219757</td>\n",
       "      <td>Summarize how the Third Wave developed over su...</td>\n",
       "      <td>The Third Wave</td>\n",
       "      <td>Background \\r\\nThe Third Wave experiment took ...</td>\n",
       "    </tr>\n",
       "    <tr>\n",
       "      <th>...</th>\n",
       "      <td>...</td>\n",
       "      <td>...</td>\n",
       "      <td>...</td>\n",
       "      <td>...</td>\n",
       "      <td>...</td>\n",
       "      <td>...</td>\n",
       "      <td>...</td>\n",
       "      <td>...</td>\n",
       "    </tr>\n",
       "    <tr>\n",
       "      <th>7160</th>\n",
       "      <td>ff7c7e70df07</td>\n",
       "      <td>ebad26</td>\n",
       "      <td>They used all sorts of chemical concoctions to...</td>\n",
       "      <td>0.205683</td>\n",
       "      <td>0.380538</td>\n",
       "      <td>Summarize the various ways the factory would u...</td>\n",
       "      <td>Excerpt from The Jungle</td>\n",
       "      <td>With one member trimming beef in a cannery, an...</td>\n",
       "    </tr>\n",
       "    <tr>\n",
       "      <th>7161</th>\n",
       "      <td>ffc34d056498</td>\n",
       "      <td>3b9047</td>\n",
       "      <td>The lowest classes are slaves and farmers slav...</td>\n",
       "      <td>-0.308448</td>\n",
       "      <td>0.048171</td>\n",
       "      <td>In complete sentences, summarize the structure...</td>\n",
       "      <td>Egyptian Social Structure</td>\n",
       "      <td>Egyptian society was structured like a pyramid...</td>\n",
       "    </tr>\n",
       "    <tr>\n",
       "      <th>7162</th>\n",
       "      <td>ffd1576d2e1b</td>\n",
       "      <td>3b9047</td>\n",
       "      <td>they sorta made people start workin...</td>\n",
       "      <td>-1.408180</td>\n",
       "      <td>-0.493603</td>\n",
       "      <td>In complete sentences, summarize the structure...</td>\n",
       "      <td>Egyptian Social Structure</td>\n",
       "      <td>Egyptian society was structured like a pyramid...</td>\n",
       "    </tr>\n",
       "    <tr>\n",
       "      <th>7163</th>\n",
       "      <td>ffe4a98093b2</td>\n",
       "      <td>39c16e</td>\n",
       "      <td>An ideal tragety has three elements that make ...</td>\n",
       "      <td>-0.393310</td>\n",
       "      <td>0.627128</td>\n",
       "      <td>Summarize at least 3 elements of an ideal trag...</td>\n",
       "      <td>On Tragedy</td>\n",
       "      <td>Chapter 13 \\r\\nAs the sequel to what has alrea...</td>\n",
       "    </tr>\n",
       "    <tr>\n",
       "      <th>7164</th>\n",
       "      <td>fffbccfd8a08</td>\n",
       "      <td>ebad26</td>\n",
       "      <td>The meat would smell sour but the would \"rub i...</td>\n",
       "      <td>1.771596</td>\n",
       "      <td>0.547742</td>\n",
       "      <td>Summarize the various ways the factory would u...</td>\n",
       "      <td>Excerpt from The Jungle</td>\n",
       "      <td>With one member trimming beef in a cannery, an...</td>\n",
       "    </tr>\n",
       "  </tbody>\n",
       "</table>\n",
       "<p>7165 rows × 8 columns</p>\n",
       "</div>"
      ],
      "text/plain": [
       "        student_id prompt_id  \\\n",
       "0     000e8c3c7ddb    814d6b   \n",
       "1     0020ae56ffbf    ebad26   \n",
       "2     004e978e639e    3b9047   \n",
       "3     005ab0199905    3b9047   \n",
       "4     0070c9e7af47    814d6b   \n",
       "...            ...       ...   \n",
       "7160  ff7c7e70df07    ebad26   \n",
       "7161  ffc34d056498    3b9047   \n",
       "7162  ffd1576d2e1b    3b9047   \n",
       "7163  ffe4a98093b2    39c16e   \n",
       "7164  fffbccfd8a08    ebad26   \n",
       "\n",
       "                                                   text   content   wording  \\\n",
       "0     The third wave was an experimentto see how peo...  0.205683  0.380538   \n",
       "1     They would rub it up with soda to make the sme... -0.548304  0.506755   \n",
       "2     In Egypt, there were many occupations and soci...  3.128928  4.231226   \n",
       "3     The highest class was Pharaohs these people we... -0.210614 -0.471415   \n",
       "4     The Third Wave developed  rapidly because the ...  3.272894  3.219757   \n",
       "...                                                 ...       ...       ...   \n",
       "7160  They used all sorts of chemical concoctions to...  0.205683  0.380538   \n",
       "7161  The lowest classes are slaves and farmers slav... -0.308448  0.048171   \n",
       "7162             they sorta made people start workin... -1.408180 -0.493603   \n",
       "7163  An ideal tragety has three elements that make ... -0.393310  0.627128   \n",
       "7164  The meat would smell sour but the would \"rub i...  1.771596  0.547742   \n",
       "\n",
       "                                        prompt_question  \\\n",
       "0     Summarize how the Third Wave developed over su...   \n",
       "1     Summarize the various ways the factory would u...   \n",
       "2     In complete sentences, summarize the structure...   \n",
       "3     In complete sentences, summarize the structure...   \n",
       "4     Summarize how the Third Wave developed over su...   \n",
       "...                                                 ...   \n",
       "7160  Summarize the various ways the factory would u...   \n",
       "7161  In complete sentences, summarize the structure...   \n",
       "7162  In complete sentences, summarize the structure...   \n",
       "7163  Summarize at least 3 elements of an ideal trag...   \n",
       "7164  Summarize the various ways the factory would u...   \n",
       "\n",
       "                   prompt_title  \\\n",
       "0                The Third Wave   \n",
       "1       Excerpt from The Jungle   \n",
       "2     Egyptian Social Structure   \n",
       "3     Egyptian Social Structure   \n",
       "4                The Third Wave   \n",
       "...                         ...   \n",
       "7160    Excerpt from The Jungle   \n",
       "7161  Egyptian Social Structure   \n",
       "7162  Egyptian Social Structure   \n",
       "7163                 On Tragedy   \n",
       "7164    Excerpt from The Jungle   \n",
       "\n",
       "                                            prompt_text  \n",
       "0     Background \\r\\nThe Third Wave experiment took ...  \n",
       "1     With one member trimming beef in a cannery, an...  \n",
       "2     Egyptian society was structured like a pyramid...  \n",
       "3     Egyptian society was structured like a pyramid...  \n",
       "4     Background \\r\\nThe Third Wave experiment took ...  \n",
       "...                                                 ...  \n",
       "7160  With one member trimming beef in a cannery, an...  \n",
       "7161  Egyptian society was structured like a pyramid...  \n",
       "7162  Egyptian society was structured like a pyramid...  \n",
       "7163  Chapter 13 \\r\\nAs the sequel to what has alrea...  \n",
       "7164  With one member trimming beef in a cannery, an...  \n",
       "\n",
       "[7165 rows x 8 columns]"
      ]
     },
     "execution_count": 5,
     "metadata": {},
     "output_type": "execute_result"
    }
   ],
   "source": [
    "# dataframe 병합, prompt id 기준으로 각 아이디에 맞는 prompts_train, test 내용을 왼쪽에 붙임\n",
    "train = summaries_train.merge(prompts_train, how=\"left\", on=\"prompt_id\")\n",
    "test = summaries_test.merge(prompts_test, how=\"left\", on=\"prompt_id\")\n",
    "\n",
    "train"
   ]
  },
  {
   "cell_type": "code",
   "execution_count": 6,
   "id": "4d6ced87",
   "metadata": {
    "execution": {
     "iopub.execute_input": "2023-08-23T14:30:36.431942Z",
     "iopub.status.busy": "2023-08-23T14:30:36.431010Z",
     "iopub.status.idle": "2023-08-23T14:30:36.442164Z",
     "shell.execute_reply": "2023-08-23T14:30:36.441196Z"
    },
    "papermill": {
     "duration": 0.021934,
     "end_time": "2023-08-23T14:30:36.444408",
     "exception": false,
     "start_time": "2023-08-23T14:30:36.422474",
     "status": "completed"
    },
    "tags": []
   },
   "outputs": [
    {
     "data": {
      "text/html": [
       "<div>\n",
       "<style scoped>\n",
       "    .dataframe tbody tr th:only-of-type {\n",
       "        vertical-align: middle;\n",
       "    }\n",
       "\n",
       "    .dataframe tbody tr th {\n",
       "        vertical-align: top;\n",
       "    }\n",
       "\n",
       "    .dataframe thead th {\n",
       "        text-align: right;\n",
       "    }\n",
       "</style>\n",
       "<table border=\"1\" class=\"dataframe\">\n",
       "  <thead>\n",
       "    <tr style=\"text-align: right;\">\n",
       "      <th></th>\n",
       "      <th>student_id</th>\n",
       "      <th>prompt_id</th>\n",
       "      <th>text</th>\n",
       "      <th>prompt_question</th>\n",
       "      <th>prompt_title</th>\n",
       "      <th>prompt_text</th>\n",
       "    </tr>\n",
       "  </thead>\n",
       "  <tbody>\n",
       "    <tr>\n",
       "      <th>0</th>\n",
       "      <td>000000ffffff</td>\n",
       "      <td>abc123</td>\n",
       "      <td>Example text 1</td>\n",
       "      <td>Summarize...</td>\n",
       "      <td>Example Title 1</td>\n",
       "      <td>Heading\\nText...</td>\n",
       "    </tr>\n",
       "    <tr>\n",
       "      <th>1</th>\n",
       "      <td>111111eeeeee</td>\n",
       "      <td>def789</td>\n",
       "      <td>Example text 2</td>\n",
       "      <td>Summarize...</td>\n",
       "      <td>Example Title 2</td>\n",
       "      <td>Heading\\nText...</td>\n",
       "    </tr>\n",
       "    <tr>\n",
       "      <th>2</th>\n",
       "      <td>222222cccccc</td>\n",
       "      <td>abc123</td>\n",
       "      <td>Example text 3</td>\n",
       "      <td>Summarize...</td>\n",
       "      <td>Example Title 1</td>\n",
       "      <td>Heading\\nText...</td>\n",
       "    </tr>\n",
       "    <tr>\n",
       "      <th>3</th>\n",
       "      <td>333333dddddd</td>\n",
       "      <td>def789</td>\n",
       "      <td>Example text 4</td>\n",
       "      <td>Summarize...</td>\n",
       "      <td>Example Title 2</td>\n",
       "      <td>Heading\\nText...</td>\n",
       "    </tr>\n",
       "  </tbody>\n",
       "</table>\n",
       "</div>"
      ],
      "text/plain": [
       "     student_id prompt_id            text prompt_question     prompt_title  \\\n",
       "0  000000ffffff    abc123  Example text 1    Summarize...  Example Title 1   \n",
       "1  111111eeeeee    def789  Example text 2    Summarize...  Example Title 2   \n",
       "2  222222cccccc    abc123  Example text 3    Summarize...  Example Title 1   \n",
       "3  333333dddddd    def789  Example text 4    Summarize...  Example Title 2   \n",
       "\n",
       "        prompt_text  \n",
       "0  Heading\\nText...  \n",
       "1  Heading\\nText...  \n",
       "2  Heading\\nText...  \n",
       "3  Heading\\nText...  "
      ]
     },
     "execution_count": 6,
     "metadata": {},
     "output_type": "execute_result"
    }
   ],
   "source": [
    "test"
   ]
  },
  {
   "cell_type": "code",
   "execution_count": 7,
   "id": "2ab92520",
   "metadata": {
    "execution": {
     "iopub.execute_input": "2023-08-23T14:30:36.461548Z",
     "iopub.status.busy": "2023-08-23T14:30:36.461263Z",
     "iopub.status.idle": "2023-08-23T14:30:36.466552Z",
     "shell.execute_reply": "2023-08-23T14:30:36.465596Z"
    },
    "papermill": {
     "duration": 0.015818,
     "end_time": "2023-08-23T14:30:36.468528",
     "exception": false,
     "start_time": "2023-08-23T14:30:36.452710",
     "status": "completed"
    },
    "tags": []
   },
   "outputs": [],
   "source": [
    "class CFG:\n",
    "    def __init__(self):\n",
    "        self.model_name = '/kaggle/input/hugging-face-models-safe-tensors/bert-base-uncased'\n",
    "        self.tokenizer_path = '/kaggle/input/hugging-face-models-safe-tensors/bert-base-uncased'\n",
    "        self.batch_size = 8\n",
    "        self.num_epochs = 30\n",
    "        self.token_max = 512\n",
    "        self.learning_rate = 1e-5\n",
    "        self.model_save_path = '/kaggle/working/model01.pt'\n",
    "\n",
    "cfg = CFG()"
   ]
  },
  {
   "cell_type": "code",
   "execution_count": 8,
   "id": "e3fd4146",
   "metadata": {
    "execution": {
     "iopub.execute_input": "2023-08-23T14:30:36.485641Z",
     "iopub.status.busy": "2023-08-23T14:30:36.484894Z",
     "iopub.status.idle": "2023-08-23T14:30:44.306426Z",
     "shell.execute_reply": "2023-08-23T14:30:44.305476Z"
    },
    "papermill": {
     "duration": 7.832438,
     "end_time": "2023-08-23T14:30:44.308871",
     "exception": false,
     "start_time": "2023-08-23T14:30:36.476433",
     "status": "completed"
    },
    "tags": []
   },
   "outputs": [
    {
     "name": "stderr",
     "output_type": "stream",
     "text": [
      "/opt/conda/lib/python3.10/site-packages/scipy/__init__.py:146: UserWarning: A NumPy version >=1.16.5 and <1.23.0 is required for this version of SciPy (detected version 1.23.5\n",
      "  warnings.warn(f\"A NumPy version >={np_minversion} and <{np_maxversion}\"\n",
      "/opt/conda/lib/python3.10/site-packages/tensorflow_io/python/ops/__init__.py:98: UserWarning: unable to load libtensorflow_io_plugins.so: unable to open file: libtensorflow_io_plugins.so, from paths: ['/opt/conda/lib/python3.10/site-packages/tensorflow_io/python/ops/libtensorflow_io_plugins.so']\n",
      "caused by: ['/opt/conda/lib/python3.10/site-packages/tensorflow_io/python/ops/libtensorflow_io_plugins.so: undefined symbol: _ZN3tsl6StatusC1EN10tensorflow5error4CodeESt17basic_string_viewIcSt11char_traitsIcEENS_14SourceLocationE']\n",
      "  warnings.warn(f\"unable to load libtensorflow_io_plugins.so: {e}\")\n",
      "/opt/conda/lib/python3.10/site-packages/tensorflow_io/python/ops/__init__.py:104: UserWarning: file system plugins are not loaded: unable to open file: libtensorflow_io.so, from paths: ['/opt/conda/lib/python3.10/site-packages/tensorflow_io/python/ops/libtensorflow_io.so']\n",
      "caused by: ['/opt/conda/lib/python3.10/site-packages/tensorflow_io/python/ops/libtensorflow_io.so: undefined symbol: _ZTVN10tensorflow13GcsFileSystemE']\n",
      "  warnings.warn(f\"file system plugins are not loaded: {e}\")\n"
     ]
    }
   ],
   "source": [
    "from transformers import BertModel, BertTokenizer"
   ]
  },
  {
   "cell_type": "code",
   "execution_count": 9,
   "id": "f637b95f",
   "metadata": {
    "execution": {
     "iopub.execute_input": "2023-08-23T14:30:44.326085Z",
     "iopub.status.busy": "2023-08-23T14:30:44.325793Z",
     "iopub.status.idle": "2023-08-23T14:30:52.113483Z",
     "shell.execute_reply": "2023-08-23T14:30:52.112440Z"
    },
    "papermill": {
     "duration": 7.798972,
     "end_time": "2023-08-23T14:30:52.115929",
     "exception": false,
     "start_time": "2023-08-23T14:30:44.316957",
     "status": "completed"
    },
    "tags": []
   },
   "outputs": [],
   "source": [
    "tokenizer = AutoTokenizer.from_pretrained(cfg.tokenizer_path)\n",
    "model_deberta = AutoModel.from_pretrained(cfg.model_name)"
   ]
  },
  {
   "cell_type": "code",
   "execution_count": 10,
   "id": "1c4dfce7",
   "metadata": {
    "execution": {
     "iopub.execute_input": "2023-08-23T14:30:52.134760Z",
     "iopub.status.busy": "2023-08-23T14:30:52.134423Z",
     "iopub.status.idle": "2023-08-23T14:30:52.139178Z",
     "shell.execute_reply": "2023-08-23T14:30:52.138131Z"
    },
    "papermill": {
     "duration": 0.016766,
     "end_time": "2023-08-23T14:30:52.141716",
     "exception": false,
     "start_time": "2023-08-23T14:30:52.124950",
     "status": "completed"
    },
    "tags": []
   },
   "outputs": [],
   "source": [
    "from itertools import chain\n",
    "from torch.utils.data import TensorDataset, DataLoader, random_split"
   ]
  },
  {
   "cell_type": "code",
   "execution_count": 11,
   "id": "3f990d89",
   "metadata": {
    "execution": {
     "iopub.execute_input": "2023-08-23T14:30:52.158801Z",
     "iopub.status.busy": "2023-08-23T14:30:52.158521Z",
     "iopub.status.idle": "2023-08-23T14:31:18.166175Z",
     "shell.execute_reply": "2023-08-23T14:31:18.165261Z"
    },
    "papermill": {
     "duration": 26.01888,
     "end_time": "2023-08-23T14:31:18.168572",
     "exception": false,
     "start_time": "2023-08-23T14:30:52.149692",
     "status": "completed"
    },
    "tags": []
   },
   "outputs": [],
   "source": [
    "def get_dataset(df):\n",
    "    encoding = tokenizer(list(df['prompt_question']), list(df['prompt_text']), list(df['text']),\n",
    "                   padding=True,\n",
    "                   truncation=True,\n",
    "                   max_length=cfg.token_max,\n",
    "                   return_tensors=\"pt\")\n",
    "    content = torch.tensor(df['content'], dtype=torch.float32)\n",
    "    wording = torch.tensor(df['wording'], dtype=torch.float32)\n",
    "    labels = torch.dstack((content, wording)).squeeze()\n",
    "    dataset = TensorDataset(encoding['input_ids'], encoding['attention_mask'], labels)\n",
    "    return dataset\n",
    "\n",
    "ds = get_dataset(train)"
   ]
  },
  {
   "cell_type": "code",
   "execution_count": 12,
   "id": "00a85465",
   "metadata": {
    "execution": {
     "iopub.execute_input": "2023-08-23T14:31:18.186968Z",
     "iopub.status.busy": "2023-08-23T14:31:18.186322Z",
     "iopub.status.idle": "2023-08-23T14:31:18.193608Z",
     "shell.execute_reply": "2023-08-23T14:31:18.192767Z"
    },
    "papermill": {
     "duration": 0.018685,
     "end_time": "2023-08-23T14:31:18.195637",
     "exception": false,
     "start_time": "2023-08-23T14:31:18.176952",
     "status": "completed"
    },
    "tags": []
   },
   "outputs": [],
   "source": [
    "class BERT(nn.Module):\n",
    "    def __init__(self):\n",
    "        super(BERT, self).__init__()\n",
    "        self.bert = BertModel.from_pretrained('/kaggle/input/hugging-face-models-safe-tensors/bert-base-uncased')\n",
    "\n",
    "        self.dropout = nn.Dropout(0.1)\n",
    "        self.linear1 = nn.Linear(768, 128)\n",
    "        self.linear2 = nn.Linear(128, 2)\n",
    "\n",
    "    def forward(self, input_ids, attention_mask):\n",
    "        outputs = self.bert(input_ids=input_ids, attention_mask=attention_mask)\n",
    "        pooled_output = outputs.pooler_output\n",
    "        pooled_output = self.dropout(pooled_output)\n",
    "        output = self.linear1(pooled_output)\n",
    "        output = nn.ReLU()(output)\n",
    "        output = self.linear2(output)\n",
    "        return output"
   ]
  },
  {
   "cell_type": "code",
   "execution_count": 13,
   "id": "2b2f65ad",
   "metadata": {
    "execution": {
     "iopub.execute_input": "2023-08-23T14:31:18.212722Z",
     "iopub.status.busy": "2023-08-23T14:31:18.212454Z",
     "iopub.status.idle": "2023-08-23T14:31:18.222185Z",
     "shell.execute_reply": "2023-08-23T14:31:18.221326Z"
    },
    "papermill": {
     "duration": 0.020644,
     "end_time": "2023-08-23T14:31:18.224420",
     "exception": false,
     "start_time": "2023-08-23T14:31:18.203776",
     "status": "completed"
    },
    "tags": []
   },
   "outputs": [
    {
     "name": "stdout",
     "output_type": "stream",
     "text": [
      "5016\n",
      "2149\n"
     ]
    }
   ],
   "source": [
    "train_ds, val_ds = random_split(ds, [0.7, 0.3])\n",
    "print(len(train_ds))\n",
    "print(len(val_ds))"
   ]
  },
  {
   "cell_type": "code",
   "execution_count": 14,
   "id": "7329d930",
   "metadata": {
    "execution": {
     "iopub.execute_input": "2023-08-23T14:31:18.242955Z",
     "iopub.status.busy": "2023-08-23T14:31:18.241309Z",
     "iopub.status.idle": "2023-08-23T14:31:18.247701Z",
     "shell.execute_reply": "2023-08-23T14:31:18.246865Z"
    },
    "papermill": {
     "duration": 0.017101,
     "end_time": "2023-08-23T14:31:18.249642",
     "exception": false,
     "start_time": "2023-08-23T14:31:18.232541",
     "status": "completed"
    },
    "tags": []
   },
   "outputs": [],
   "source": [
    "train_dataloader = DataLoader(\n",
    "            train_ds,  \n",
    "            batch_size = cfg.batch_size \n",
    ")\n",
    "\n",
    "val_dataloader = DataLoader(\n",
    "            val_ds,  \n",
    "            batch_size = cfg.batch_size\n",
    ")"
   ]
  },
  {
   "cell_type": "code",
   "execution_count": 15,
   "id": "a5f844e2",
   "metadata": {
    "execution": {
     "iopub.execute_input": "2023-08-23T14:31:18.267372Z",
     "iopub.status.busy": "2023-08-23T14:31:18.266554Z",
     "iopub.status.idle": "2023-08-23T14:31:18.336676Z",
     "shell.execute_reply": "2023-08-23T14:31:18.335404Z"
    },
    "papermill": {
     "duration": 0.081078,
     "end_time": "2023-08-23T14:31:18.338565",
     "exception": false,
     "start_time": "2023-08-23T14:31:18.257487",
     "status": "completed"
    },
    "tags": []
   },
   "outputs": [
    {
     "name": "stdout",
     "output_type": "stream",
     "text": [
      "GPU is available and being used\n"
     ]
    }
   ],
   "source": [
    "if torch.cuda.is_available():\n",
    "    device = torch.device(\"cuda\")\n",
    "    print(\"GPU is available and being used\")\n",
    "else:\n",
    "    device = torch.device(\"cpu\")\n",
    "    print(\"GPU is not available, using CPU instead\")"
   ]
  },
  {
   "cell_type": "code",
   "execution_count": 16,
   "id": "d6f441a1",
   "metadata": {
    "execution": {
     "iopub.execute_input": "2023-08-23T14:31:18.356818Z",
     "iopub.status.busy": "2023-08-23T14:31:18.356506Z",
     "iopub.status.idle": "2023-08-23T14:31:18.646845Z",
     "shell.execute_reply": "2023-08-23T14:31:18.645808Z"
    },
    "papermill": {
     "duration": 0.301439,
     "end_time": "2023-08-23T14:31:18.648849",
     "exception": false,
     "start_time": "2023-08-23T14:31:18.347410",
     "status": "completed"
    },
    "tags": []
   },
   "outputs": [],
   "source": [
    "import torch, gc\n",
    "gc.collect()\n",
    "torch.cuda.empty_cache()"
   ]
  },
  {
   "cell_type": "code",
   "execution_count": 17,
   "id": "a867526b",
   "metadata": {
    "execution": {
     "iopub.execute_input": "2023-08-23T14:31:18.668115Z",
     "iopub.status.busy": "2023-08-23T14:31:18.666459Z",
     "iopub.status.idle": "2023-08-23T14:31:24.967897Z",
     "shell.execute_reply": "2023-08-23T14:31:24.966916Z"
    },
    "papermill": {
     "duration": 6.313473,
     "end_time": "2023-08-23T14:31:24.970591",
     "exception": false,
     "start_time": "2023-08-23T14:31:18.657118",
     "status": "completed"
    },
    "tags": []
   },
   "outputs": [],
   "source": [
    "model = BERT().to(device)\n",
    "optimizer = torch.optim.AdamW(model.parameters(), lr=cfg.learning_rate)\n",
    "loss_fn = nn.MSELoss() # RMSE\n",
    "min_val_loss = np.inf"
   ]
  },
  {
   "cell_type": "code",
   "execution_count": 18,
   "id": "f49f7218",
   "metadata": {
    "execution": {
     "iopub.execute_input": "2023-08-23T14:31:24.988487Z",
     "iopub.status.busy": "2023-08-23T14:31:24.988149Z",
     "iopub.status.idle": "2023-08-23T15:31:46.297818Z",
     "shell.execute_reply": "2023-08-23T15:31:46.296253Z"
    },
    "papermill": {
     "duration": 3621.336875,
     "end_time": "2023-08-23T15:31:46.315817",
     "exception": false,
     "start_time": "2023-08-23T14:31:24.978942",
     "status": "completed"
    },
    "tags": []
   },
   "outputs": [
    {
     "name": "stdout",
     "output_type": "stream",
     "text": [
      "Epoch 1, Step 0, Loss: 0.848979115486145\n",
      "Epoch 1, Step 100, Loss: 1.1250687837600708\n",
      "Epoch 1, Step 200, Loss: 1.1927566528320312\n",
      "Epoch 1, Step 300, Loss: 1.2357035875320435\n",
      "Epoch 1, Step 400, Loss: 0.9880929589271545\n",
      "Epoch 1, Step 500, Loss: 0.7312555909156799\n",
      "Epoch 1, Step 600, Loss: 0.689263105392456\n",
      "Epoch 1 Loss: 0.9981179987414602\n",
      "Validation Loss: 1.0507835149765015\n",
      "saving model with score: 1.0507835149765015\n",
      "Epoch 2, Step 0, Loss: 0.7021633982658386\n",
      "Epoch 2, Step 100, Loss: 1.1829575300216675\n",
      "Epoch 2, Step 200, Loss: 1.2221643924713135\n",
      "Epoch 2, Step 300, Loss: 1.2478832006454468\n",
      "Epoch 2, Step 400, Loss: 0.9800765514373779\n",
      "Epoch 2, Step 500, Loss: 0.7153062224388123\n",
      "Epoch 2, Step 600, Loss: 0.6822487115859985\n",
      "Epoch 2 Loss: 0.9958473799521463\n",
      "Validation Loss: 1.0506322383880615\n",
      "saving model with score: 1.0506322383880615\n",
      "Epoch 3, Step 0, Loss: 0.6968439221382141\n",
      "Epoch 3, Step 100, Loss: 1.1948039531707764\n",
      "Epoch 3, Step 200, Loss: 1.1961569786071777\n",
      "Epoch 3, Step 300, Loss: 1.242724061012268\n",
      "Epoch 3, Step 400, Loss: 0.9875125885009766\n",
      "Epoch 3, Step 500, Loss: 0.72508305311203\n",
      "Epoch 3, Step 600, Loss: 0.6676762104034424\n",
      "Epoch 3 Loss: 0.9957906021075575\n",
      "Validation Loss: 1.0506075620651245\n",
      "saving model with score: 1.0506075620651245\n",
      "Epoch 4, Step 0, Loss: 0.6996724009513855\n",
      "Epoch 4, Step 100, Loss: 1.1621434688568115\n",
      "Epoch 4, Step 200, Loss: 1.2267022132873535\n",
      "Epoch 4, Step 300, Loss: 1.2434595823287964\n",
      "Epoch 4, Step 400, Loss: 0.9754764437675476\n",
      "Epoch 4, Step 500, Loss: 0.7309260964393616\n",
      "Epoch 4, Step 600, Loss: 0.6866723895072937\n",
      "Epoch 4 Loss: 0.9942935308295954\n",
      "Validation Loss: 1.0509005784988403\n",
      "Epoch 5, Step 0, Loss: 0.6976439952850342\n",
      "Epoch 5, Step 100, Loss: 1.1701992750167847\n",
      "Epoch 5, Step 200, Loss: 1.2212129831314087\n",
      "Epoch 5, Step 300, Loss: 1.2286643981933594\n",
      "Epoch 5, Step 400, Loss: 0.9944285750389099\n",
      "Epoch 5, Step 500, Loss: 0.7282778024673462\n",
      "Epoch 5, Step 600, Loss: 0.6728475689888\n",
      "Epoch 5 Loss: 0.9950448800787401\n",
      "Validation Loss: 1.0517029762268066\n",
      "Epoch 6, Step 0, Loss: 0.7177090644836426\n",
      "Epoch 6, Step 100, Loss: 1.1661581993103027\n",
      "Epoch 6, Step 200, Loss: 1.206501841545105\n",
      "Epoch 6, Step 300, Loss: 1.2327960729599\n",
      "Epoch 6, Step 400, Loss: 1.0003206729888916\n",
      "Epoch 6, Step 500, Loss: 0.7150097489356995\n",
      "Epoch 6, Step 600, Loss: 0.6838265657424927\n",
      "Epoch 6 Loss: 0.9946544943243693\n",
      "Validation Loss: 1.05111563205719\n",
      "Epoch 7, Step 0, Loss: 0.6873352527618408\n",
      "Epoch 7, Step 100, Loss: 1.1773613691329956\n",
      "Epoch 7, Step 200, Loss: 1.2247689962387085\n",
      "Epoch 7, Step 300, Loss: 1.2134425640106201\n",
      "Epoch 7, Step 400, Loss: 0.98240065574646\n",
      "Epoch 7, Step 500, Loss: 0.7293469905853271\n",
      "Epoch 7, Step 600, Loss: 0.6799161434173584\n",
      "Epoch 7 Loss: 0.9950119168089148\n",
      "Validation Loss: 1.0515530109405518\n",
      "Epoch 8, Step 0, Loss: 0.7172755002975464\n",
      "Epoch 8, Step 100, Loss: 1.1812744140625\n",
      "Epoch 8, Step 200, Loss: 1.2366819381713867\n",
      "Epoch 8, Step 300, Loss: 1.2553305625915527\n",
      "Epoch 8, Step 400, Loss: 0.9753555059432983\n",
      "Epoch 8, Step 500, Loss: 0.7109337449073792\n",
      "Epoch 8, Step 600, Loss: 0.6714056730270386\n",
      "Epoch 8 Loss: 0.9943468219925913\n",
      "Validation Loss: 1.051589846611023\n",
      "Epoch 9, Step 0, Loss: 0.6909207701683044\n",
      "Epoch 9, Step 100, Loss: 1.1684099435806274\n",
      "Epoch 9, Step 200, Loss: 1.2346535921096802\n",
      "Epoch 9, Step 300, Loss: 1.2539963722229004\n",
      "Epoch 9, Step 400, Loss: 0.992104172706604\n",
      "Epoch 9, Step 500, Loss: 0.7325635552406311\n",
      "Epoch 9, Step 600, Loss: 0.6709463000297546\n",
      "Epoch 9 Loss: 0.9944821813840425\n",
      "Validation Loss: 1.051539659500122\n",
      "Epoch 10, Step 0, Loss: 0.6906876564025879\n",
      "Epoch 10, Step 100, Loss: 1.1936554908752441\n",
      "Epoch 10, Step 200, Loss: 1.2163861989974976\n",
      "Epoch 10, Step 300, Loss: 1.2425748109817505\n",
      "Epoch 10, Step 400, Loss: 0.9852039217948914\n",
      "Epoch 10, Step 500, Loss: 0.7091802954673767\n",
      "Epoch 10, Step 600, Loss: 0.670106053352356\n",
      "Epoch 10 Loss: 0.9947736563674952\n",
      "Validation Loss: 1.0515122413635254\n",
      "Epoch 11, Step 0, Loss: 0.7002609372138977\n",
      "Epoch 11, Step 100, Loss: 1.1866225004196167\n",
      "Epoch 11, Step 200, Loss: 1.2196966409683228\n",
      "Epoch 11, Step 300, Loss: 1.2406091690063477\n",
      "Epoch 11, Step 400, Loss: 0.9892657995223999\n",
      "Epoch 11, Step 500, Loss: 0.7175173163414001\n",
      "Epoch 11, Step 600, Loss: 0.7041596174240112\n",
      "Epoch 11 Loss: 0.994762470705087\n",
      "Validation Loss: 1.0519071817398071\n",
      "Epoch 12, Step 0, Loss: 0.7070413827896118\n",
      "Epoch 12, Step 100, Loss: 1.21247398853302\n",
      "Epoch 12, Step 200, Loss: 1.2336281538009644\n",
      "Epoch 12, Step 300, Loss: 1.2338038682937622\n",
      "Epoch 12, Step 400, Loss: 0.9791297316551208\n",
      "Epoch 12, Step 500, Loss: 0.7100168466567993\n",
      "Epoch 12, Step 600, Loss: 0.6836615204811096\n",
      "Epoch 12 Loss: 0.9948201837341941\n",
      "Validation Loss: 1.0517138242721558\n",
      "Early Stopping trigerred on epoch: {}\n"
     ]
    }
   ],
   "source": [
    "# Training loop\n",
    "model.train()\n",
    "patience = 0\n",
    "\n",
    "for epoch in range(cfg.num_epochs):\n",
    "    running_loss = 0.0\n",
    "    for step, (input_ids, attention_mask, labels) in enumerate(train_dataloader):\n",
    "        input_ids = input_ids.to(device)\n",
    "        attention_mask = attention_mask.to(device)\n",
    "        labels = labels.to(device)\n",
    "        \n",
    "        optimizer.zero_grad()\n",
    "\n",
    "        outputs = model(input_ids, attention_mask)\n",
    "        loss = torch.sqrt(loss_fn(outputs, labels))\n",
    "        loss.backward()\n",
    "        optimizer.step()\n",
    "        if step % 100 == 0:\n",
    "            print(\"Epoch {}, Step {}, Loss: {}\".format(epoch+1, step, loss.item()))\n",
    "\n",
    "        running_loss += loss.item()\n",
    "\n",
    "    print(f\"Epoch {epoch+1} Loss: {running_loss / len(train_dataloader)}\")\n",
    "\n",
    "    # Validation loop\n",
    "    model.eval()\n",
    "    with torch.no_grad():\n",
    "        val_loss = 0.0\n",
    "        for val_step, (input_ids, attention_mask, labels) in enumerate(val_dataloader):\n",
    "            input_ids = input_ids.to(device)\n",
    "            attention_mask = attention_mask.to(device)\n",
    "            labels = labels.to(device)\n",
    "            \n",
    "            val_outputs = model(input_ids, attention_mask)\n",
    "            val_loss += loss_fn(val_outputs, labels) \n",
    "        avg_loss = val_loss / len(val_dataloader)\n",
    "        print(f\"Validation Loss: {avg_loss}\")\n",
    "        \n",
    "        if avg_loss < min_val_loss:\n",
    "            patience = 0\n",
    "            min_val_loss = avg_loss\n",
    "            torch.save(model.state_dict(), cfg.model_save_path)\n",
    "            print(f'saving model with score: {avg_loss}')\n",
    "            \n",
    "    patience += 1    \n",
    "    if patience >= 10:\n",
    "            print('Early Stopping trigerred on epoch: {}')\n",
    "            break\n",
    "            \n",
    "    model.train()"
   ]
  },
  {
   "cell_type": "code",
   "execution_count": 19,
   "id": "1dfbf1b5",
   "metadata": {
    "execution": {
     "iopub.execute_input": "2023-08-23T15:31:46.349954Z",
     "iopub.status.busy": "2023-08-23T15:31:46.349622Z",
     "iopub.status.idle": "2023-08-23T15:31:48.214832Z",
     "shell.execute_reply": "2023-08-23T15:31:48.213798Z"
    },
    "papermill": {
     "duration": 1.885419,
     "end_time": "2023-08-23T15:31:48.217442",
     "exception": false,
     "start_time": "2023-08-23T15:31:46.332023",
     "status": "completed"
    },
    "tags": []
   },
   "outputs": [],
   "source": [
    "model = BERT()\n",
    "model.load_state_dict(torch.load(cfg.model_save_path))\n",
    "model.eval()\n",
    "\n",
    "\n",
    "enc = tokenizer(list(test['text']),\n",
    "                   padding=True,\n",
    "                   truncation=True,\n",
    "                   max_length=cfg.token_max,\n",
    "                   return_tensors=\"pt\")\n",
    "\n",
    "test_ds = TensorDataset(enc['input_ids'], enc['attention_mask'])\n",
    "test_dataloader = torch.utils.data.DataLoader(test_ds, batch_size=16, shuffle=False)\n",
    "\n",
    "\n",
    "predictions = []\n",
    "with torch.no_grad():\n",
    "    for input_ids, attention_mask in test_dataloader:\n",
    "        input_ids = input_ids\n",
    "        attention_mask = attention_mask\n",
    "\n",
    "        outputs = model(input_ids, attention_mask)\n",
    "        predictions.extend(outputs.cpu().numpy())\n",
    "        "
   ]
  },
  {
   "cell_type": "code",
   "execution_count": 20,
   "id": "da7b2b80",
   "metadata": {
    "execution": {
     "iopub.execute_input": "2023-08-23T15:31:48.253378Z",
     "iopub.status.busy": "2023-08-23T15:31:48.251871Z",
     "iopub.status.idle": "2023-08-23T15:31:48.258818Z",
     "shell.execute_reply": "2023-08-23T15:31:48.258001Z"
    },
    "papermill": {
     "duration": 0.026029,
     "end_time": "2023-08-23T15:31:48.260736",
     "exception": false,
     "start_time": "2023-08-23T15:31:48.234707",
     "status": "completed"
    },
    "tags": []
   },
   "outputs": [],
   "source": [
    "submission_df = pd.DataFrame({\n",
    "    'student_id': test['student_id'],\n",
    "    'content': [pred[0] for pred in predictions],\n",
    "    'wording': [pred[1] for pred in predictions]\n",
    "})"
   ]
  },
  {
   "cell_type": "code",
   "execution_count": 21,
   "id": "3e61de82",
   "metadata": {
    "execution": {
     "iopub.execute_input": "2023-08-23T15:31:48.295910Z",
     "iopub.status.busy": "2023-08-23T15:31:48.294295Z",
     "iopub.status.idle": "2023-08-23T15:31:48.305296Z",
     "shell.execute_reply": "2023-08-23T15:31:48.304270Z"
    },
    "papermill": {
     "duration": 0.030464,
     "end_time": "2023-08-23T15:31:48.307720",
     "exception": false,
     "start_time": "2023-08-23T15:31:48.277256",
     "status": "completed"
    },
    "tags": []
   },
   "outputs": [
    {
     "data": {
      "text/html": [
       "<div>\n",
       "<style scoped>\n",
       "    .dataframe tbody tr th:only-of-type {\n",
       "        vertical-align: middle;\n",
       "    }\n",
       "\n",
       "    .dataframe tbody tr th {\n",
       "        vertical-align: top;\n",
       "    }\n",
       "\n",
       "    .dataframe thead th {\n",
       "        text-align: right;\n",
       "    }\n",
       "</style>\n",
       "<table border=\"1\" class=\"dataframe\">\n",
       "  <thead>\n",
       "    <tr style=\"text-align: right;\">\n",
       "      <th></th>\n",
       "      <th>student_id</th>\n",
       "      <th>content</th>\n",
       "      <th>wording</th>\n",
       "    </tr>\n",
       "  </thead>\n",
       "  <tbody>\n",
       "    <tr>\n",
       "      <th>0</th>\n",
       "      <td>000000ffffff</td>\n",
       "      <td>-0.076207</td>\n",
       "      <td>-0.126940</td>\n",
       "    </tr>\n",
       "    <tr>\n",
       "      <th>1</th>\n",
       "      <td>111111eeeeee</td>\n",
       "      <td>-0.076973</td>\n",
       "      <td>-0.126931</td>\n",
       "    </tr>\n",
       "    <tr>\n",
       "      <th>2</th>\n",
       "      <td>222222cccccc</td>\n",
       "      <td>-0.089709</td>\n",
       "      <td>-0.145704</td>\n",
       "    </tr>\n",
       "    <tr>\n",
       "      <th>3</th>\n",
       "      <td>333333dddddd</td>\n",
       "      <td>-0.085044</td>\n",
       "      <td>-0.138385</td>\n",
       "    </tr>\n",
       "  </tbody>\n",
       "</table>\n",
       "</div>"
      ],
      "text/plain": [
       "     student_id   content   wording\n",
       "0  000000ffffff -0.076207 -0.126940\n",
       "1  111111eeeeee -0.076973 -0.126931\n",
       "2  222222cccccc -0.089709 -0.145704\n",
       "3  333333dddddd -0.085044 -0.138385"
      ]
     },
     "execution_count": 21,
     "metadata": {},
     "output_type": "execute_result"
    }
   ],
   "source": [
    "submission_df"
   ]
  },
  {
   "cell_type": "code",
   "execution_count": 22,
   "id": "3b38832d",
   "metadata": {
    "execution": {
     "iopub.execute_input": "2023-08-23T15:31:48.344318Z",
     "iopub.status.busy": "2023-08-23T15:31:48.342499Z",
     "iopub.status.idle": "2023-08-23T15:31:48.350603Z",
     "shell.execute_reply": "2023-08-23T15:31:48.349679Z"
    },
    "papermill": {
     "duration": 0.028125,
     "end_time": "2023-08-23T15:31:48.352980",
     "exception": false,
     "start_time": "2023-08-23T15:31:48.324855",
     "status": "completed"
    },
    "tags": []
   },
   "outputs": [],
   "source": [
    "submission_df.to_csv('submission.csv', index=False)"
   ]
  },
  {
   "cell_type": "code",
   "execution_count": null,
   "id": "3c20d3ed",
   "metadata": {
    "papermill": {
     "duration": 0.016714,
     "end_time": "2023-08-23T15:31:48.388044",
     "exception": false,
     "start_time": "2023-08-23T15:31:48.371330",
     "status": "completed"
    },
    "tags": []
   },
   "outputs": [],
   "source": []
  }
 ],
 "metadata": {
  "kernelspec": {
   "display_name": "Python 3",
   "language": "python",
   "name": "python3"
  },
  "language_info": {
   "codemirror_mode": {
    "name": "ipython",
    "version": 3
   },
   "file_extension": ".py",
   "mimetype": "text/x-python",
   "name": "python",
   "nbconvert_exporter": "python",
   "pygments_lexer": "ipython3",
   "version": "3.10.12"
  },
  "papermill": {
   "default_parameters": {},
   "duration": 3691.42131,
   "end_time": "2023-08-23T15:31:52.110636",
   "environment_variables": {},
   "exception": null,
   "input_path": "__notebook__.ipynb",
   "output_path": "__notebook__.ipynb",
   "parameters": {},
   "start_time": "2023-08-23T14:30:20.689326",
   "version": "2.4.0"
  }
 },
 "nbformat": 4,
 "nbformat_minor": 5
}
