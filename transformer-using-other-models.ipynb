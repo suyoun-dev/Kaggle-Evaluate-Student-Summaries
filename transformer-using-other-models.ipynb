{
 "cells": [
  {
   "cell_type": "code",
   "execution_count": 1,
   "id": "43069de3",
   "metadata": {
    "_cell_guid": "b1076dfc-b9ad-4769-8c92-a6c4dae69d19",
    "_uuid": "8f2839f25d086af736a60e9eeb907d3b93b6e0e5",
    "execution": {
     "iopub.execute_input": "2023-08-30T21:44:51.854475Z",
     "iopub.status.busy": "2023-08-30T21:44:51.854036Z",
     "iopub.status.idle": "2023-08-30T21:44:51.875417Z",
     "shell.execute_reply": "2023-08-30T21:44:51.874520Z"
    },
    "papermill": {
     "duration": 0.03554,
     "end_time": "2023-08-30T21:44:51.877517",
     "exception": false,
     "start_time": "2023-08-30T21:44:51.841977",
     "status": "completed"
    },
    "tags": []
   },
   "outputs": [
    {
     "name": "stdout",
     "output_type": "stream",
     "text": [
      "/kaggle/input/hugging-face-models-safe-tensors/bert-base-uncased/config.json\n",
      "/kaggle/input/hugging-face-models-safe-tensors/bert-base-uncased/tokenizer_config.json\n",
      "/kaggle/input/hugging-face-models-safe-tensors/bert-base-uncased/pytorch_model.bin\n",
      "/kaggle/input/hugging-face-models-safe-tensors/bert-base-uncased/special_tokens_map.json\n",
      "/kaggle/input/hugging-face-models-safe-tensors/bert-base-uncased/vocab.txt\n",
      "/kaggle/input/commonlit-evaluate-student-summaries/sample_submission.csv\n",
      "/kaggle/input/commonlit-evaluate-student-summaries/prompts_train.csv\n",
      "/kaggle/input/commonlit-evaluate-student-summaries/summaries_test.csv\n",
      "/kaggle/input/commonlit-evaluate-student-summaries/summaries_train.csv\n",
      "/kaggle/input/commonlit-evaluate-student-summaries/prompts_test.csv\n"
     ]
    }
   ],
   "source": [
    "# This Python 3 environment comes with many helpful analytics libraries installed\n",
    "# It is defined by the kaggle/python Docker image: https://github.com/kaggle/docker-python\n",
    "# For example, here's several helpful packages to load\n",
    "\n",
    "import numpy as np # linear algebra\n",
    "import pandas as pd # data processing, CSV file I/O (e.g. pd.read_csv)\n",
    "\n",
    "# Input data files are available in the read-only \"../input/\" directory\n",
    "# For example, running this (by clicking run or pressing Shift+Enter) will list all files under the input directory\n",
    "\n",
    "import os\n",
    "for dirname, _, filenames in os.walk('/kaggle/input'):\n",
    "    for filename in filenames:\n",
    "        print(os.path.join(dirname, filename))\n",
    "\n",
    "# You can write up to 20GB to the current directory (/kaggle/working/) that gets preserved as output when you create a version using \"Save & Run All\" \n",
    "# You can also write temporary files to /kaggle/temp/, but they won't be saved outside of the current session"
   ]
  },
  {
   "cell_type": "markdown",
   "id": "759502b0",
   "metadata": {
    "papermill": {
     "duration": 0.009675,
     "end_time": "2023-08-30T21:44:51.897281",
     "exception": false,
     "start_time": "2023-08-30T21:44:51.887606",
     "status": "completed"
    },
    "tags": []
   },
   "source": [
    "## Reference: Bert Tokenizer + Fine-Tuning Model\n",
    "https://www.kaggle.com/code/theodorospsarras/bert-tokenizer-fine-tuning-model/input"
   ]
  },
  {
   "cell_type": "code",
   "execution_count": 2,
   "id": "a557f2b9",
   "metadata": {
    "execution": {
     "iopub.execute_input": "2023-08-30T21:44:51.918371Z",
     "iopub.status.busy": "2023-08-30T21:44:51.917520Z",
     "iopub.status.idle": "2023-08-30T21:44:51.921837Z",
     "shell.execute_reply": "2023-08-30T21:44:51.920983Z"
    },
    "papermill": {
     "duration": 0.016796,
     "end_time": "2023-08-30T21:44:51.923830",
     "exception": false,
     "start_time": "2023-08-30T21:44:51.907034",
     "status": "completed"
    },
    "tags": []
   },
   "outputs": [],
   "source": [
    "#!pip install torch"
   ]
  },
  {
   "cell_type": "code",
   "execution_count": 3,
   "id": "4a0c11b4",
   "metadata": {
    "execution": {
     "iopub.execute_input": "2023-08-30T21:44:51.944684Z",
     "iopub.status.busy": "2023-08-30T21:44:51.943928Z",
     "iopub.status.idle": "2023-08-30T21:44:57.496618Z",
     "shell.execute_reply": "2023-08-30T21:44:57.495617Z"
    },
    "papermill": {
     "duration": 5.565463,
     "end_time": "2023-08-30T21:44:57.498985",
     "exception": false,
     "start_time": "2023-08-30T21:44:51.933522",
     "status": "completed"
    },
    "tags": []
   },
   "outputs": [],
   "source": [
    "import torch\n",
    "import torch.nn as nn\n",
    "from transformers import AutoTokenizer, AutoModel,AutoModelForSequenceClassification\n",
    "import pandas as pd\n",
    "import torch.nn.functional as F\n",
    "import numpy as np"
   ]
  },
  {
   "cell_type": "code",
   "execution_count": 4,
   "id": "37e1a48a",
   "metadata": {
    "execution": {
     "iopub.execute_input": "2023-08-30T21:44:57.521576Z",
     "iopub.status.busy": "2023-08-30T21:44:57.519906Z",
     "iopub.status.idle": "2023-08-30T21:44:57.525043Z",
     "shell.execute_reply": "2023-08-30T21:44:57.524175Z"
    },
    "papermill": {
     "duration": 0.018017,
     "end_time": "2023-08-30T21:44:57.527240",
     "exception": false,
     "start_time": "2023-08-30T21:44:57.509223",
     "status": "completed"
    },
    "tags": []
   },
   "outputs": [],
   "source": [
    "#import os\n",
    "\n",
    "#os.environ['CUDA_VISIBLE_DEVICES']  = \"0\"\n",
    "\n",
    "#torch.cuda.device_count()"
   ]
  },
  {
   "cell_type": "code",
   "execution_count": 5,
   "id": "7bda83c7",
   "metadata": {
    "execution": {
     "iopub.execute_input": "2023-08-30T21:44:57.548062Z",
     "iopub.status.busy": "2023-08-30T21:44:57.547792Z",
     "iopub.status.idle": "2023-08-30T21:44:57.699297Z",
     "shell.execute_reply": "2023-08-30T21:44:57.698259Z"
    },
    "papermill": {
     "duration": 0.164484,
     "end_time": "2023-08-30T21:44:57.701453",
     "exception": false,
     "start_time": "2023-08-30T21:44:57.536969",
     "status": "completed"
    },
    "tags": []
   },
   "outputs": [
    {
     "data": {
      "text/html": [
       "<div>\n",
       "<style scoped>\n",
       "    .dataframe tbody tr th:only-of-type {\n",
       "        vertical-align: middle;\n",
       "    }\n",
       "\n",
       "    .dataframe tbody tr th {\n",
       "        vertical-align: top;\n",
       "    }\n",
       "\n",
       "    .dataframe thead th {\n",
       "        text-align: right;\n",
       "    }\n",
       "</style>\n",
       "<table border=\"1\" class=\"dataframe\">\n",
       "  <thead>\n",
       "    <tr style=\"text-align: right;\">\n",
       "      <th></th>\n",
       "      <th>prompt_id</th>\n",
       "      <th>prompt_question</th>\n",
       "      <th>prompt_title</th>\n",
       "      <th>prompt_text</th>\n",
       "    </tr>\n",
       "  </thead>\n",
       "  <tbody>\n",
       "    <tr>\n",
       "      <th>0</th>\n",
       "      <td>39c16e</td>\n",
       "      <td>Summarize at least 3 elements of an ideal trag...</td>\n",
       "      <td>On Tragedy</td>\n",
       "      <td>Chapter 13 \\r\\nAs the sequel to what has alrea...</td>\n",
       "    </tr>\n",
       "    <tr>\n",
       "      <th>1</th>\n",
       "      <td>3b9047</td>\n",
       "      <td>In complete sentences, summarize the structure...</td>\n",
       "      <td>Egyptian Social Structure</td>\n",
       "      <td>Egyptian society was structured like a pyramid...</td>\n",
       "    </tr>\n",
       "    <tr>\n",
       "      <th>2</th>\n",
       "      <td>814d6b</td>\n",
       "      <td>Summarize how the Third Wave developed over su...</td>\n",
       "      <td>The Third Wave</td>\n",
       "      <td>Background \\r\\nThe Third Wave experiment took ...</td>\n",
       "    </tr>\n",
       "    <tr>\n",
       "      <th>3</th>\n",
       "      <td>ebad26</td>\n",
       "      <td>Summarize the various ways the factory would u...</td>\n",
       "      <td>Excerpt from The Jungle</td>\n",
       "      <td>With one member trimming beef in a cannery, an...</td>\n",
       "    </tr>\n",
       "  </tbody>\n",
       "</table>\n",
       "</div>"
      ],
      "text/plain": [
       "  prompt_id                                    prompt_question  \\\n",
       "0    39c16e  Summarize at least 3 elements of an ideal trag...   \n",
       "1    3b9047  In complete sentences, summarize the structure...   \n",
       "2    814d6b  Summarize how the Third Wave developed over su...   \n",
       "3    ebad26  Summarize the various ways the factory would u...   \n",
       "\n",
       "                prompt_title  \\\n",
       "0                 On Tragedy   \n",
       "1  Egyptian Social Structure   \n",
       "2             The Third Wave   \n",
       "3    Excerpt from The Jungle   \n",
       "\n",
       "                                         prompt_text  \n",
       "0  Chapter 13 \\r\\nAs the sequel to what has alrea...  \n",
       "1  Egyptian society was structured like a pyramid...  \n",
       "2  Background \\r\\nThe Third Wave experiment took ...  \n",
       "3  With one member trimming beef in a cannery, an...  "
      ]
     },
     "execution_count": 5,
     "metadata": {},
     "output_type": "execute_result"
    }
   ],
   "source": [
    "prompts_train = pd.read_csv(\"/kaggle/input/commonlit-evaluate-student-summaries/prompts_train.csv\")\n",
    "prompts_test = pd.read_csv(\"/kaggle/input/commonlit-evaluate-student-summaries/prompts_test.csv\")\n",
    "\n",
    "summaries_train = pd.read_csv(\"/kaggle/input/commonlit-evaluate-student-summaries/summaries_train.csv\")\n",
    "summaries_test = pd.read_csv(\"/kaggle/input/commonlit-evaluate-student-summaries/summaries_test.csv\")\n",
    "\n",
    "sample_submission = pd.read_csv(\"/kaggle/input/commonlit-evaluate-student-summaries/sample_submission.csv\")\n",
    "\n",
    "prompts_train"
   ]
  },
  {
   "cell_type": "markdown",
   "id": "2b0ce020",
   "metadata": {
    "papermill": {
     "duration": 0.010205,
     "end_time": "2023-08-30T21:44:57.722760",
     "exception": false,
     "start_time": "2023-08-30T21:44:57.712555",
     "status": "completed"
    },
    "tags": []
   },
   "source": [
    "1. prompt 파일과 train/test 파일 merge 하기"
   ]
  },
  {
   "cell_type": "code",
   "execution_count": 6,
   "id": "5df14cb5",
   "metadata": {
    "execution": {
     "iopub.execute_input": "2023-08-30T21:44:57.744722Z",
     "iopub.status.busy": "2023-08-30T21:44:57.744400Z",
     "iopub.status.idle": "2023-08-30T21:44:57.779240Z",
     "shell.execute_reply": "2023-08-30T21:44:57.778223Z"
    },
    "papermill": {
     "duration": 0.048324,
     "end_time": "2023-08-30T21:44:57.781240",
     "exception": false,
     "start_time": "2023-08-30T21:44:57.732916",
     "status": "completed"
    },
    "tags": []
   },
   "outputs": [
    {
     "data": {
      "text/html": [
       "<div>\n",
       "<style scoped>\n",
       "    .dataframe tbody tr th:only-of-type {\n",
       "        vertical-align: middle;\n",
       "    }\n",
       "\n",
       "    .dataframe tbody tr th {\n",
       "        vertical-align: top;\n",
       "    }\n",
       "\n",
       "    .dataframe thead th {\n",
       "        text-align: right;\n",
       "    }\n",
       "</style>\n",
       "<table border=\"1\" class=\"dataframe\">\n",
       "  <thead>\n",
       "    <tr style=\"text-align: right;\">\n",
       "      <th></th>\n",
       "      <th>student_id</th>\n",
       "      <th>prompt_id</th>\n",
       "      <th>text</th>\n",
       "      <th>content</th>\n",
       "      <th>wording</th>\n",
       "      <th>prompt_question</th>\n",
       "      <th>prompt_title</th>\n",
       "      <th>prompt_text</th>\n",
       "    </tr>\n",
       "  </thead>\n",
       "  <tbody>\n",
       "    <tr>\n",
       "      <th>0</th>\n",
       "      <td>000e8c3c7ddb</td>\n",
       "      <td>814d6b</td>\n",
       "      <td>The third wave was an experimentto see how peo...</td>\n",
       "      <td>0.205683</td>\n",
       "      <td>0.380538</td>\n",
       "      <td>Summarize how the Third Wave developed over su...</td>\n",
       "      <td>The Third Wave</td>\n",
       "      <td>Background \\r\\nThe Third Wave experiment took ...</td>\n",
       "    </tr>\n",
       "    <tr>\n",
       "      <th>1</th>\n",
       "      <td>0020ae56ffbf</td>\n",
       "      <td>ebad26</td>\n",
       "      <td>They would rub it up with soda to make the sme...</td>\n",
       "      <td>-0.548304</td>\n",
       "      <td>0.506755</td>\n",
       "      <td>Summarize the various ways the factory would u...</td>\n",
       "      <td>Excerpt from The Jungle</td>\n",
       "      <td>With one member trimming beef in a cannery, an...</td>\n",
       "    </tr>\n",
       "    <tr>\n",
       "      <th>2</th>\n",
       "      <td>004e978e639e</td>\n",
       "      <td>3b9047</td>\n",
       "      <td>In Egypt, there were many occupations and soci...</td>\n",
       "      <td>3.128928</td>\n",
       "      <td>4.231226</td>\n",
       "      <td>In complete sentences, summarize the structure...</td>\n",
       "      <td>Egyptian Social Structure</td>\n",
       "      <td>Egyptian society was structured like a pyramid...</td>\n",
       "    </tr>\n",
       "    <tr>\n",
       "      <th>3</th>\n",
       "      <td>005ab0199905</td>\n",
       "      <td>3b9047</td>\n",
       "      <td>The highest class was Pharaohs these people we...</td>\n",
       "      <td>-0.210614</td>\n",
       "      <td>-0.471415</td>\n",
       "      <td>In complete sentences, summarize the structure...</td>\n",
       "      <td>Egyptian Social Structure</td>\n",
       "      <td>Egyptian society was structured like a pyramid...</td>\n",
       "    </tr>\n",
       "    <tr>\n",
       "      <th>4</th>\n",
       "      <td>0070c9e7af47</td>\n",
       "      <td>814d6b</td>\n",
       "      <td>The Third Wave developed  rapidly because the ...</td>\n",
       "      <td>3.272894</td>\n",
       "      <td>3.219757</td>\n",
       "      <td>Summarize how the Third Wave developed over su...</td>\n",
       "      <td>The Third Wave</td>\n",
       "      <td>Background \\r\\nThe Third Wave experiment took ...</td>\n",
       "    </tr>\n",
       "    <tr>\n",
       "      <th>...</th>\n",
       "      <td>...</td>\n",
       "      <td>...</td>\n",
       "      <td>...</td>\n",
       "      <td>...</td>\n",
       "      <td>...</td>\n",
       "      <td>...</td>\n",
       "      <td>...</td>\n",
       "      <td>...</td>\n",
       "    </tr>\n",
       "    <tr>\n",
       "      <th>7160</th>\n",
       "      <td>ff7c7e70df07</td>\n",
       "      <td>ebad26</td>\n",
       "      <td>They used all sorts of chemical concoctions to...</td>\n",
       "      <td>0.205683</td>\n",
       "      <td>0.380538</td>\n",
       "      <td>Summarize the various ways the factory would u...</td>\n",
       "      <td>Excerpt from The Jungle</td>\n",
       "      <td>With one member trimming beef in a cannery, an...</td>\n",
       "    </tr>\n",
       "    <tr>\n",
       "      <th>7161</th>\n",
       "      <td>ffc34d056498</td>\n",
       "      <td>3b9047</td>\n",
       "      <td>The lowest classes are slaves and farmers slav...</td>\n",
       "      <td>-0.308448</td>\n",
       "      <td>0.048171</td>\n",
       "      <td>In complete sentences, summarize the structure...</td>\n",
       "      <td>Egyptian Social Structure</td>\n",
       "      <td>Egyptian society was structured like a pyramid...</td>\n",
       "    </tr>\n",
       "    <tr>\n",
       "      <th>7162</th>\n",
       "      <td>ffd1576d2e1b</td>\n",
       "      <td>3b9047</td>\n",
       "      <td>they sorta made people start workin...</td>\n",
       "      <td>-1.408180</td>\n",
       "      <td>-0.493603</td>\n",
       "      <td>In complete sentences, summarize the structure...</td>\n",
       "      <td>Egyptian Social Structure</td>\n",
       "      <td>Egyptian society was structured like a pyramid...</td>\n",
       "    </tr>\n",
       "    <tr>\n",
       "      <th>7163</th>\n",
       "      <td>ffe4a98093b2</td>\n",
       "      <td>39c16e</td>\n",
       "      <td>An ideal tragety has three elements that make ...</td>\n",
       "      <td>-0.393310</td>\n",
       "      <td>0.627128</td>\n",
       "      <td>Summarize at least 3 elements of an ideal trag...</td>\n",
       "      <td>On Tragedy</td>\n",
       "      <td>Chapter 13 \\r\\nAs the sequel to what has alrea...</td>\n",
       "    </tr>\n",
       "    <tr>\n",
       "      <th>7164</th>\n",
       "      <td>fffbccfd8a08</td>\n",
       "      <td>ebad26</td>\n",
       "      <td>The meat would smell sour but the would \"rub i...</td>\n",
       "      <td>1.771596</td>\n",
       "      <td>0.547742</td>\n",
       "      <td>Summarize the various ways the factory would u...</td>\n",
       "      <td>Excerpt from The Jungle</td>\n",
       "      <td>With one member trimming beef in a cannery, an...</td>\n",
       "    </tr>\n",
       "  </tbody>\n",
       "</table>\n",
       "<p>7165 rows × 8 columns</p>\n",
       "</div>"
      ],
      "text/plain": [
       "        student_id prompt_id  \\\n",
       "0     000e8c3c7ddb    814d6b   \n",
       "1     0020ae56ffbf    ebad26   \n",
       "2     004e978e639e    3b9047   \n",
       "3     005ab0199905    3b9047   \n",
       "4     0070c9e7af47    814d6b   \n",
       "...            ...       ...   \n",
       "7160  ff7c7e70df07    ebad26   \n",
       "7161  ffc34d056498    3b9047   \n",
       "7162  ffd1576d2e1b    3b9047   \n",
       "7163  ffe4a98093b2    39c16e   \n",
       "7164  fffbccfd8a08    ebad26   \n",
       "\n",
       "                                                   text   content   wording  \\\n",
       "0     The third wave was an experimentto see how peo...  0.205683  0.380538   \n",
       "1     They would rub it up with soda to make the sme... -0.548304  0.506755   \n",
       "2     In Egypt, there were many occupations and soci...  3.128928  4.231226   \n",
       "3     The highest class was Pharaohs these people we... -0.210614 -0.471415   \n",
       "4     The Third Wave developed  rapidly because the ...  3.272894  3.219757   \n",
       "...                                                 ...       ...       ...   \n",
       "7160  They used all sorts of chemical concoctions to...  0.205683  0.380538   \n",
       "7161  The lowest classes are slaves and farmers slav... -0.308448  0.048171   \n",
       "7162             they sorta made people start workin... -1.408180 -0.493603   \n",
       "7163  An ideal tragety has three elements that make ... -0.393310  0.627128   \n",
       "7164  The meat would smell sour but the would \"rub i...  1.771596  0.547742   \n",
       "\n",
       "                                        prompt_question  \\\n",
       "0     Summarize how the Third Wave developed over su...   \n",
       "1     Summarize the various ways the factory would u...   \n",
       "2     In complete sentences, summarize the structure...   \n",
       "3     In complete sentences, summarize the structure...   \n",
       "4     Summarize how the Third Wave developed over su...   \n",
       "...                                                 ...   \n",
       "7160  Summarize the various ways the factory would u...   \n",
       "7161  In complete sentences, summarize the structure...   \n",
       "7162  In complete sentences, summarize the structure...   \n",
       "7163  Summarize at least 3 elements of an ideal trag...   \n",
       "7164  Summarize the various ways the factory would u...   \n",
       "\n",
       "                   prompt_title  \\\n",
       "0                The Third Wave   \n",
       "1       Excerpt from The Jungle   \n",
       "2     Egyptian Social Structure   \n",
       "3     Egyptian Social Structure   \n",
       "4                The Third Wave   \n",
       "...                         ...   \n",
       "7160    Excerpt from The Jungle   \n",
       "7161  Egyptian Social Structure   \n",
       "7162  Egyptian Social Structure   \n",
       "7163                 On Tragedy   \n",
       "7164    Excerpt from The Jungle   \n",
       "\n",
       "                                            prompt_text  \n",
       "0     Background \\r\\nThe Third Wave experiment took ...  \n",
       "1     With one member trimming beef in a cannery, an...  \n",
       "2     Egyptian society was structured like a pyramid...  \n",
       "3     Egyptian society was structured like a pyramid...  \n",
       "4     Background \\r\\nThe Third Wave experiment took ...  \n",
       "...                                                 ...  \n",
       "7160  With one member trimming beef in a cannery, an...  \n",
       "7161  Egyptian society was structured like a pyramid...  \n",
       "7162  Egyptian society was structured like a pyramid...  \n",
       "7163  Chapter 13 \\r\\nAs the sequel to what has alrea...  \n",
       "7164  With one member trimming beef in a cannery, an...  \n",
       "\n",
       "[7165 rows x 8 columns]"
      ]
     },
     "execution_count": 6,
     "metadata": {},
     "output_type": "execute_result"
    }
   ],
   "source": [
    "# dataframe 병합, prompt id 기준으로 각 아이디에 맞는 prompts_train, test 내용을 왼쪽에 붙임\n",
    "train = summaries_train.merge(prompts_train, how=\"left\", on=\"prompt_id\")\n",
    "test = summaries_test.merge(prompts_test, how=\"left\", on=\"prompt_id\")\n",
    "\n",
    "train"
   ]
  },
  {
   "cell_type": "code",
   "execution_count": 7,
   "id": "97a74052",
   "metadata": {
    "execution": {
     "iopub.execute_input": "2023-08-30T21:44:57.803329Z",
     "iopub.status.busy": "2023-08-30T21:44:57.803031Z",
     "iopub.status.idle": "2023-08-30T21:44:57.814762Z",
     "shell.execute_reply": "2023-08-30T21:44:57.813883Z"
    },
    "papermill": {
     "duration": 0.024991,
     "end_time": "2023-08-30T21:44:57.816871",
     "exception": false,
     "start_time": "2023-08-30T21:44:57.791880",
     "status": "completed"
    },
    "tags": []
   },
   "outputs": [
    {
     "data": {
      "text/html": [
       "<div>\n",
       "<style scoped>\n",
       "    .dataframe tbody tr th:only-of-type {\n",
       "        vertical-align: middle;\n",
       "    }\n",
       "\n",
       "    .dataframe tbody tr th {\n",
       "        vertical-align: top;\n",
       "    }\n",
       "\n",
       "    .dataframe thead th {\n",
       "        text-align: right;\n",
       "    }\n",
       "</style>\n",
       "<table border=\"1\" class=\"dataframe\">\n",
       "  <thead>\n",
       "    <tr style=\"text-align: right;\">\n",
       "      <th></th>\n",
       "      <th>student_id</th>\n",
       "      <th>prompt_id</th>\n",
       "      <th>text</th>\n",
       "      <th>prompt_question</th>\n",
       "      <th>prompt_title</th>\n",
       "      <th>prompt_text</th>\n",
       "    </tr>\n",
       "  </thead>\n",
       "  <tbody>\n",
       "    <tr>\n",
       "      <th>0</th>\n",
       "      <td>000000ffffff</td>\n",
       "      <td>abc123</td>\n",
       "      <td>Example text 1</td>\n",
       "      <td>Summarize...</td>\n",
       "      <td>Example Title 1</td>\n",
       "      <td>Heading\\nText...</td>\n",
       "    </tr>\n",
       "    <tr>\n",
       "      <th>1</th>\n",
       "      <td>111111eeeeee</td>\n",
       "      <td>def789</td>\n",
       "      <td>Example text 2</td>\n",
       "      <td>Summarize...</td>\n",
       "      <td>Example Title 2</td>\n",
       "      <td>Heading\\nText...</td>\n",
       "    </tr>\n",
       "    <tr>\n",
       "      <th>2</th>\n",
       "      <td>222222cccccc</td>\n",
       "      <td>abc123</td>\n",
       "      <td>Example text 3</td>\n",
       "      <td>Summarize...</td>\n",
       "      <td>Example Title 1</td>\n",
       "      <td>Heading\\nText...</td>\n",
       "    </tr>\n",
       "    <tr>\n",
       "      <th>3</th>\n",
       "      <td>333333dddddd</td>\n",
       "      <td>def789</td>\n",
       "      <td>Example text 4</td>\n",
       "      <td>Summarize...</td>\n",
       "      <td>Example Title 2</td>\n",
       "      <td>Heading\\nText...</td>\n",
       "    </tr>\n",
       "  </tbody>\n",
       "</table>\n",
       "</div>"
      ],
      "text/plain": [
       "     student_id prompt_id            text prompt_question     prompt_title  \\\n",
       "0  000000ffffff    abc123  Example text 1    Summarize...  Example Title 1   \n",
       "1  111111eeeeee    def789  Example text 2    Summarize...  Example Title 2   \n",
       "2  222222cccccc    abc123  Example text 3    Summarize...  Example Title 1   \n",
       "3  333333dddddd    def789  Example text 4    Summarize...  Example Title 2   \n",
       "\n",
       "        prompt_text  \n",
       "0  Heading\\nText...  \n",
       "1  Heading\\nText...  \n",
       "2  Heading\\nText...  \n",
       "3  Heading\\nText...  "
      ]
     },
     "execution_count": 7,
     "metadata": {},
     "output_type": "execute_result"
    }
   ],
   "source": [
    "test"
   ]
  },
  {
   "cell_type": "code",
   "execution_count": 8,
   "id": "458261ff",
   "metadata": {
    "execution": {
     "iopub.execute_input": "2023-08-30T21:44:57.840649Z",
     "iopub.status.busy": "2023-08-30T21:44:57.840387Z",
     "iopub.status.idle": "2023-08-30T21:44:57.906787Z",
     "shell.execute_reply": "2023-08-30T21:44:57.905717Z"
    },
    "papermill": {
     "duration": 0.081799,
     "end_time": "2023-08-30T21:44:57.909573",
     "exception": false,
     "start_time": "2023-08-30T21:44:57.827774",
     "status": "completed"
    },
    "tags": []
   },
   "outputs": [
    {
     "data": {
      "text/plain": [
       "0    text The third wave was an experimentto see ho...\n",
       "1    text They would rub it up with soda to make th...\n",
       "Name: merged_text, dtype: object"
      ]
     },
     "execution_count": 8,
     "metadata": {},
     "output_type": "execute_result"
    }
   ],
   "source": [
    "train['merged_text'] = 'text '+train['text'] + ' prompt_question ' + train['prompt_question'] + ' prompt_title '+train['prompt_title']+ ' prompt_text '+train['prompt_text']\n",
    "train['merged_text'].head(2)"
   ]
  },
  {
   "cell_type": "code",
   "execution_count": 9,
   "id": "6894a70d",
   "metadata": {
    "execution": {
     "iopub.execute_input": "2023-08-30T21:44:57.932512Z",
     "iopub.status.busy": "2023-08-30T21:44:57.932229Z",
     "iopub.status.idle": "2023-08-30T21:44:57.942796Z",
     "shell.execute_reply": "2023-08-30T21:44:57.941881Z"
    },
    "papermill": {
     "duration": 0.024218,
     "end_time": "2023-08-30T21:44:57.944765",
     "exception": false,
     "start_time": "2023-08-30T21:44:57.920547",
     "status": "completed"
    },
    "tags": []
   },
   "outputs": [
    {
     "data": {
      "text/plain": [
       "0    text Example text 1 prompt_question Summarize....\n",
       "1    text Example text 2 prompt_question Summarize....\n",
       "Name: merged_text, dtype: object"
      ]
     },
     "execution_count": 9,
     "metadata": {},
     "output_type": "execute_result"
    }
   ],
   "source": [
    "test['merged_text'] = 'text '+ test['text'] + ' prompt_question ' + test['prompt_question'] + ' prompt_title '+ test['prompt_title']+ ' prompt_text '+ test['prompt_text']\n",
    "test['merged_text'].head(2)"
   ]
  },
  {
   "cell_type": "code",
   "execution_count": 10,
   "id": "eee2cf62",
   "metadata": {
    "execution": {
     "iopub.execute_input": "2023-08-30T21:44:57.967717Z",
     "iopub.status.busy": "2023-08-30T21:44:57.967143Z",
     "iopub.status.idle": "2023-08-30T21:44:57.972436Z",
     "shell.execute_reply": "2023-08-30T21:44:57.971519Z"
    },
    "papermill": {
     "duration": 0.018908,
     "end_time": "2023-08-30T21:44:57.974456",
     "exception": false,
     "start_time": "2023-08-30T21:44:57.955548",
     "status": "completed"
    },
    "tags": []
   },
   "outputs": [],
   "source": [
    "class CFG:\n",
    "    def __init__(self):\n",
    "        self.model_name = '/kaggle/input/hugging-face-models-safe-tensors/bert-base-uncased'\n",
    "        self.tokenizer_path = '/kaggle/input/hugging-face-models-safe-tensors/bert-base-uncased'\n",
    "        self.batch_size = 16\n",
    "        self.num_epochs = 40\n",
    "        self.token_max = 512\n",
    "        self.learning_rate = 1e-5\n",
    "        self.model_save_path = '/kaggle/working/model.pt'\n",
    "\n",
    "cfg = CFG()"
   ]
  },
  {
   "cell_type": "code",
   "execution_count": 11,
   "id": "c282be8f",
   "metadata": {
    "execution": {
     "iopub.execute_input": "2023-08-30T21:44:57.997680Z",
     "iopub.status.busy": "2023-08-30T21:44:57.997018Z",
     "iopub.status.idle": "2023-08-30T21:45:06.090121Z",
     "shell.execute_reply": "2023-08-30T21:45:06.089192Z"
    },
    "papermill": {
     "duration": 8.107414,
     "end_time": "2023-08-30T21:45:06.092642",
     "exception": false,
     "start_time": "2023-08-30T21:44:57.985228",
     "status": "completed"
    },
    "tags": []
   },
   "outputs": [
    {
     "name": "stderr",
     "output_type": "stream",
     "text": [
      "/opt/conda/lib/python3.10/site-packages/scipy/__init__.py:146: UserWarning: A NumPy version >=1.16.5 and <1.23.0 is required for this version of SciPy (detected version 1.23.5\n",
      "  warnings.warn(f\"A NumPy version >={np_minversion} and <{np_maxversion}\"\n",
      "/opt/conda/lib/python3.10/site-packages/tensorflow_io/python/ops/__init__.py:98: UserWarning: unable to load libtensorflow_io_plugins.so: unable to open file: libtensorflow_io_plugins.so, from paths: ['/opt/conda/lib/python3.10/site-packages/tensorflow_io/python/ops/libtensorflow_io_plugins.so']\n",
      "caused by: ['/opt/conda/lib/python3.10/site-packages/tensorflow_io/python/ops/libtensorflow_io_plugins.so: undefined symbol: _ZN3tsl6StatusC1EN10tensorflow5error4CodeESt17basic_string_viewIcSt11char_traitsIcEENS_14SourceLocationE']\n",
      "  warnings.warn(f\"unable to load libtensorflow_io_plugins.so: {e}\")\n",
      "/opt/conda/lib/python3.10/site-packages/tensorflow_io/python/ops/__init__.py:104: UserWarning: file system plugins are not loaded: unable to open file: libtensorflow_io.so, from paths: ['/opt/conda/lib/python3.10/site-packages/tensorflow_io/python/ops/libtensorflow_io.so']\n",
      "caused by: ['/opt/conda/lib/python3.10/site-packages/tensorflow_io/python/ops/libtensorflow_io.so: undefined symbol: _ZTVN10tensorflow13GcsFileSystemE']\n",
      "  warnings.warn(f\"file system plugins are not loaded: {e}\")\n"
     ]
    }
   ],
   "source": [
    "from transformers import BertModel, BertTokenizer"
   ]
  },
  {
   "cell_type": "code",
   "execution_count": 12,
   "id": "e1df1e2e",
   "metadata": {
    "execution": {
     "iopub.execute_input": "2023-08-30T21:45:06.116513Z",
     "iopub.status.busy": "2023-08-30T21:45:06.116198Z",
     "iopub.status.idle": "2023-08-30T21:45:13.107541Z",
     "shell.execute_reply": "2023-08-30T21:45:13.106463Z"
    },
    "papermill": {
     "duration": 7.006022,
     "end_time": "2023-08-30T21:45:13.109971",
     "exception": false,
     "start_time": "2023-08-30T21:45:06.103949",
     "status": "completed"
    },
    "tags": []
   },
   "outputs": [],
   "source": [
    "tokenizer = BertTokenizer.from_pretrained(cfg.tokenizer_path)\n",
    "model_deberta = BertModel.from_pretrained(cfg.model_name)"
   ]
  },
  {
   "cell_type": "code",
   "execution_count": 13,
   "id": "cb9e589e",
   "metadata": {
    "execution": {
     "iopub.execute_input": "2023-08-30T21:45:13.134259Z",
     "iopub.status.busy": "2023-08-30T21:45:13.133943Z",
     "iopub.status.idle": "2023-08-30T21:45:13.139079Z",
     "shell.execute_reply": "2023-08-30T21:45:13.138196Z"
    },
    "papermill": {
     "duration": 0.01953,
     "end_time": "2023-08-30T21:45:13.141204",
     "exception": false,
     "start_time": "2023-08-30T21:45:13.121674",
     "status": "completed"
    },
    "tags": []
   },
   "outputs": [],
   "source": [
    "from itertools import chain\n",
    "from torch.utils.data import TensorDataset, DataLoader, random_split"
   ]
  },
  {
   "cell_type": "code",
   "execution_count": 14,
   "id": "64cd312e",
   "metadata": {
    "execution": {
     "iopub.execute_input": "2023-08-30T21:45:13.164762Z",
     "iopub.status.busy": "2023-08-30T21:45:13.164503Z",
     "iopub.status.idle": "2023-08-30T21:48:46.792785Z",
     "shell.execute_reply": "2023-08-30T21:48:46.791743Z"
    },
    "papermill": {
     "duration": 213.643588,
     "end_time": "2023-08-30T21:48:46.795954",
     "exception": false,
     "start_time": "2023-08-30T21:45:13.152366",
     "status": "completed"
    },
    "tags": []
   },
   "outputs": [],
   "source": [
    "def get_dataset(df):\n",
    "    encoding = tokenizer(list(train['merged_text']),\n",
    "                   padding=True,\n",
    "                   truncation=True,\n",
    "                   max_length=cfg.token_max,\n",
    "                   return_tensors=\"pt\")\n",
    "    content = torch.tensor(df['content'], dtype=torch.float32)\n",
    "    wording = torch.tensor(df['wording'], dtype=torch.float32)\n",
    "    labels = torch.dstack((content, wording)).squeeze()\n",
    "    dataset = TensorDataset(encoding['input_ids'], encoding['attention_mask'], labels)\n",
    "    return dataset\n",
    "\n",
    "ds = get_dataset(train)"
   ]
  },
  {
   "cell_type": "code",
   "execution_count": 15,
   "id": "130c2887",
   "metadata": {
    "execution": {
     "iopub.execute_input": "2023-08-30T21:48:46.823127Z",
     "iopub.status.busy": "2023-08-30T21:48:46.822811Z",
     "iopub.status.idle": "2023-08-30T21:48:46.830050Z",
     "shell.execute_reply": "2023-08-30T21:48:46.829085Z"
    },
    "papermill": {
     "duration": 0.02143,
     "end_time": "2023-08-30T21:48:46.832087",
     "exception": false,
     "start_time": "2023-08-30T21:48:46.810657",
     "status": "completed"
    },
    "tags": []
   },
   "outputs": [],
   "source": [
    "class BERT(nn.Module):\n",
    "    def __init__(self):\n",
    "        super(BERT, self).__init__()\n",
    "        self.bert = BertModel.from_pretrained('/kaggle/input/hugging-face-models-safe-tensors/bert-base-uncased')\n",
    "\n",
    "        self.dropout = nn.Dropout(0.1)\n",
    "        self.linear1 = nn.Linear(768, 128)\n",
    "        self.linear2 = nn.Linear(128, 2) # 왜 2? content, wording이라?\n",
    "\n",
    "    def forward(self, input_ids, attention_mask):\n",
    "        outputs = self.bert(input_ids=input_ids, attention_mask=attention_mask)\n",
    "        pooled_output = outputs.pooler_output\n",
    "        pooled_output = self.dropout(pooled_output)\n",
    "        output = self.linear1(pooled_output)\n",
    "        output = nn.ReLU()(output)\n",
    "        output = self.linear2(output)\n",
    "        return output"
   ]
  },
  {
   "cell_type": "code",
   "execution_count": 16,
   "id": "237d71b1",
   "metadata": {
    "execution": {
     "iopub.execute_input": "2023-08-30T21:48:46.855462Z",
     "iopub.status.busy": "2023-08-30T21:48:46.855165Z",
     "iopub.status.idle": "2023-08-30T21:48:46.863252Z",
     "shell.execute_reply": "2023-08-30T21:48:46.862266Z"
    },
    "papermill": {
     "duration": 0.022514,
     "end_time": "2023-08-30T21:48:46.865446",
     "exception": false,
     "start_time": "2023-08-30T21:48:46.842932",
     "status": "completed"
    },
    "tags": []
   },
   "outputs": [
    {
     "name": "stdout",
     "output_type": "stream",
     "text": [
      "5732\n",
      "1433\n"
     ]
    }
   ],
   "source": [
    "train_ds, val_ds = random_split(ds, [0.8, 0.2])\n",
    "print(len(train_ds))\n",
    "print(len(val_ds))"
   ]
  },
  {
   "cell_type": "code",
   "execution_count": 17,
   "id": "c24674f6",
   "metadata": {
    "execution": {
     "iopub.execute_input": "2023-08-30T21:48:46.889094Z",
     "iopub.status.busy": "2023-08-30T21:48:46.888285Z",
     "iopub.status.idle": "2023-08-30T21:48:46.893524Z",
     "shell.execute_reply": "2023-08-30T21:48:46.892672Z"
    },
    "papermill": {
     "duration": 0.018995,
     "end_time": "2023-08-30T21:48:46.895463",
     "exception": false,
     "start_time": "2023-08-30T21:48:46.876468",
     "status": "completed"
    },
    "tags": []
   },
   "outputs": [],
   "source": [
    "train_dataloader = DataLoader(\n",
    "            train_ds,  \n",
    "            batch_size = cfg.batch_size \n",
    ")\n",
    "\n",
    "val_dataloader = DataLoader(\n",
    "            val_ds,  \n",
    "            batch_size = cfg.batch_size\n",
    ")"
   ]
  },
  {
   "cell_type": "code",
   "execution_count": 18,
   "id": "70b12717",
   "metadata": {
    "execution": {
     "iopub.execute_input": "2023-08-30T21:48:46.919403Z",
     "iopub.status.busy": "2023-08-30T21:48:46.919115Z",
     "iopub.status.idle": "2023-08-30T21:48:46.923087Z",
     "shell.execute_reply": "2023-08-30T21:48:46.922108Z"
    },
    "papermill": {
     "duration": 0.018197,
     "end_time": "2023-08-30T21:48:46.925111",
     "exception": false,
     "start_time": "2023-08-30T21:48:46.906914",
     "status": "completed"
    },
    "tags": []
   },
   "outputs": [],
   "source": [
    "# installation \n",
    "#!curl https://raw.githubusercontent.com/pytorch/xla/master/contrib/scripts/env-setup.py -o pytorch-xla-env-setup.py\n",
    "#!python pytorch-xla-env-setup.py --version nightly --apt-packages libomp5 libopenblas-dev"
   ]
  },
  {
   "cell_type": "code",
   "execution_count": 19,
   "id": "0de59621",
   "metadata": {
    "execution": {
     "iopub.execute_input": "2023-08-30T21:48:46.948413Z",
     "iopub.status.busy": "2023-08-30T21:48:46.948109Z",
     "iopub.status.idle": "2023-08-30T21:48:46.951686Z",
     "shell.execute_reply": "2023-08-30T21:48:46.950813Z"
    },
    "papermill": {
     "duration": 0.017794,
     "end_time": "2023-08-30T21:48:46.953780",
     "exception": false,
     "start_time": "2023-08-30T21:48:46.935986",
     "status": "completed"
    },
    "tags": []
   },
   "outputs": [],
   "source": [
    "# for TPU\n",
    "#import torch_xla\n",
    "#import torch_xla.core.xla_model as xm"
   ]
  },
  {
   "cell_type": "code",
   "execution_count": 20,
   "id": "38752824",
   "metadata": {
    "execution": {
     "iopub.execute_input": "2023-08-30T21:48:46.977394Z",
     "iopub.status.busy": "2023-08-30T21:48:46.976601Z",
     "iopub.status.idle": "2023-08-30T21:48:46.980705Z",
     "shell.execute_reply": "2023-08-30T21:48:46.979708Z"
    },
    "papermill": {
     "duration": 0.01803,
     "end_time": "2023-08-30T21:48:46.982702",
     "exception": false,
     "start_time": "2023-08-30T21:48:46.964672",
     "status": "completed"
    },
    "tags": []
   },
   "outputs": [],
   "source": [
    "#device = xm.xla_device()"
   ]
  },
  {
   "cell_type": "code",
   "execution_count": 21,
   "id": "3c73cabe",
   "metadata": {
    "execution": {
     "iopub.execute_input": "2023-08-30T21:48:47.007129Z",
     "iopub.status.busy": "2023-08-30T21:48:47.005763Z",
     "iopub.status.idle": "2023-08-30T21:48:47.080048Z",
     "shell.execute_reply": "2023-08-30T21:48:47.079079Z"
    },
    "papermill": {
     "duration": 0.088434,
     "end_time": "2023-08-30T21:48:47.082372",
     "exception": false,
     "start_time": "2023-08-30T21:48:46.993938",
     "status": "completed"
    },
    "tags": []
   },
   "outputs": [
    {
     "name": "stdout",
     "output_type": "stream",
     "text": [
      "GPU is available and being used\n"
     ]
    }
   ],
   "source": [
    "if torch.cuda.is_available():\n",
    "    device = torch.device(\"cuda\")\n",
    "    print(\"GPU is available and being used\")\n",
    "else:\n",
    "    device = torch.device(\"cpu\")\n",
    "    print(\"GPU is not available, using CPU instead\")"
   ]
  },
  {
   "cell_type": "code",
   "execution_count": 22,
   "id": "485840ec",
   "metadata": {
    "execution": {
     "iopub.execute_input": "2023-08-30T21:48:47.106588Z",
     "iopub.status.busy": "2023-08-30T21:48:47.105800Z",
     "iopub.status.idle": "2023-08-30T21:48:47.386941Z",
     "shell.execute_reply": "2023-08-30T21:48:47.385865Z"
    },
    "papermill": {
     "duration": 0.295764,
     "end_time": "2023-08-30T21:48:47.389320",
     "exception": false,
     "start_time": "2023-08-30T21:48:47.093556",
     "status": "completed"
    },
    "tags": []
   },
   "outputs": [],
   "source": [
    "import torch, gc\n",
    "gc.collect()\n",
    "torch.cuda.empty_cache()"
   ]
  },
  {
   "cell_type": "code",
   "execution_count": 23,
   "id": "c4f8fb3a",
   "metadata": {
    "execution": {
     "iopub.execute_input": "2023-08-30T21:48:47.414224Z",
     "iopub.status.busy": "2023-08-30T21:48:47.413895Z",
     "iopub.status.idle": "2023-08-30T21:48:53.841395Z",
     "shell.execute_reply": "2023-08-30T21:48:53.840258Z"
    },
    "papermill": {
     "duration": 6.443041,
     "end_time": "2023-08-30T21:48:53.844187",
     "exception": false,
     "start_time": "2023-08-30T21:48:47.401146",
     "status": "completed"
    },
    "tags": []
   },
   "outputs": [],
   "source": [
    "model = BERT().to(device)\n",
    "optimizer = torch.optim.AdamW(model.parameters(), lr=cfg.learning_rate)\n",
    "loss_fn = nn.MSELoss() # RMSE\n",
    "min_val_loss = np.inf"
   ]
  },
  {
   "cell_type": "code",
   "execution_count": 24,
   "id": "1804af96",
   "metadata": {
    "execution": {
     "iopub.execute_input": "2023-08-30T21:48:53.874149Z",
     "iopub.status.busy": "2023-08-30T21:48:53.872448Z",
     "iopub.status.idle": "2023-08-30T23:56:57.437352Z",
     "shell.execute_reply": "2023-08-30T23:56:57.436127Z"
    },
    "papermill": {
     "duration": 7683.581646,
     "end_time": "2023-08-30T23:56:57.439637",
     "exception": false,
     "start_time": "2023-08-30T21:48:53.857991",
     "status": "completed"
    },
    "tags": []
   },
   "outputs": [
    {
     "name": "stdout",
     "output_type": "stream",
     "text": [
      "Epoch 1, Step 0, Loss: 1.4826656579971313\n",
      "Epoch 1, Step 100, Loss: 0.8355724811553955\n",
      "Epoch 1, Step 200, Loss: 0.55396968126297\n",
      "Epoch 1, Step 300, Loss: 0.8287991285324097\n",
      "Epoch 1 Loss: 0.7500023652584108\n",
      "Validation Loss: 0.6351094245910645\n",
      "saving model with score: 0.6351094245910645\n",
      "Epoch 2, Step 0, Loss: 0.7913119792938232\n",
      "Epoch 2, Step 100, Loss: 0.6349603533744812\n",
      "Epoch 2, Step 200, Loss: 0.38212963938713074\n",
      "Epoch 2, Step 300, Loss: 0.6593292951583862\n",
      "Epoch 2 Loss: 0.5706579734189928\n",
      "Validation Loss: 0.5810683369636536\n",
      "saving model with score: 0.5810683369636536\n",
      "Epoch 3, Step 0, Loss: 0.6393840909004211\n",
      "Epoch 3, Step 100, Loss: 0.5921257734298706\n",
      "Epoch 3, Step 200, Loss: 0.3161314129829407\n",
      "Epoch 3, Step 300, Loss: 0.5745817422866821\n",
      "Epoch 3 Loss: 0.510576528676041\n",
      "Validation Loss: 0.5427820682525635\n",
      "saving model with score: 0.5427820682525635\n",
      "Epoch 4, Step 0, Loss: 0.5940788388252258\n",
      "Epoch 4, Step 100, Loss: 0.5389784574508667\n",
      "Epoch 4, Step 200, Loss: 0.34749284386634827\n",
      "Epoch 4, Step 300, Loss: 0.4672585427761078\n",
      "Epoch 4 Loss: 0.46353283300373216\n",
      "Validation Loss: 0.533595860004425\n",
      "saving model with score: 0.533595860004425\n",
      "Epoch 5, Step 0, Loss: 0.6334742903709412\n",
      "Epoch 5, Step 100, Loss: 0.48179325461387634\n",
      "Epoch 5, Step 200, Loss: 0.3176470696926117\n",
      "Epoch 5, Step 300, Loss: 0.4606052339076996\n",
      "Epoch 5 Loss: 0.4327596092290533\n",
      "Validation Loss: 0.5239450335502625\n",
      "saving model with score: 0.5239450335502625\n",
      "Epoch 6, Step 0, Loss: 0.5715746879577637\n",
      "Epoch 6, Step 100, Loss: 0.49037614464759827\n",
      "Epoch 6, Step 200, Loss: 0.3297710418701172\n",
      "Epoch 6, Step 300, Loss: 0.36274397373199463\n",
      "Epoch 6 Loss: 0.40044415897811686\n",
      "Validation Loss: 0.5625115633010864\n",
      "Epoch 7, Step 0, Loss: 0.5458765029907227\n",
      "Epoch 7, Step 100, Loss: 0.5007809400558472\n",
      "Epoch 7, Step 200, Loss: 0.313041627407074\n",
      "Epoch 7, Step 300, Loss: 0.3153358995914459\n",
      "Epoch 7 Loss: 0.3800628767206144\n",
      "Validation Loss: 0.5576540231704712\n",
      "Epoch 8, Step 0, Loss: 0.5265536308288574\n",
      "Epoch 8, Step 100, Loss: 0.5142436027526855\n",
      "Epoch 8, Step 200, Loss: 0.2624812126159668\n",
      "Epoch 8, Step 300, Loss: 0.27698004245758057\n",
      "Epoch 8 Loss: 0.3520843861909962\n",
      "Validation Loss: 0.5111433267593384\n",
      "saving model with score: 0.5111433267593384\n",
      "Epoch 9, Step 0, Loss: 0.4935653805732727\n",
      "Epoch 9, Step 100, Loss: 0.43437209725379944\n",
      "Epoch 9, Step 200, Loss: 0.3351578414440155\n",
      "Epoch 9, Step 300, Loss: 0.32972612977027893\n",
      "Epoch 9 Loss: 0.33902428919724437\n",
      "Validation Loss: 0.5112153887748718\n",
      "Epoch 10, Step 0, Loss: 0.40433818101882935\n",
      "Epoch 10, Step 100, Loss: 0.3710435926914215\n",
      "Epoch 10, Step 200, Loss: 0.25575220584869385\n",
      "Epoch 10, Step 300, Loss: 0.37438759207725525\n",
      "Epoch 10 Loss: 0.3196757737557536\n",
      "Validation Loss: 0.5298322439193726\n",
      "Epoch 11, Step 0, Loss: 0.40208014845848083\n",
      "Epoch 11, Step 100, Loss: 0.39164450764656067\n",
      "Epoch 11, Step 200, Loss: 0.25632724165916443\n",
      "Epoch 11, Step 300, Loss: 0.24183538556098938\n",
      "Epoch 11 Loss: 0.3043374227448094\n",
      "Validation Loss: 0.5674656629562378\n",
      "Epoch 12, Step 0, Loss: 0.3639940917491913\n",
      "Epoch 12, Step 100, Loss: 0.36643949151039124\n",
      "Epoch 12, Step 200, Loss: 0.2838122248649597\n",
      "Epoch 12, Step 300, Loss: 0.2610863447189331\n",
      "Epoch 12 Loss: 0.2950151732040979\n",
      "Validation Loss: 0.594390332698822\n",
      "Epoch 13, Step 0, Loss: 0.2915841042995453\n",
      "Epoch 13, Step 100, Loss: 0.32232141494750977\n",
      "Epoch 13, Step 200, Loss: 0.19817271828651428\n",
      "Epoch 13, Step 300, Loss: 0.2922365367412567\n",
      "Epoch 13 Loss: 0.28084789872335525\n",
      "Validation Loss: 0.533272922039032\n",
      "Epoch 14, Step 0, Loss: 0.32471853494644165\n",
      "Epoch 14, Step 100, Loss: 0.34985795617103577\n",
      "Epoch 14, Step 200, Loss: 0.20896238088607788\n",
      "Epoch 14, Step 300, Loss: 0.21898794174194336\n",
      "Epoch 14 Loss: 0.26884505268923087\n",
      "Validation Loss: 0.5065917372703552\n",
      "saving model with score: 0.5065917372703552\n",
      "Epoch 15, Step 0, Loss: 0.3530855178833008\n",
      "Epoch 15, Step 100, Loss: 0.36236369609832764\n",
      "Epoch 15, Step 200, Loss: 0.23552778363227844\n",
      "Epoch 15, Step 300, Loss: 0.25641024112701416\n",
      "Epoch 15 Loss: 0.26032359638669034\n",
      "Validation Loss: 0.4916355311870575\n",
      "saving model with score: 0.4916355311870575\n",
      "Epoch 16, Step 0, Loss: 0.3251406252384186\n",
      "Epoch 16, Step 100, Loss: 0.34236884117126465\n",
      "Epoch 16, Step 200, Loss: 0.21784740686416626\n",
      "Epoch 16, Step 300, Loss: 0.25081849098205566\n",
      "Epoch 16 Loss: 0.25242274181922497\n",
      "Validation Loss: 0.4993378221988678\n",
      "Epoch 17, Step 0, Loss: 0.26551342010498047\n",
      "Epoch 17, Step 100, Loss: 0.2822738289833069\n",
      "Epoch 17, Step 200, Loss: 0.2253912091255188\n",
      "Epoch 17, Step 300, Loss: 0.24480804800987244\n",
      "Epoch 17 Loss: 0.23464282168319298\n",
      "Validation Loss: 0.5035370588302612\n",
      "Epoch 18, Step 0, Loss: 0.2410896271467209\n",
      "Epoch 18, Step 100, Loss: 0.2480299323797226\n",
      "Epoch 18, Step 200, Loss: 0.19140875339508057\n",
      "Epoch 18, Step 300, Loss: 0.25674423575401306\n",
      "Epoch 18 Loss: 0.2334410149323907\n",
      "Validation Loss: 0.502241849899292\n",
      "Epoch 19, Step 0, Loss: 0.2546939253807068\n",
      "Epoch 19, Step 100, Loss: 0.2649948298931122\n",
      "Epoch 19, Step 200, Loss: 0.2114841192960739\n",
      "Epoch 19, Step 300, Loss: 0.23575308918952942\n",
      "Epoch 19 Loss: 0.22980324176858727\n",
      "Validation Loss: 0.5046679973602295\n",
      "Epoch 20, Step 0, Loss: 0.2081797569990158\n",
      "Epoch 20, Step 100, Loss: 0.21498258411884308\n",
      "Epoch 20, Step 200, Loss: 0.20615419745445251\n",
      "Epoch 20, Step 300, Loss: 0.1799486130475998\n",
      "Epoch 20 Loss: 0.22388322207256944\n",
      "Validation Loss: 0.5120779871940613\n",
      "Epoch 21, Step 0, Loss: 0.24934269487857819\n",
      "Epoch 21, Step 100, Loss: 0.23086833953857422\n",
      "Epoch 21, Step 200, Loss: 0.24195870757102966\n",
      "Epoch 21, Step 300, Loss: 0.1977146863937378\n",
      "Epoch 21 Loss: 0.22251745126622632\n",
      "Validation Loss: 0.5318523645401001\n",
      "Epoch 22, Step 0, Loss: 0.24423755705356598\n",
      "Epoch 22, Step 100, Loss: 0.24709537625312805\n",
      "Epoch 22, Step 200, Loss: 0.1623694747686386\n",
      "Epoch 22, Step 300, Loss: 0.22429299354553223\n",
      "Epoch 22 Loss: 0.21386118845438226\n",
      "Validation Loss: 0.5323509573936462\n",
      "Epoch 23, Step 0, Loss: 0.2150680273771286\n",
      "Epoch 23, Step 100, Loss: 0.24720793962478638\n",
      "Epoch 23, Step 200, Loss: 0.19662226736545563\n",
      "Epoch 23, Step 300, Loss: 0.23643536865711212\n",
      "Epoch 23 Loss: 0.2173934413903603\n",
      "Validation Loss: 0.5457868576049805\n",
      "Epoch 24, Step 0, Loss: 0.2683866322040558\n",
      "Epoch 24, Step 100, Loss: 0.21793250739574432\n",
      "Epoch 24, Step 200, Loss: 0.20395499467849731\n",
      "Epoch 24, Step 300, Loss: 0.2620924413204193\n",
      "Epoch 24 Loss: 0.22238531700415864\n",
      "Validation Loss: 0.5190653800964355\n",
      "Early Stopping trigerred on epoch: {}\n"
     ]
    }
   ],
   "source": [
    "# Training loop\n",
    "model.train()\n",
    "patience = 0\n",
    "\n",
    "for epoch in range(cfg.num_epochs):\n",
    "    running_loss = 0.0\n",
    "    for step, (input_ids, attention_mask, labels) in enumerate(train_dataloader):\n",
    "        input_ids = input_ids.to(device)\n",
    "        attention_mask = attention_mask.to(device)\n",
    "        labels = labels.to(device)\n",
    "        \n",
    "        optimizer.zero_grad()\n",
    "\n",
    "        outputs = model(input_ids, attention_mask)\n",
    "        loss = torch.sqrt(loss_fn(outputs, labels))\n",
    "        loss.backward()\n",
    "        optimizer.step()\n",
    "        if step % 100 == 0:\n",
    "            print(\"Epoch {}, Step {}, Loss: {}\".format(epoch+1, step, loss.item()))\n",
    "\n",
    "        running_loss += loss.item()\n",
    "\n",
    "    print(f\"Epoch {epoch+1} Loss: {running_loss / len(train_dataloader)}\")\n",
    "\n",
    "    # Validation loop\n",
    "    model.eval()\n",
    "    with torch.no_grad():\n",
    "        val_loss = 0.0\n",
    "        for val_step, (input_ids, attention_mask, labels) in enumerate(val_dataloader):\n",
    "            input_ids = input_ids.to(device)\n",
    "            attention_mask = attention_mask.to(device)\n",
    "            labels = labels.to(device)\n",
    "            \n",
    "            val_outputs = model(input_ids, attention_mask)\n",
    "            val_loss += torch.sqrt(loss_fn(val_outputs, labels))\n",
    "        avg_loss = val_loss / len(val_dataloader)\n",
    "        print(f\"Validation Loss: {avg_loss}\")\n",
    "        \n",
    "        if avg_loss < min_val_loss:\n",
    "            patience = 0\n",
    "            min_val_loss = avg_loss\n",
    "            torch.save(model.state_dict(), cfg.model_save_path)\n",
    "            print(f'saving model with score: {avg_loss}')\n",
    "            \n",
    "    patience += 1    \n",
    "    if patience >= 10:\n",
    "            print('Early Stopping trigerred on epoch: {}')\n",
    "            break\n",
    "            \n",
    "    model.train()"
   ]
  },
  {
   "cell_type": "code",
   "execution_count": 25,
   "id": "26657c4b",
   "metadata": {
    "execution": {
     "iopub.execute_input": "2023-08-30T23:56:57.487262Z",
     "iopub.status.busy": "2023-08-30T23:56:57.486354Z",
     "iopub.status.idle": "2023-08-30T23:56:59.474613Z",
     "shell.execute_reply": "2023-08-30T23:56:59.473508Z"
    },
    "papermill": {
     "duration": 2.013976,
     "end_time": "2023-08-30T23:56:59.477285",
     "exception": false,
     "start_time": "2023-08-30T23:56:57.463309",
     "status": "completed"
    },
    "tags": []
   },
   "outputs": [],
   "source": [
    "model = BERT()\n",
    "model.load_state_dict(torch.load(cfg.model_save_path))\n",
    "model.eval()\n",
    "\n",
    "\n",
    "enc = tokenizer(list(test['merged_text']),\n",
    "                   padding=True,\n",
    "                   truncation=True,\n",
    "                   max_length=cfg.token_max,\n",
    "                   return_tensors=\"pt\")\n",
    "\n",
    "test_ds = TensorDataset(enc['input_ids'], enc['attention_mask'])\n",
    "test_dataloader = torch.utils.data.DataLoader(test_ds, batch_size=16, shuffle=False)\n",
    "\n",
    "\n",
    "predictions = []\n",
    "with torch.no_grad():\n",
    "    for input_ids, attention_mask in test_dataloader:\n",
    "        input_ids = input_ids\n",
    "        attention_mask = attention_mask\n",
    "\n",
    "        outputs = model(input_ids, attention_mask)\n",
    "        predictions.extend(outputs.cpu().numpy())\n",
    "        "
   ]
  },
  {
   "cell_type": "code",
   "execution_count": 26,
   "id": "9b2ac953",
   "metadata": {
    "execution": {
     "iopub.execute_input": "2023-08-30T23:56:59.527394Z",
     "iopub.status.busy": "2023-08-30T23:56:59.527065Z",
     "iopub.status.idle": "2023-08-30T23:56:59.533251Z",
     "shell.execute_reply": "2023-08-30T23:56:59.532120Z"
    },
    "papermill": {
     "duration": 0.031751,
     "end_time": "2023-08-30T23:56:59.535621",
     "exception": false,
     "start_time": "2023-08-30T23:56:59.503870",
     "status": "completed"
    },
    "tags": []
   },
   "outputs": [],
   "source": [
    "submission_df = pd.DataFrame({\n",
    "    'student_id': test['student_id'],\n",
    "    'content': [pred[0] for pred in predictions],\n",
    "    'wording': [pred[1] for pred in predictions]\n",
    "})"
   ]
  },
  {
   "cell_type": "code",
   "execution_count": 27,
   "id": "3a029b90",
   "metadata": {
    "execution": {
     "iopub.execute_input": "2023-08-30T23:56:59.581591Z",
     "iopub.status.busy": "2023-08-30T23:56:59.581325Z",
     "iopub.status.idle": "2023-08-30T23:56:59.593318Z",
     "shell.execute_reply": "2023-08-30T23:56:59.592194Z"
    },
    "papermill": {
     "duration": 0.037171,
     "end_time": "2023-08-30T23:56:59.595430",
     "exception": false,
     "start_time": "2023-08-30T23:56:59.558259",
     "status": "completed"
    },
    "tags": []
   },
   "outputs": [
    {
     "data": {
      "text/html": [
       "<div>\n",
       "<style scoped>\n",
       "    .dataframe tbody tr th:only-of-type {\n",
       "        vertical-align: middle;\n",
       "    }\n",
       "\n",
       "    .dataframe tbody tr th {\n",
       "        vertical-align: top;\n",
       "    }\n",
       "\n",
       "    .dataframe thead th {\n",
       "        text-align: right;\n",
       "    }\n",
       "</style>\n",
       "<table border=\"1\" class=\"dataframe\">\n",
       "  <thead>\n",
       "    <tr style=\"text-align: right;\">\n",
       "      <th></th>\n",
       "      <th>student_id</th>\n",
       "      <th>content</th>\n",
       "      <th>wording</th>\n",
       "    </tr>\n",
       "  </thead>\n",
       "  <tbody>\n",
       "    <tr>\n",
       "      <th>0</th>\n",
       "      <td>000000ffffff</td>\n",
       "      <td>-0.019369</td>\n",
       "      <td>-0.741218</td>\n",
       "    </tr>\n",
       "    <tr>\n",
       "      <th>1</th>\n",
       "      <td>111111eeeeee</td>\n",
       "      <td>0.031617</td>\n",
       "      <td>-0.694564</td>\n",
       "    </tr>\n",
       "    <tr>\n",
       "      <th>2</th>\n",
       "      <td>222222cccccc</td>\n",
       "      <td>0.090514</td>\n",
       "      <td>-0.653215</td>\n",
       "    </tr>\n",
       "    <tr>\n",
       "      <th>3</th>\n",
       "      <td>333333dddddd</td>\n",
       "      <td>0.134314</td>\n",
       "      <td>-0.617847</td>\n",
       "    </tr>\n",
       "  </tbody>\n",
       "</table>\n",
       "</div>"
      ],
      "text/plain": [
       "     student_id   content   wording\n",
       "0  000000ffffff -0.019369 -0.741218\n",
       "1  111111eeeeee  0.031617 -0.694564\n",
       "2  222222cccccc  0.090514 -0.653215\n",
       "3  333333dddddd  0.134314 -0.617847"
      ]
     },
     "execution_count": 27,
     "metadata": {},
     "output_type": "execute_result"
    }
   ],
   "source": [
    "submission_df"
   ]
  },
  {
   "cell_type": "code",
   "execution_count": 28,
   "id": "636b68f0",
   "metadata": {
    "execution": {
     "iopub.execute_input": "2023-08-30T23:56:59.641695Z",
     "iopub.status.busy": "2023-08-30T23:56:59.641420Z",
     "iopub.status.idle": "2023-08-30T23:56:59.648134Z",
     "shell.execute_reply": "2023-08-30T23:56:59.647277Z"
    },
    "papermill": {
     "duration": 0.031913,
     "end_time": "2023-08-30T23:56:59.650221",
     "exception": false,
     "start_time": "2023-08-30T23:56:59.618308",
     "status": "completed"
    },
    "tags": []
   },
   "outputs": [],
   "source": [
    "submission_df.to_csv('submission.csv', index=False)"
   ]
  },
  {
   "cell_type": "code",
   "execution_count": null,
   "id": "e33a60b6",
   "metadata": {
    "papermill": {
     "duration": 0.022098,
     "end_time": "2023-08-30T23:56:59.695726",
     "exception": false,
     "start_time": "2023-08-30T23:56:59.673628",
     "status": "completed"
    },
    "tags": []
   },
   "outputs": [],
   "source": []
  }
 ],
 "kernelspec": {
  "display_name": "Python 3",
  "language": "python",
  "name": "python3"
 },
 "language_info": {
  "codemirror_mode": {
   "name": "ipython",
   "version": 3
  },
  "file_extension": ".py",
  "mimetype": "text/x-python",
  "name": "python",
  "nbconvert_exporter": "python",
  "pygments_lexer": "ipython3",
  "version": "3.6.4"
 },
 "metadata": {
  "kernelspec": {
   "display_name": "Python 3",
   "language": "python",
   "name": "python3"
  },
  "language_info": {
   "codemirror_mode": {
    "name": "ipython",
    "version": 3
   },
   "file_extension": ".py",
   "mimetype": "text/x-python",
   "name": "python",
   "nbconvert_exporter": "python",
   "pygments_lexer": "ipython3",
   "version": "3.10.12"
  },
  "papermill": {
   "default_parameters": {},
   "duration": 7940.861403,
   "end_time": "2023-08-30T23:57:02.557480",
   "environment_variables": {},
   "exception": null,
   "input_path": "__notebook__.ipynb",
   "output_path": "__notebook__.ipynb",
   "parameters": {},
   "start_time": "2023-08-30T21:44:41.696077",
   "version": "2.4.0"
  }
 },
 "nbformat": 4,
 "nbformat_minor": 5
}
