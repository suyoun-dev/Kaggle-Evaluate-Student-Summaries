{
 "cells": [
  {
   "cell_type": "code",
   "execution_count": 1,
   "id": "c1636f31",
   "metadata": {
    "_cell_guid": "b1076dfc-b9ad-4769-8c92-a6c4dae69d19",
    "_uuid": "8f2839f25d086af736a60e9eeb907d3b93b6e0e5",
    "execution": {
     "iopub.execute_input": "2023-08-26T04:53:55.039843Z",
     "iopub.status.busy": "2023-08-26T04:53:55.039404Z",
     "iopub.status.idle": "2023-08-26T04:53:55.063795Z",
     "shell.execute_reply": "2023-08-26T04:53:55.062808Z"
    },
    "papermill": {
     "duration": 0.037367,
     "end_time": "2023-08-26T04:53:55.066792",
     "exception": false,
     "start_time": "2023-08-26T04:53:55.029425",
     "status": "completed"
    },
    "tags": []
   },
   "outputs": [
    {
     "name": "stdout",
     "output_type": "stream",
     "text": [
      "/kaggle/input/hugging-face-models-safe-tensors/bert-base-uncased/config.json\n",
      "/kaggle/input/hugging-face-models-safe-tensors/bert-base-uncased/tokenizer_config.json\n",
      "/kaggle/input/hugging-face-models-safe-tensors/bert-base-uncased/pytorch_model.bin\n",
      "/kaggle/input/hugging-face-models-safe-tensors/bert-base-uncased/special_tokens_map.json\n",
      "/kaggle/input/hugging-face-models-safe-tensors/bert-base-uncased/vocab.txt\n",
      "/kaggle/input/commonlit-evaluate-student-summaries/sample_submission.csv\n",
      "/kaggle/input/commonlit-evaluate-student-summaries/prompts_train.csv\n",
      "/kaggle/input/commonlit-evaluate-student-summaries/summaries_test.csv\n",
      "/kaggle/input/commonlit-evaluate-student-summaries/summaries_train.csv\n",
      "/kaggle/input/commonlit-evaluate-student-summaries/prompts_test.csv\n"
     ]
    }
   ],
   "source": [
    "# This Python 3 environment comes with many helpful analytics libraries installed\n",
    "# It is defined by the kaggle/python Docker image: https://github.com/kaggle/docker-python\n",
    "# For example, here's several helpful packages to load\n",
    "\n",
    "import numpy as np # linear algebra\n",
    "import pandas as pd # data processing, CSV file I/O (e.g. pd.read_csv)\n",
    "\n",
    "# Input data files are available in the read-only \"../input/\" directory\n",
    "# For example, running this (by clicking run or pressing Shift+Enter) will list all files under the input directory\n",
    "\n",
    "import os\n",
    "for dirname, _, filenames in os.walk('/kaggle/input'):\n",
    "    for filename in filenames:\n",
    "        print(os.path.join(dirname, filename))\n",
    "\n",
    "# You can write up to 20GB to the current directory (/kaggle/working/) that gets preserved as output when you create a version using \"Save & Run All\" \n",
    "# You can also write temporary files to /kaggle/temp/, but they won't be saved outside of the current session"
   ]
  },
  {
   "cell_type": "markdown",
   "id": "ac7c9f61",
   "metadata": {
    "papermill": {
     "duration": 0.007527,
     "end_time": "2023-08-26T04:53:55.082349",
     "exception": false,
     "start_time": "2023-08-26T04:53:55.074822",
     "status": "completed"
    },
    "tags": []
   },
   "source": [
    "## Reference: Bert Tokenizer + Fine-Tuning Model\n",
    "https://www.kaggle.com/code/theodorospsarras/bert-tokenizer-fine-tuning-model/input"
   ]
  },
  {
   "cell_type": "code",
   "execution_count": 2,
   "id": "f8cf07f3",
   "metadata": {
    "execution": {
     "iopub.execute_input": "2023-08-26T04:53:55.098655Z",
     "iopub.status.busy": "2023-08-26T04:53:55.098365Z",
     "iopub.status.idle": "2023-08-26T04:53:55.102358Z",
     "shell.execute_reply": "2023-08-26T04:53:55.101436Z"
    },
    "papermill": {
     "duration": 0.014446,
     "end_time": "2023-08-26T04:53:55.104362",
     "exception": false,
     "start_time": "2023-08-26T04:53:55.089916",
     "status": "completed"
    },
    "tags": []
   },
   "outputs": [],
   "source": [
    "#!pip install torch"
   ]
  },
  {
   "cell_type": "code",
   "execution_count": 3,
   "id": "cf0eb521",
   "metadata": {
    "execution": {
     "iopub.execute_input": "2023-08-26T04:53:55.120791Z",
     "iopub.status.busy": "2023-08-26T04:53:55.120523Z",
     "iopub.status.idle": "2023-08-26T04:54:00.157564Z",
     "shell.execute_reply": "2023-08-26T04:54:00.156566Z"
    },
    "papermill": {
     "duration": 5.047907,
     "end_time": "2023-08-26T04:54:00.159927",
     "exception": false,
     "start_time": "2023-08-26T04:53:55.112020",
     "status": "completed"
    },
    "tags": []
   },
   "outputs": [],
   "source": [
    "import torch\n",
    "import torch.nn as nn\n",
    "from transformers import AutoTokenizer, AutoModel,AutoModelForSequenceClassification\n",
    "import pandas as pd\n",
    "import torch.nn.functional as F\n",
    "import numpy as np"
   ]
  },
  {
   "cell_type": "code",
   "execution_count": 4,
   "id": "e1289dc5",
   "metadata": {
    "execution": {
     "iopub.execute_input": "2023-08-26T04:54:00.178283Z",
     "iopub.status.busy": "2023-08-26T04:54:00.177753Z",
     "iopub.status.idle": "2023-08-26T04:54:00.182209Z",
     "shell.execute_reply": "2023-08-26T04:54:00.181304Z"
    },
    "papermill": {
     "duration": 0.015815,
     "end_time": "2023-08-26T04:54:00.184332",
     "exception": false,
     "start_time": "2023-08-26T04:54:00.168517",
     "status": "completed"
    },
    "tags": []
   },
   "outputs": [],
   "source": [
    "#import os\n",
    "\n",
    "#os.environ['CUDA_VISIBLE_DEVICES']  = \"0\"\n",
    "\n",
    "#torch.cuda.device_count()"
   ]
  },
  {
   "cell_type": "code",
   "execution_count": 5,
   "id": "48b916df",
   "metadata": {
    "execution": {
     "iopub.execute_input": "2023-08-26T04:54:00.200842Z",
     "iopub.status.busy": "2023-08-26T04:54:00.200576Z",
     "iopub.status.idle": "2023-08-26T04:54:00.353567Z",
     "shell.execute_reply": "2023-08-26T04:54:00.352634Z"
    },
    "papermill": {
     "duration": 0.163953,
     "end_time": "2023-08-26T04:54:00.355975",
     "exception": false,
     "start_time": "2023-08-26T04:54:00.192022",
     "status": "completed"
    },
    "tags": []
   },
   "outputs": [
    {
     "data": {
      "text/html": [
       "<div>\n",
       "<style scoped>\n",
       "    .dataframe tbody tr th:only-of-type {\n",
       "        vertical-align: middle;\n",
       "    }\n",
       "\n",
       "    .dataframe tbody tr th {\n",
       "        vertical-align: top;\n",
       "    }\n",
       "\n",
       "    .dataframe thead th {\n",
       "        text-align: right;\n",
       "    }\n",
       "</style>\n",
       "<table border=\"1\" class=\"dataframe\">\n",
       "  <thead>\n",
       "    <tr style=\"text-align: right;\">\n",
       "      <th></th>\n",
       "      <th>prompt_id</th>\n",
       "      <th>prompt_question</th>\n",
       "      <th>prompt_title</th>\n",
       "      <th>prompt_text</th>\n",
       "    </tr>\n",
       "  </thead>\n",
       "  <tbody>\n",
       "    <tr>\n",
       "      <th>0</th>\n",
       "      <td>39c16e</td>\n",
       "      <td>Summarize at least 3 elements of an ideal trag...</td>\n",
       "      <td>On Tragedy</td>\n",
       "      <td>Chapter 13 \\r\\nAs the sequel to what has alrea...</td>\n",
       "    </tr>\n",
       "    <tr>\n",
       "      <th>1</th>\n",
       "      <td>3b9047</td>\n",
       "      <td>In complete sentences, summarize the structure...</td>\n",
       "      <td>Egyptian Social Structure</td>\n",
       "      <td>Egyptian society was structured like a pyramid...</td>\n",
       "    </tr>\n",
       "    <tr>\n",
       "      <th>2</th>\n",
       "      <td>814d6b</td>\n",
       "      <td>Summarize how the Third Wave developed over su...</td>\n",
       "      <td>The Third Wave</td>\n",
       "      <td>Background \\r\\nThe Third Wave experiment took ...</td>\n",
       "    </tr>\n",
       "    <tr>\n",
       "      <th>3</th>\n",
       "      <td>ebad26</td>\n",
       "      <td>Summarize the various ways the factory would u...</td>\n",
       "      <td>Excerpt from The Jungle</td>\n",
       "      <td>With one member trimming beef in a cannery, an...</td>\n",
       "    </tr>\n",
       "  </tbody>\n",
       "</table>\n",
       "</div>"
      ],
      "text/plain": [
       "  prompt_id                                    prompt_question  \\\n",
       "0    39c16e  Summarize at least 3 elements of an ideal trag...   \n",
       "1    3b9047  In complete sentences, summarize the structure...   \n",
       "2    814d6b  Summarize how the Third Wave developed over su...   \n",
       "3    ebad26  Summarize the various ways the factory would u...   \n",
       "\n",
       "                prompt_title  \\\n",
       "0                 On Tragedy   \n",
       "1  Egyptian Social Structure   \n",
       "2             The Third Wave   \n",
       "3    Excerpt from The Jungle   \n",
       "\n",
       "                                         prompt_text  \n",
       "0  Chapter 13 \\r\\nAs the sequel to what has alrea...  \n",
       "1  Egyptian society was structured like a pyramid...  \n",
       "2  Background \\r\\nThe Third Wave experiment took ...  \n",
       "3  With one member trimming beef in a cannery, an...  "
      ]
     },
     "execution_count": 5,
     "metadata": {},
     "output_type": "execute_result"
    }
   ],
   "source": [
    "prompts_train = pd.read_csv(\"/kaggle/input/commonlit-evaluate-student-summaries/prompts_train.csv\")\n",
    "prompts_test = pd.read_csv(\"/kaggle/input/commonlit-evaluate-student-summaries/prompts_test.csv\")\n",
    "\n",
    "summaries_train = pd.read_csv(\"/kaggle/input/commonlit-evaluate-student-summaries/summaries_train.csv\")\n",
    "summaries_test = pd.read_csv(\"/kaggle/input/commonlit-evaluate-student-summaries/summaries_test.csv\")\n",
    "\n",
    "sample_submission = pd.read_csv(\"/kaggle/input/commonlit-evaluate-student-summaries/sample_submission.csv\")\n",
    "\n",
    "prompts_train"
   ]
  },
  {
   "cell_type": "markdown",
   "id": "2dc5a859",
   "metadata": {
    "papermill": {
     "duration": 0.00786,
     "end_time": "2023-08-26T04:54:00.371999",
     "exception": false,
     "start_time": "2023-08-26T04:54:00.364139",
     "status": "completed"
    },
    "tags": []
   },
   "source": [
    "1. prompt 파일과 train/test 파일 merge 하기"
   ]
  },
  {
   "cell_type": "code",
   "execution_count": 6,
   "id": "7b1927c5",
   "metadata": {
    "execution": {
     "iopub.execute_input": "2023-08-26T04:54:00.389510Z",
     "iopub.status.busy": "2023-08-26T04:54:00.389148Z",
     "iopub.status.idle": "2023-08-26T04:54:00.424073Z",
     "shell.execute_reply": "2023-08-26T04:54:00.422776Z"
    },
    "papermill": {
     "duration": 0.046753,
     "end_time": "2023-08-26T04:54:00.426895",
     "exception": false,
     "start_time": "2023-08-26T04:54:00.380142",
     "status": "completed"
    },
    "tags": []
   },
   "outputs": [
    {
     "data": {
      "text/html": [
       "<div>\n",
       "<style scoped>\n",
       "    .dataframe tbody tr th:only-of-type {\n",
       "        vertical-align: middle;\n",
       "    }\n",
       "\n",
       "    .dataframe tbody tr th {\n",
       "        vertical-align: top;\n",
       "    }\n",
       "\n",
       "    .dataframe thead th {\n",
       "        text-align: right;\n",
       "    }\n",
       "</style>\n",
       "<table border=\"1\" class=\"dataframe\">\n",
       "  <thead>\n",
       "    <tr style=\"text-align: right;\">\n",
       "      <th></th>\n",
       "      <th>student_id</th>\n",
       "      <th>prompt_id</th>\n",
       "      <th>text</th>\n",
       "      <th>content</th>\n",
       "      <th>wording</th>\n",
       "      <th>prompt_question</th>\n",
       "      <th>prompt_title</th>\n",
       "      <th>prompt_text</th>\n",
       "    </tr>\n",
       "  </thead>\n",
       "  <tbody>\n",
       "    <tr>\n",
       "      <th>0</th>\n",
       "      <td>000e8c3c7ddb</td>\n",
       "      <td>814d6b</td>\n",
       "      <td>The third wave was an experimentto see how peo...</td>\n",
       "      <td>0.205683</td>\n",
       "      <td>0.380538</td>\n",
       "      <td>Summarize how the Third Wave developed over su...</td>\n",
       "      <td>The Third Wave</td>\n",
       "      <td>Background \\r\\nThe Third Wave experiment took ...</td>\n",
       "    </tr>\n",
       "    <tr>\n",
       "      <th>1</th>\n",
       "      <td>0020ae56ffbf</td>\n",
       "      <td>ebad26</td>\n",
       "      <td>They would rub it up with soda to make the sme...</td>\n",
       "      <td>-0.548304</td>\n",
       "      <td>0.506755</td>\n",
       "      <td>Summarize the various ways the factory would u...</td>\n",
       "      <td>Excerpt from The Jungle</td>\n",
       "      <td>With one member trimming beef in a cannery, an...</td>\n",
       "    </tr>\n",
       "    <tr>\n",
       "      <th>2</th>\n",
       "      <td>004e978e639e</td>\n",
       "      <td>3b9047</td>\n",
       "      <td>In Egypt, there were many occupations and soci...</td>\n",
       "      <td>3.128928</td>\n",
       "      <td>4.231226</td>\n",
       "      <td>In complete sentences, summarize the structure...</td>\n",
       "      <td>Egyptian Social Structure</td>\n",
       "      <td>Egyptian society was structured like a pyramid...</td>\n",
       "    </tr>\n",
       "    <tr>\n",
       "      <th>3</th>\n",
       "      <td>005ab0199905</td>\n",
       "      <td>3b9047</td>\n",
       "      <td>The highest class was Pharaohs these people we...</td>\n",
       "      <td>-0.210614</td>\n",
       "      <td>-0.471415</td>\n",
       "      <td>In complete sentences, summarize the structure...</td>\n",
       "      <td>Egyptian Social Structure</td>\n",
       "      <td>Egyptian society was structured like a pyramid...</td>\n",
       "    </tr>\n",
       "    <tr>\n",
       "      <th>4</th>\n",
       "      <td>0070c9e7af47</td>\n",
       "      <td>814d6b</td>\n",
       "      <td>The Third Wave developed  rapidly because the ...</td>\n",
       "      <td>3.272894</td>\n",
       "      <td>3.219757</td>\n",
       "      <td>Summarize how the Third Wave developed over su...</td>\n",
       "      <td>The Third Wave</td>\n",
       "      <td>Background \\r\\nThe Third Wave experiment took ...</td>\n",
       "    </tr>\n",
       "    <tr>\n",
       "      <th>...</th>\n",
       "      <td>...</td>\n",
       "      <td>...</td>\n",
       "      <td>...</td>\n",
       "      <td>...</td>\n",
       "      <td>...</td>\n",
       "      <td>...</td>\n",
       "      <td>...</td>\n",
       "      <td>...</td>\n",
       "    </tr>\n",
       "    <tr>\n",
       "      <th>7160</th>\n",
       "      <td>ff7c7e70df07</td>\n",
       "      <td>ebad26</td>\n",
       "      <td>They used all sorts of chemical concoctions to...</td>\n",
       "      <td>0.205683</td>\n",
       "      <td>0.380538</td>\n",
       "      <td>Summarize the various ways the factory would u...</td>\n",
       "      <td>Excerpt from The Jungle</td>\n",
       "      <td>With one member trimming beef in a cannery, an...</td>\n",
       "    </tr>\n",
       "    <tr>\n",
       "      <th>7161</th>\n",
       "      <td>ffc34d056498</td>\n",
       "      <td>3b9047</td>\n",
       "      <td>The lowest classes are slaves and farmers slav...</td>\n",
       "      <td>-0.308448</td>\n",
       "      <td>0.048171</td>\n",
       "      <td>In complete sentences, summarize the structure...</td>\n",
       "      <td>Egyptian Social Structure</td>\n",
       "      <td>Egyptian society was structured like a pyramid...</td>\n",
       "    </tr>\n",
       "    <tr>\n",
       "      <th>7162</th>\n",
       "      <td>ffd1576d2e1b</td>\n",
       "      <td>3b9047</td>\n",
       "      <td>they sorta made people start workin...</td>\n",
       "      <td>-1.408180</td>\n",
       "      <td>-0.493603</td>\n",
       "      <td>In complete sentences, summarize the structure...</td>\n",
       "      <td>Egyptian Social Structure</td>\n",
       "      <td>Egyptian society was structured like a pyramid...</td>\n",
       "    </tr>\n",
       "    <tr>\n",
       "      <th>7163</th>\n",
       "      <td>ffe4a98093b2</td>\n",
       "      <td>39c16e</td>\n",
       "      <td>An ideal tragety has three elements that make ...</td>\n",
       "      <td>-0.393310</td>\n",
       "      <td>0.627128</td>\n",
       "      <td>Summarize at least 3 elements of an ideal trag...</td>\n",
       "      <td>On Tragedy</td>\n",
       "      <td>Chapter 13 \\r\\nAs the sequel to what has alrea...</td>\n",
       "    </tr>\n",
       "    <tr>\n",
       "      <th>7164</th>\n",
       "      <td>fffbccfd8a08</td>\n",
       "      <td>ebad26</td>\n",
       "      <td>The meat would smell sour but the would \"rub i...</td>\n",
       "      <td>1.771596</td>\n",
       "      <td>0.547742</td>\n",
       "      <td>Summarize the various ways the factory would u...</td>\n",
       "      <td>Excerpt from The Jungle</td>\n",
       "      <td>With one member trimming beef in a cannery, an...</td>\n",
       "    </tr>\n",
       "  </tbody>\n",
       "</table>\n",
       "<p>7165 rows × 8 columns</p>\n",
       "</div>"
      ],
      "text/plain": [
       "        student_id prompt_id  \\\n",
       "0     000e8c3c7ddb    814d6b   \n",
       "1     0020ae56ffbf    ebad26   \n",
       "2     004e978e639e    3b9047   \n",
       "3     005ab0199905    3b9047   \n",
       "4     0070c9e7af47    814d6b   \n",
       "...            ...       ...   \n",
       "7160  ff7c7e70df07    ebad26   \n",
       "7161  ffc34d056498    3b9047   \n",
       "7162  ffd1576d2e1b    3b9047   \n",
       "7163  ffe4a98093b2    39c16e   \n",
       "7164  fffbccfd8a08    ebad26   \n",
       "\n",
       "                                                   text   content   wording  \\\n",
       "0     The third wave was an experimentto see how peo...  0.205683  0.380538   \n",
       "1     They would rub it up with soda to make the sme... -0.548304  0.506755   \n",
       "2     In Egypt, there were many occupations and soci...  3.128928  4.231226   \n",
       "3     The highest class was Pharaohs these people we... -0.210614 -0.471415   \n",
       "4     The Third Wave developed  rapidly because the ...  3.272894  3.219757   \n",
       "...                                                 ...       ...       ...   \n",
       "7160  They used all sorts of chemical concoctions to...  0.205683  0.380538   \n",
       "7161  The lowest classes are slaves and farmers slav... -0.308448  0.048171   \n",
       "7162             they sorta made people start workin... -1.408180 -0.493603   \n",
       "7163  An ideal tragety has three elements that make ... -0.393310  0.627128   \n",
       "7164  The meat would smell sour but the would \"rub i...  1.771596  0.547742   \n",
       "\n",
       "                                        prompt_question  \\\n",
       "0     Summarize how the Third Wave developed over su...   \n",
       "1     Summarize the various ways the factory would u...   \n",
       "2     In complete sentences, summarize the structure...   \n",
       "3     In complete sentences, summarize the structure...   \n",
       "4     Summarize how the Third Wave developed over su...   \n",
       "...                                                 ...   \n",
       "7160  Summarize the various ways the factory would u...   \n",
       "7161  In complete sentences, summarize the structure...   \n",
       "7162  In complete sentences, summarize the structure...   \n",
       "7163  Summarize at least 3 elements of an ideal trag...   \n",
       "7164  Summarize the various ways the factory would u...   \n",
       "\n",
       "                   prompt_title  \\\n",
       "0                The Third Wave   \n",
       "1       Excerpt from The Jungle   \n",
       "2     Egyptian Social Structure   \n",
       "3     Egyptian Social Structure   \n",
       "4                The Third Wave   \n",
       "...                         ...   \n",
       "7160    Excerpt from The Jungle   \n",
       "7161  Egyptian Social Structure   \n",
       "7162  Egyptian Social Structure   \n",
       "7163                 On Tragedy   \n",
       "7164    Excerpt from The Jungle   \n",
       "\n",
       "                                            prompt_text  \n",
       "0     Background \\r\\nThe Third Wave experiment took ...  \n",
       "1     With one member trimming beef in a cannery, an...  \n",
       "2     Egyptian society was structured like a pyramid...  \n",
       "3     Egyptian society was structured like a pyramid...  \n",
       "4     Background \\r\\nThe Third Wave experiment took ...  \n",
       "...                                                 ...  \n",
       "7160  With one member trimming beef in a cannery, an...  \n",
       "7161  Egyptian society was structured like a pyramid...  \n",
       "7162  Egyptian society was structured like a pyramid...  \n",
       "7163  Chapter 13 \\r\\nAs the sequel to what has alrea...  \n",
       "7164  With one member trimming beef in a cannery, an...  \n",
       "\n",
       "[7165 rows x 8 columns]"
      ]
     },
     "execution_count": 6,
     "metadata": {},
     "output_type": "execute_result"
    }
   ],
   "source": [
    "# dataframe 병합, prompt id 기준으로 각 아이디에 맞는 prompts_train, test 내용을 왼쪽에 붙임\n",
    "train = summaries_train.merge(prompts_train, how=\"left\", on=\"prompt_id\")\n",
    "test = summaries_test.merge(prompts_test, how=\"left\", on=\"prompt_id\")\n",
    "\n",
    "train"
   ]
  },
  {
   "cell_type": "code",
   "execution_count": 7,
   "id": "05375c43",
   "metadata": {
    "execution": {
     "iopub.execute_input": "2023-08-26T04:54:00.445501Z",
     "iopub.status.busy": "2023-08-26T04:54:00.445167Z",
     "iopub.status.idle": "2023-08-26T04:54:00.457362Z",
     "shell.execute_reply": "2023-08-26T04:54:00.456285Z"
    },
    "papermill": {
     "duration": 0.024036,
     "end_time": "2023-08-26T04:54:00.459540",
     "exception": false,
     "start_time": "2023-08-26T04:54:00.435504",
     "status": "completed"
    },
    "tags": []
   },
   "outputs": [
    {
     "data": {
      "text/html": [
       "<div>\n",
       "<style scoped>\n",
       "    .dataframe tbody tr th:only-of-type {\n",
       "        vertical-align: middle;\n",
       "    }\n",
       "\n",
       "    .dataframe tbody tr th {\n",
       "        vertical-align: top;\n",
       "    }\n",
       "\n",
       "    .dataframe thead th {\n",
       "        text-align: right;\n",
       "    }\n",
       "</style>\n",
       "<table border=\"1\" class=\"dataframe\">\n",
       "  <thead>\n",
       "    <tr style=\"text-align: right;\">\n",
       "      <th></th>\n",
       "      <th>student_id</th>\n",
       "      <th>prompt_id</th>\n",
       "      <th>text</th>\n",
       "      <th>prompt_question</th>\n",
       "      <th>prompt_title</th>\n",
       "      <th>prompt_text</th>\n",
       "    </tr>\n",
       "  </thead>\n",
       "  <tbody>\n",
       "    <tr>\n",
       "      <th>0</th>\n",
       "      <td>000000ffffff</td>\n",
       "      <td>abc123</td>\n",
       "      <td>Example text 1</td>\n",
       "      <td>Summarize...</td>\n",
       "      <td>Example Title 1</td>\n",
       "      <td>Heading\\nText...</td>\n",
       "    </tr>\n",
       "    <tr>\n",
       "      <th>1</th>\n",
       "      <td>111111eeeeee</td>\n",
       "      <td>def789</td>\n",
       "      <td>Example text 2</td>\n",
       "      <td>Summarize...</td>\n",
       "      <td>Example Title 2</td>\n",
       "      <td>Heading\\nText...</td>\n",
       "    </tr>\n",
       "    <tr>\n",
       "      <th>2</th>\n",
       "      <td>222222cccccc</td>\n",
       "      <td>abc123</td>\n",
       "      <td>Example text 3</td>\n",
       "      <td>Summarize...</td>\n",
       "      <td>Example Title 1</td>\n",
       "      <td>Heading\\nText...</td>\n",
       "    </tr>\n",
       "    <tr>\n",
       "      <th>3</th>\n",
       "      <td>333333dddddd</td>\n",
       "      <td>def789</td>\n",
       "      <td>Example text 4</td>\n",
       "      <td>Summarize...</td>\n",
       "      <td>Example Title 2</td>\n",
       "      <td>Heading\\nText...</td>\n",
       "    </tr>\n",
       "  </tbody>\n",
       "</table>\n",
       "</div>"
      ],
      "text/plain": [
       "     student_id prompt_id            text prompt_question     prompt_title  \\\n",
       "0  000000ffffff    abc123  Example text 1    Summarize...  Example Title 1   \n",
       "1  111111eeeeee    def789  Example text 2    Summarize...  Example Title 2   \n",
       "2  222222cccccc    abc123  Example text 3    Summarize...  Example Title 1   \n",
       "3  333333dddddd    def789  Example text 4    Summarize...  Example Title 2   \n",
       "\n",
       "        prompt_text  \n",
       "0  Heading\\nText...  \n",
       "1  Heading\\nText...  \n",
       "2  Heading\\nText...  \n",
       "3  Heading\\nText...  "
      ]
     },
     "execution_count": 7,
     "metadata": {},
     "output_type": "execute_result"
    }
   ],
   "source": [
    "test"
   ]
  },
  {
   "cell_type": "code",
   "execution_count": 8,
   "id": "4cf3414f",
   "metadata": {
    "execution": {
     "iopub.execute_input": "2023-08-26T04:54:00.478411Z",
     "iopub.status.busy": "2023-08-26T04:54:00.478119Z",
     "iopub.status.idle": "2023-08-26T04:54:00.483311Z",
     "shell.execute_reply": "2023-08-26T04:54:00.482423Z"
    },
    "papermill": {
     "duration": 0.016617,
     "end_time": "2023-08-26T04:54:00.485383",
     "exception": false,
     "start_time": "2023-08-26T04:54:00.468766",
     "status": "completed"
    },
    "tags": []
   },
   "outputs": [],
   "source": [
    "class CFG:\n",
    "    def __init__(self):\n",
    "        self.model_name = '/kaggle/input/hugging-face-models-safe-tensors/bert-base-uncased'\n",
    "        self.tokenizer_path = '/kaggle/input/hugging-face-models-safe-tensors/bert-base-uncased'\n",
    "        self.batch_size = 8\n",
    "        self.num_epochs = 30\n",
    "        self.token_max = 512\n",
    "        self.learning_rate = 1e-5\n",
    "        self.model_save_path = '/kaggle/working/model01.pt'\n",
    "\n",
    "cfg = CFG()"
   ]
  },
  {
   "cell_type": "code",
   "execution_count": 9,
   "id": "6bedd191",
   "metadata": {
    "execution": {
     "iopub.execute_input": "2023-08-26T04:54:00.503704Z",
     "iopub.status.busy": "2023-08-26T04:54:00.503427Z",
     "iopub.status.idle": "2023-08-26T04:54:08.747006Z",
     "shell.execute_reply": "2023-08-26T04:54:08.746048Z"
    },
    "papermill": {
     "duration": 8.255482,
     "end_time": "2023-08-26T04:54:08.749402",
     "exception": false,
     "start_time": "2023-08-26T04:54:00.493920",
     "status": "completed"
    },
    "tags": []
   },
   "outputs": [
    {
     "name": "stderr",
     "output_type": "stream",
     "text": [
      "/opt/conda/lib/python3.10/site-packages/scipy/__init__.py:146: UserWarning: A NumPy version >=1.16.5 and <1.23.0 is required for this version of SciPy (detected version 1.23.5\n",
      "  warnings.warn(f\"A NumPy version >={np_minversion} and <{np_maxversion}\"\n",
      "/opt/conda/lib/python3.10/site-packages/tensorflow_io/python/ops/__init__.py:98: UserWarning: unable to load libtensorflow_io_plugins.so: unable to open file: libtensorflow_io_plugins.so, from paths: ['/opt/conda/lib/python3.10/site-packages/tensorflow_io/python/ops/libtensorflow_io_plugins.so']\n",
      "caused by: ['/opt/conda/lib/python3.10/site-packages/tensorflow_io/python/ops/libtensorflow_io_plugins.so: undefined symbol: _ZN3tsl6StatusC1EN10tensorflow5error4CodeESt17basic_string_viewIcSt11char_traitsIcEENS_14SourceLocationE']\n",
      "  warnings.warn(f\"unable to load libtensorflow_io_plugins.so: {e}\")\n",
      "/opt/conda/lib/python3.10/site-packages/tensorflow_io/python/ops/__init__.py:104: UserWarning: file system plugins are not loaded: unable to open file: libtensorflow_io.so, from paths: ['/opt/conda/lib/python3.10/site-packages/tensorflow_io/python/ops/libtensorflow_io.so']\n",
      "caused by: ['/opt/conda/lib/python3.10/site-packages/tensorflow_io/python/ops/libtensorflow_io.so: undefined symbol: _ZTVN10tensorflow13GcsFileSystemE']\n",
      "  warnings.warn(f\"file system plugins are not loaded: {e}\")\n"
     ]
    }
   ],
   "source": [
    "from transformers import BertModel, BertTokenizer"
   ]
  },
  {
   "cell_type": "code",
   "execution_count": 10,
   "id": "24b03f4c",
   "metadata": {
    "execution": {
     "iopub.execute_input": "2023-08-26T04:54:08.769910Z",
     "iopub.status.busy": "2023-08-26T04:54:08.769595Z",
     "iopub.status.idle": "2023-08-26T04:54:16.026274Z",
     "shell.execute_reply": "2023-08-26T04:54:16.025286Z"
    },
    "papermill": {
     "duration": 7.269932,
     "end_time": "2023-08-26T04:54:16.028770",
     "exception": false,
     "start_time": "2023-08-26T04:54:08.758838",
     "status": "completed"
    },
    "tags": []
   },
   "outputs": [],
   "source": [
    "tokenizer = AutoTokenizer.from_pretrained(cfg.tokenizer_path)\n",
    "model_deberta = AutoModel.from_pretrained(cfg.model_name)"
   ]
  },
  {
   "cell_type": "code",
   "execution_count": 11,
   "id": "24cc13aa",
   "metadata": {
    "execution": {
     "iopub.execute_input": "2023-08-26T04:54:16.048131Z",
     "iopub.status.busy": "2023-08-26T04:54:16.047809Z",
     "iopub.status.idle": "2023-08-26T04:54:16.052079Z",
     "shell.execute_reply": "2023-08-26T04:54:16.051191Z"
    },
    "papermill": {
     "duration": 0.016389,
     "end_time": "2023-08-26T04:54:16.054179",
     "exception": false,
     "start_time": "2023-08-26T04:54:16.037790",
     "status": "completed"
    },
    "tags": []
   },
   "outputs": [],
   "source": [
    "from itertools import chain\n",
    "from torch.utils.data import TensorDataset, DataLoader, random_split"
   ]
  },
  {
   "cell_type": "code",
   "execution_count": 12,
   "id": "fb5cc420",
   "metadata": {
    "execution": {
     "iopub.execute_input": "2023-08-26T04:54:16.072827Z",
     "iopub.status.busy": "2023-08-26T04:54:16.072550Z",
     "iopub.status.idle": "2023-08-26T04:54:41.844125Z",
     "shell.execute_reply": "2023-08-26T04:54:41.843113Z"
    },
    "papermill": {
     "duration": 25.783786,
     "end_time": "2023-08-26T04:54:41.846716",
     "exception": false,
     "start_time": "2023-08-26T04:54:16.062930",
     "status": "completed"
    },
    "tags": []
   },
   "outputs": [],
   "source": [
    "def get_dataset(df):\n",
    "    encoding = tokenizer(list(df['prompt_question']), list(df['prompt_text']), list(df['text']),\n",
    "                   padding=True,\n",
    "                   truncation=True,\n",
    "                   max_length=cfg.token_max,\n",
    "                   return_tensors=\"pt\")\n",
    "    content = torch.tensor(df['content'], dtype=torch.float32)\n",
    "    wording = torch.tensor(df['wording'], dtype=torch.float32)\n",
    "    labels = torch.dstack((content, wording)).squeeze()\n",
    "    dataset = TensorDataset(encoding['input_ids'], encoding['attention_mask'], labels)\n",
    "    return dataset\n",
    "\n",
    "ds = get_dataset(train)"
   ]
  },
  {
   "cell_type": "code",
   "execution_count": 13,
   "id": "d2f1ec2d",
   "metadata": {
    "execution": {
     "iopub.execute_input": "2023-08-26T04:54:41.867422Z",
     "iopub.status.busy": "2023-08-26T04:54:41.867052Z",
     "iopub.status.idle": "2023-08-26T04:54:41.874661Z",
     "shell.execute_reply": "2023-08-26T04:54:41.873669Z"
    },
    "papermill": {
     "duration": 0.020778,
     "end_time": "2023-08-26T04:54:41.876928",
     "exception": false,
     "start_time": "2023-08-26T04:54:41.856150",
     "status": "completed"
    },
    "tags": []
   },
   "outputs": [],
   "source": [
    "class BERT(nn.Module):\n",
    "    def __init__(self):\n",
    "        super(BERT, self).__init__()\n",
    "        self.bert = BertModel.from_pretrained('/kaggle/input/hugging-face-models-safe-tensors/bert-base-uncased')\n",
    "\n",
    "        self.dropout = nn.Dropout(0.1)\n",
    "        self.linear1 = nn.Linear(768, 128)\n",
    "        self.linear2 = nn.Linear(128, 2)\n",
    "\n",
    "    def forward(self, input_ids, attention_mask):\n",
    "        outputs = self.bert(input_ids=input_ids, attention_mask=attention_mask)\n",
    "        pooled_output = outputs.pooler_output\n",
    "        pooled_output = self.dropout(pooled_output)\n",
    "        output = self.linear1(pooled_output)\n",
    "        output = nn.ReLU()(output)\n",
    "        output = self.linear2(output)\n",
    "        return output"
   ]
  },
  {
   "cell_type": "code",
   "execution_count": 14,
   "id": "fd13b9cb",
   "metadata": {
    "execution": {
     "iopub.execute_input": "2023-08-26T04:54:41.897124Z",
     "iopub.status.busy": "2023-08-26T04:54:41.896822Z",
     "iopub.status.idle": "2023-08-26T04:54:41.905435Z",
     "shell.execute_reply": "2023-08-26T04:54:41.904275Z"
    },
    "papermill": {
     "duration": 0.021745,
     "end_time": "2023-08-26T04:54:41.908285",
     "exception": false,
     "start_time": "2023-08-26T04:54:41.886540",
     "status": "completed"
    },
    "tags": []
   },
   "outputs": [
    {
     "name": "stdout",
     "output_type": "stream",
     "text": [
      "5732\n",
      "1433\n"
     ]
    }
   ],
   "source": [
    "train_ds, val_ds = random_split(ds, [0.8, 0.2])\n",
    "print(len(train_ds))\n",
    "print(len(val_ds))"
   ]
  },
  {
   "cell_type": "code",
   "execution_count": 15,
   "id": "f2d95ba2",
   "metadata": {
    "execution": {
     "iopub.execute_input": "2023-08-26T04:54:41.928502Z",
     "iopub.status.busy": "2023-08-26T04:54:41.928154Z",
     "iopub.status.idle": "2023-08-26T04:54:41.933504Z",
     "shell.execute_reply": "2023-08-26T04:54:41.932552Z"
    },
    "papermill": {
     "duration": 0.017872,
     "end_time": "2023-08-26T04:54:41.935681",
     "exception": false,
     "start_time": "2023-08-26T04:54:41.917809",
     "status": "completed"
    },
    "tags": []
   },
   "outputs": [],
   "source": [
    "train_dataloader = DataLoader(\n",
    "            train_ds,  \n",
    "            batch_size = cfg.batch_size \n",
    ")\n",
    "\n",
    "val_dataloader = DataLoader(\n",
    "            val_ds,  \n",
    "            batch_size = cfg.batch_size\n",
    ")"
   ]
  },
  {
   "cell_type": "code",
   "execution_count": 16,
   "id": "e3fd24f9",
   "metadata": {
    "execution": {
     "iopub.execute_input": "2023-08-26T04:54:41.955936Z",
     "iopub.status.busy": "2023-08-26T04:54:41.955017Z",
     "iopub.status.idle": "2023-08-26T04:54:41.959719Z",
     "shell.execute_reply": "2023-08-26T04:54:41.958840Z"
    },
    "papermill": {
     "duration": 0.017167,
     "end_time": "2023-08-26T04:54:41.961951",
     "exception": false,
     "start_time": "2023-08-26T04:54:41.944784",
     "status": "completed"
    },
    "tags": []
   },
   "outputs": [],
   "source": [
    "# installation \n",
    "#!curl https://raw.githubusercontent.com/pytorch/xla/master/contrib/scripts/env-setup.py -o pytorch-xla-env-setup.py\n",
    "#!python pytorch-xla-env-setup.py --version nightly --apt-packages libomp5 libopenblas-dev"
   ]
  },
  {
   "cell_type": "code",
   "execution_count": 17,
   "id": "988df14e",
   "metadata": {
    "execution": {
     "iopub.execute_input": "2023-08-26T04:54:41.982124Z",
     "iopub.status.busy": "2023-08-26T04:54:41.980575Z",
     "iopub.status.idle": "2023-08-26T04:54:41.985165Z",
     "shell.execute_reply": "2023-08-26T04:54:41.984303Z"
    },
    "papermill": {
     "duration": 0.016367,
     "end_time": "2023-08-26T04:54:41.987156",
     "exception": false,
     "start_time": "2023-08-26T04:54:41.970789",
     "status": "completed"
    },
    "tags": []
   },
   "outputs": [],
   "source": [
    "# for TPU\n",
    "#import torch_xla\n",
    "#import torch_xla.core.xla_model as xm"
   ]
  },
  {
   "cell_type": "code",
   "execution_count": 18,
   "id": "5fb5df3b",
   "metadata": {
    "execution": {
     "iopub.execute_input": "2023-08-26T04:54:42.006653Z",
     "iopub.status.busy": "2023-08-26T04:54:42.005859Z",
     "iopub.status.idle": "2023-08-26T04:54:42.010746Z",
     "shell.execute_reply": "2023-08-26T04:54:42.009868Z"
    },
    "papermill": {
     "duration": 0.016743,
     "end_time": "2023-08-26T04:54:42.012701",
     "exception": false,
     "start_time": "2023-08-26T04:54:41.995958",
     "status": "completed"
    },
    "tags": []
   },
   "outputs": [],
   "source": [
    "#device = xm.xla_device()"
   ]
  },
  {
   "cell_type": "code",
   "execution_count": 19,
   "id": "0bbcc8bc",
   "metadata": {
    "execution": {
     "iopub.execute_input": "2023-08-26T04:54:42.032575Z",
     "iopub.status.busy": "2023-08-26T04:54:42.031810Z",
     "iopub.status.idle": "2023-08-26T04:54:42.103153Z",
     "shell.execute_reply": "2023-08-26T04:54:42.101691Z"
    },
    "papermill": {
     "duration": 0.083509,
     "end_time": "2023-08-26T04:54:42.105260",
     "exception": false,
     "start_time": "2023-08-26T04:54:42.021751",
     "status": "completed"
    },
    "tags": []
   },
   "outputs": [
    {
     "name": "stdout",
     "output_type": "stream",
     "text": [
      "GPU is available and being used\n"
     ]
    }
   ],
   "source": [
    "if torch.cuda.is_available():\n",
    "    device = torch.device(\"cuda\")\n",
    "    print(\"GPU is available and being used\")\n",
    "else:\n",
    "    device = torch.device(\"cpu\")\n",
    "    print(\"GPU is not available, using CPU instead\")"
   ]
  },
  {
   "cell_type": "code",
   "execution_count": 20,
   "id": "434ee31e",
   "metadata": {
    "execution": {
     "iopub.execute_input": "2023-08-26T04:54:42.125088Z",
     "iopub.status.busy": "2023-08-26T04:54:42.124213Z",
     "iopub.status.idle": "2023-08-26T04:54:42.418685Z",
     "shell.execute_reply": "2023-08-26T04:54:42.417617Z"
    },
    "papermill": {
     "duration": 0.306612,
     "end_time": "2023-08-26T04:54:42.420925",
     "exception": false,
     "start_time": "2023-08-26T04:54:42.114313",
     "status": "completed"
    },
    "tags": []
   },
   "outputs": [],
   "source": [
    "import torch, gc\n",
    "gc.collect()\n",
    "torch.cuda.empty_cache()"
   ]
  },
  {
   "cell_type": "code",
   "execution_count": 21,
   "id": "677cc570",
   "metadata": {
    "execution": {
     "iopub.execute_input": "2023-08-26T04:54:42.443724Z",
     "iopub.status.busy": "2023-08-26T04:54:42.443395Z",
     "iopub.status.idle": "2023-08-26T04:54:48.709817Z",
     "shell.execute_reply": "2023-08-26T04:54:48.708738Z"
    },
    "papermill": {
     "duration": 6.28217,
     "end_time": "2023-08-26T04:54:48.712375",
     "exception": false,
     "start_time": "2023-08-26T04:54:42.430205",
     "status": "completed"
    },
    "tags": []
   },
   "outputs": [],
   "source": [
    "model = BERT().to(device)\n",
    "optimizer = torch.optim.AdamW(model.parameters(), lr=cfg.learning_rate)\n",
    "loss_fn = nn.MSELoss() # RMSE\n",
    "min_val_loss = np.inf"
   ]
  },
  {
   "cell_type": "code",
   "execution_count": 22,
   "id": "7e4d5587",
   "metadata": {
    "execution": {
     "iopub.execute_input": "2023-08-26T04:54:48.732755Z",
     "iopub.status.busy": "2023-08-26T04:54:48.732095Z",
     "iopub.status.idle": "2023-08-26T06:33:57.253774Z",
     "shell.execute_reply": "2023-08-26T06:33:57.252786Z"
    },
    "papermill": {
     "duration": 5948.557698,
     "end_time": "2023-08-26T06:33:57.279693",
     "exception": false,
     "start_time": "2023-08-26T04:54:48.721995",
     "status": "completed"
    },
    "tags": []
   },
   "outputs": [
    {
     "name": "stdout",
     "output_type": "stream",
     "text": [
      "Epoch 1, Step 0, Loss: 1.0522392988204956\n",
      "Epoch 1, Step 100, Loss: 0.5879120826721191\n",
      "Epoch 1, Step 200, Loss: 0.8454828262329102\n",
      "Epoch 1, Step 300, Loss: 0.9441257119178772\n",
      "Epoch 1, Step 400, Loss: 2.5995376110076904\n",
      "Epoch 1, Step 500, Loss: 1.1906298398971558\n",
      "Epoch 1, Step 600, Loss: 1.0625885725021362\n",
      "Epoch 1, Step 700, Loss: 0.604529619216919\n",
      "Epoch 1 Loss: 1.0455275336527259\n",
      "Validation Loss: 1.08659827709198\n",
      "saving model with score: 1.08659827709198\n",
      "Epoch 2, Step 0, Loss: 1.1534037590026855\n",
      "Epoch 2, Step 100, Loss: 0.6080359220504761\n",
      "Epoch 2, Step 200, Loss: 0.8302546739578247\n",
      "Epoch 2, Step 300, Loss: 0.9580228328704834\n",
      "Epoch 2, Step 400, Loss: 2.6226656436920166\n",
      "Epoch 2, Step 500, Loss: 1.2151098251342773\n",
      "Epoch 2, Step 600, Loss: 1.0855225324630737\n",
      "Epoch 2, Step 700, Loss: 0.5752120018005371\n",
      "Epoch 2 Loss: 1.040770490912297\n",
      "Validation Loss: 1.0849053859710693\n",
      "saving model with score: 1.0849053859710693\n",
      "Epoch 3, Step 0, Loss: 1.1290397644042969\n",
      "Epoch 3, Step 100, Loss: 0.5920347571372986\n",
      "Epoch 3, Step 200, Loss: 0.8270556330680847\n",
      "Epoch 3, Step 300, Loss: 1.0323539972305298\n",
      "Epoch 3, Step 400, Loss: 2.574355125427246\n",
      "Epoch 3, Step 500, Loss: 1.1948699951171875\n",
      "Epoch 3, Step 600, Loss: 1.086378812789917\n",
      "Epoch 3, Step 700, Loss: 0.583623468875885\n",
      "Epoch 3 Loss: 1.0395044401869946\n",
      "Validation Loss: 1.0847110748291016\n",
      "saving model with score: 1.0847110748291016\n",
      "Epoch 4, Step 0, Loss: 1.109681487083435\n",
      "Epoch 4, Step 100, Loss: 0.6017005443572998\n",
      "Epoch 4, Step 200, Loss: 0.8563328981399536\n",
      "Epoch 4, Step 300, Loss: 0.9983717203140259\n",
      "Epoch 4, Step 400, Loss: 2.55572772026062\n",
      "Epoch 4, Step 500, Loss: 1.1818214654922485\n",
      "Epoch 4, Step 600, Loss: 1.0699772834777832\n",
      "Epoch 4, Step 700, Loss: 0.5807416439056396\n",
      "Epoch 4 Loss: 1.0396468753366623\n",
      "Validation Loss: 1.0814014673233032\n",
      "saving model with score: 1.0814014673233032\n",
      "Epoch 5, Step 0, Loss: 1.105129599571228\n",
      "Epoch 5, Step 100, Loss: 0.6029819250106812\n",
      "Epoch 5, Step 200, Loss: 0.8235008716583252\n",
      "Epoch 5, Step 300, Loss: 0.9956448674201965\n",
      "Epoch 5, Step 400, Loss: 2.572850227355957\n",
      "Epoch 5, Step 500, Loss: 1.199660301208496\n",
      "Epoch 5, Step 600, Loss: 1.1015281677246094\n",
      "Epoch 5, Step 700, Loss: 0.5939702987670898\n",
      "Epoch 5 Loss: 1.0387992459651982\n",
      "Validation Loss: 1.0816060304641724\n",
      "Epoch 6, Step 0, Loss: 1.1134392023086548\n",
      "Epoch 6, Step 100, Loss: 0.5915918946266174\n",
      "Epoch 6, Step 200, Loss: 0.8509460687637329\n",
      "Epoch 6, Step 300, Loss: 0.9242417216300964\n",
      "Epoch 6, Step 400, Loss: 2.618987798690796\n",
      "Epoch 6, Step 500, Loss: 1.2006827592849731\n",
      "Epoch 6, Step 600, Loss: 1.071486234664917\n",
      "Epoch 6, Step 700, Loss: 0.6176580190658569\n",
      "Epoch 6 Loss: 1.0401574350696061\n",
      "Validation Loss: 1.0815722942352295\n",
      "Epoch 7, Step 0, Loss: 1.0900444984436035\n",
      "Epoch 7, Step 100, Loss: 0.5783406496047974\n",
      "Epoch 7, Step 200, Loss: 0.8162184953689575\n",
      "Epoch 7, Step 300, Loss: 0.9968322515487671\n",
      "Epoch 7, Step 400, Loss: 2.5967326164245605\n",
      "Epoch 7, Step 500, Loss: 1.1923530101776123\n",
      "Epoch 7, Step 600, Loss: 1.101087212562561\n",
      "Epoch 7, Step 700, Loss: 0.6195217967033386\n",
      "Epoch 7 Loss: 1.0389393089206647\n",
      "Validation Loss: 1.081046223640442\n",
      "saving model with score: 1.081046223640442\n",
      "Epoch 8, Step 0, Loss: 1.1205599308013916\n",
      "Epoch 8, Step 100, Loss: 0.585477352142334\n",
      "Epoch 8, Step 200, Loss: 0.8266077637672424\n",
      "Epoch 8, Step 300, Loss: 0.9723695516586304\n",
      "Epoch 8, Step 400, Loss: 2.514923334121704\n",
      "Epoch 8, Step 500, Loss: 1.2197723388671875\n",
      "Epoch 8, Step 600, Loss: 1.082786202430725\n",
      "Epoch 8, Step 700, Loss: 0.5960808992385864\n",
      "Epoch 8 Loss: 1.036881297639723\n",
      "Validation Loss: 1.0814061164855957\n",
      "Epoch 9, Step 0, Loss: 1.120424509048462\n",
      "Epoch 9, Step 100, Loss: 0.6085237264633179\n",
      "Epoch 9, Step 200, Loss: 0.8498183488845825\n",
      "Epoch 9, Step 300, Loss: 0.9753296375274658\n",
      "Epoch 9, Step 400, Loss: 2.5886831283569336\n",
      "Epoch 9, Step 500, Loss: 1.204614520072937\n",
      "Epoch 9, Step 600, Loss: 1.0868523120880127\n",
      "Epoch 9, Step 700, Loss: 0.6131643056869507\n",
      "Epoch 9 Loss: 1.039552403013826\n",
      "Validation Loss: 1.079595923423767\n",
      "saving model with score: 1.079595923423767\n",
      "Epoch 10, Step 0, Loss: 1.0879278182983398\n",
      "Epoch 10, Step 100, Loss: 0.582522451877594\n",
      "Epoch 10, Step 200, Loss: 0.8274624943733215\n",
      "Epoch 10, Step 300, Loss: 0.9405460357666016\n",
      "Epoch 10, Step 400, Loss: 2.6455740928649902\n",
      "Epoch 10, Step 500, Loss: 1.2162649631500244\n",
      "Epoch 10, Step 600, Loss: 1.0834583044052124\n",
      "Epoch 10, Step 700, Loss: 0.6005799770355225\n",
      "Epoch 10 Loss: 1.0387568821509678\n",
      "Validation Loss: 1.081668496131897\n",
      "Epoch 11, Step 0, Loss: 1.115003228187561\n",
      "Epoch 11, Step 100, Loss: 0.5978281497955322\n",
      "Epoch 11, Step 200, Loss: 0.8179237842559814\n",
      "Epoch 11, Step 300, Loss: 1.0158151388168335\n",
      "Epoch 11, Step 400, Loss: 2.5812854766845703\n",
      "Epoch 11, Step 500, Loss: 1.2058767080307007\n",
      "Epoch 11, Step 600, Loss: 1.0482127666473389\n",
      "Epoch 11, Step 700, Loss: 0.6220287680625916\n",
      "Epoch 11 Loss: 1.0375016676041204\n",
      "Validation Loss: 1.0803383588790894\n",
      "Epoch 12, Step 0, Loss: 1.1214076280593872\n",
      "Epoch 12, Step 100, Loss: 0.5863106846809387\n",
      "Epoch 12, Step 200, Loss: 0.8260101079940796\n",
      "Epoch 12, Step 300, Loss: 0.9807817935943604\n",
      "Epoch 12, Step 400, Loss: 2.6313581466674805\n",
      "Epoch 12, Step 500, Loss: 1.1894512176513672\n",
      "Epoch 12, Step 600, Loss: 1.12022066116333\n",
      "Epoch 12, Step 700, Loss: 0.6123053431510925\n",
      "Epoch 12 Loss: 1.0392535202610442\n",
      "Validation Loss: 1.0828286409378052\n",
      "Epoch 13, Step 0, Loss: 1.1520323753356934\n",
      "Epoch 13, Step 100, Loss: 0.5970660448074341\n",
      "Epoch 13, Step 200, Loss: 0.8051530122756958\n",
      "Epoch 13, Step 300, Loss: 1.0012630224227905\n",
      "Epoch 13, Step 400, Loss: 2.586362600326538\n",
      "Epoch 13, Step 500, Loss: 1.2358914613723755\n",
      "Epoch 13, Step 600, Loss: 1.101676344871521\n",
      "Epoch 13, Step 700, Loss: 0.5883790850639343\n",
      "Epoch 13 Loss: 1.0391818913040134\n",
      "Validation Loss: 1.0820308923721313\n",
      "Epoch 14, Step 0, Loss: 1.106056809425354\n",
      "Epoch 14, Step 100, Loss: 0.5745188593864441\n",
      "Epoch 14, Step 200, Loss: 0.8768430948257446\n",
      "Epoch 14, Step 300, Loss: 0.9867634773254395\n",
      "Epoch 14, Step 400, Loss: 2.543370485305786\n",
      "Epoch 14, Step 500, Loss: 1.1975620985031128\n",
      "Epoch 14, Step 600, Loss: 1.083491563796997\n",
      "Epoch 14, Step 700, Loss: 0.6119555234909058\n",
      "Epoch 14 Loss: 1.0379054093190483\n",
      "Validation Loss: 1.08118736743927\n",
      "Epoch 15, Step 0, Loss: 1.1004420518875122\n",
      "Epoch 15, Step 100, Loss: 0.5889946818351746\n",
      "Epoch 15, Step 200, Loss: 0.8415963649749756\n",
      "Epoch 15, Step 300, Loss: 0.9449344873428345\n",
      "Epoch 15, Step 400, Loss: 2.559366226196289\n",
      "Epoch 15, Step 500, Loss: 1.2124323844909668\n",
      "Epoch 15, Step 600, Loss: 1.0855164527893066\n",
      "Epoch 15, Step 700, Loss: 0.6135830283164978\n",
      "Epoch 15 Loss: 1.0379107848142315\n",
      "Validation Loss: 1.081992506980896\n",
      "Epoch 16, Step 0, Loss: 1.1160037517547607\n",
      "Epoch 16, Step 100, Loss: 0.6057295203208923\n",
      "Epoch 16, Step 200, Loss: 0.8423581123352051\n",
      "Epoch 16, Step 300, Loss: 0.9634184241294861\n",
      "Epoch 16, Step 400, Loss: 2.6301417350769043\n",
      "Epoch 16, Step 500, Loss: 1.1884469985961914\n",
      "Epoch 16, Step 600, Loss: 1.072016954421997\n",
      "Epoch 16, Step 700, Loss: 0.5988572835922241\n",
      "Epoch 16 Loss: 1.0367198065131114\n",
      "Validation Loss: 1.0800435543060303\n",
      "Epoch 17, Step 0, Loss: 1.109758734703064\n",
      "Epoch 17, Step 100, Loss: 0.5894660949707031\n",
      "Epoch 17, Step 200, Loss: 0.8374843597412109\n",
      "Epoch 17, Step 300, Loss: 0.981207549571991\n",
      "Epoch 17, Step 400, Loss: 2.6199896335601807\n",
      "Epoch 17, Step 500, Loss: 1.216549038887024\n",
      "Epoch 17, Step 600, Loss: 1.0622552633285522\n",
      "Epoch 17, Step 700, Loss: 0.5943641662597656\n",
      "Epoch 17 Loss: 1.0380244114575192\n",
      "Validation Loss: 1.0816696882247925\n",
      "Epoch 18, Step 0, Loss: 1.0822782516479492\n",
      "Epoch 18, Step 100, Loss: 0.596246063709259\n",
      "Epoch 18, Step 200, Loss: 0.8086210489273071\n",
      "Epoch 18, Step 300, Loss: 0.9690320491790771\n",
      "Epoch 18, Step 400, Loss: 2.6519148349761963\n",
      "Epoch 18, Step 500, Loss: 1.2272875308990479\n",
      "Epoch 18, Step 600, Loss: 1.1041299104690552\n",
      "Epoch 18, Step 700, Loss: 0.5951164364814758\n",
      "Epoch 18 Loss: 1.0382859906599944\n",
      "Validation Loss: 1.0811803340911865\n",
      "Early Stopping trigerred on epoch: {}\n"
     ]
    }
   ],
   "source": [
    "# Training loop\n",
    "model.train()\n",
    "patience = 0\n",
    "\n",
    "for epoch in range(cfg.num_epochs):\n",
    "    running_loss = 0.0\n",
    "    for step, (input_ids, attention_mask, labels) in enumerate(train_dataloader):\n",
    "        input_ids = input_ids.to(device)\n",
    "        attention_mask = attention_mask.to(device)\n",
    "        labels = labels.to(device)\n",
    "        \n",
    "        optimizer.zero_grad()\n",
    "\n",
    "        outputs = model(input_ids, attention_mask)\n",
    "        loss = loss_fn(outputs, labels)\n",
    "        loss.backward()\n",
    "        optimizer.step()\n",
    "        if step % 100 == 0:\n",
    "            print(\"Epoch {}, Step {}, Loss: {}\".format(epoch+1, step, loss.item()))\n",
    "\n",
    "        running_loss += loss.item()\n",
    "\n",
    "    print(f\"Epoch {epoch+1} Loss: {running_loss / len(train_dataloader)}\")\n",
    "\n",
    "    # Validation loop\n",
    "    model.eval()\n",
    "    with torch.no_grad():\n",
    "        val_loss = 0.0\n",
    "        for val_step, (input_ids, attention_mask, labels) in enumerate(val_dataloader):\n",
    "            input_ids = input_ids.to(device)\n",
    "            attention_mask = attention_mask.to(device)\n",
    "            labels = labels.to(device)\n",
    "            \n",
    "            val_outputs = model(input_ids, attention_mask)\n",
    "            val_loss += loss_fn(val_outputs, labels) \n",
    "        avg_loss = val_loss / len(val_dataloader)\n",
    "        print(f\"Validation Loss: {avg_loss}\")\n",
    "        \n",
    "        if avg_loss < min_val_loss:\n",
    "            patience = 0\n",
    "            min_val_loss = avg_loss\n",
    "            torch.save(model.state_dict(), cfg.model_save_path)\n",
    "            print(f'saving model with score: {avg_loss}')\n",
    "            \n",
    "    patience += 1    \n",
    "    if patience >= 10:\n",
    "            print('Early Stopping trigerred on epoch: {}')\n",
    "            break\n",
    "            \n",
    "    model.train()"
   ]
  },
  {
   "cell_type": "code",
   "execution_count": 23,
   "id": "74f0eb39",
   "metadata": {
    "execution": {
     "iopub.execute_input": "2023-08-26T06:33:57.330453Z",
     "iopub.status.busy": "2023-08-26T06:33:57.329632Z",
     "iopub.status.idle": "2023-08-26T06:33:59.168378Z",
     "shell.execute_reply": "2023-08-26T06:33:59.167377Z"
    },
    "papermill": {
     "duration": 1.866424,
     "end_time": "2023-08-26T06:33:59.170898",
     "exception": false,
     "start_time": "2023-08-26T06:33:57.304474",
     "status": "completed"
    },
    "tags": []
   },
   "outputs": [],
   "source": [
    "model = BERT()\n",
    "model.load_state_dict(torch.load(cfg.model_save_path))\n",
    "model.eval()\n",
    "\n",
    "\n",
    "enc = tokenizer(list(test['prompt_question']), list(test['prompt_text']), list(test['text']),\n",
    "                   padding=True,\n",
    "                   truncation=True,\n",
    "                   max_length=cfg.token_max,\n",
    "                   return_tensors=\"pt\")\n",
    "\n",
    "test_ds = TensorDataset(enc['input_ids'], enc['attention_mask'])\n",
    "test_dataloader = torch.utils.data.DataLoader(test_ds, batch_size=16, shuffle=False)\n",
    "\n",
    "\n",
    "predictions = []\n",
    "with torch.no_grad():\n",
    "    for input_ids, attention_mask in test_dataloader:\n",
    "        input_ids = input_ids\n",
    "        attention_mask = attention_mask\n",
    "\n",
    "        outputs = model(input_ids, attention_mask)\n",
    "        predictions.extend(outputs.cpu().numpy())\n",
    "        "
   ]
  },
  {
   "cell_type": "code",
   "execution_count": 24,
   "id": "5fbc6e1d",
   "metadata": {
    "execution": {
     "iopub.execute_input": "2023-08-26T06:33:59.219361Z",
     "iopub.status.busy": "2023-08-26T06:33:59.217774Z",
     "iopub.status.idle": "2023-08-26T06:33:59.224963Z",
     "shell.execute_reply": "2023-08-26T06:33:59.224094Z"
    },
    "papermill": {
     "duration": 0.032949,
     "end_time": "2023-08-26T06:33:59.227296",
     "exception": false,
     "start_time": "2023-08-26T06:33:59.194347",
     "status": "completed"
    },
    "tags": []
   },
   "outputs": [],
   "source": [
    "submission_df = pd.DataFrame({\n",
    "    'student_id': test['student_id'],\n",
    "    'content': [pred[0] for pred in predictions],\n",
    "    'wording': [pred[1] for pred in predictions]\n",
    "})"
   ]
  },
  {
   "cell_type": "code",
   "execution_count": 25,
   "id": "c318625f",
   "metadata": {
    "execution": {
     "iopub.execute_input": "2023-08-26T06:33:59.273263Z",
     "iopub.status.busy": "2023-08-26T06:33:59.272908Z",
     "iopub.status.idle": "2023-08-26T06:33:59.283541Z",
     "shell.execute_reply": "2023-08-26T06:33:59.282616Z"
    },
    "papermill": {
     "duration": 0.036115,
     "end_time": "2023-08-26T06:33:59.285563",
     "exception": false,
     "start_time": "2023-08-26T06:33:59.249448",
     "status": "completed"
    },
    "tags": []
   },
   "outputs": [
    {
     "data": {
      "text/html": [
       "<div>\n",
       "<style scoped>\n",
       "    .dataframe tbody tr th:only-of-type {\n",
       "        vertical-align: middle;\n",
       "    }\n",
       "\n",
       "    .dataframe tbody tr th {\n",
       "        vertical-align: top;\n",
       "    }\n",
       "\n",
       "    .dataframe thead th {\n",
       "        text-align: right;\n",
       "    }\n",
       "</style>\n",
       "<table border=\"1\" class=\"dataframe\">\n",
       "  <thead>\n",
       "    <tr style=\"text-align: right;\">\n",
       "      <th></th>\n",
       "      <th>student_id</th>\n",
       "      <th>content</th>\n",
       "      <th>wording</th>\n",
       "    </tr>\n",
       "  </thead>\n",
       "  <tbody>\n",
       "    <tr>\n",
       "      <th>0</th>\n",
       "      <td>000000ffffff</td>\n",
       "      <td>-0.112687</td>\n",
       "      <td>-0.12167</td>\n",
       "    </tr>\n",
       "    <tr>\n",
       "      <th>1</th>\n",
       "      <td>111111eeeeee</td>\n",
       "      <td>-0.112687</td>\n",
       "      <td>-0.12167</td>\n",
       "    </tr>\n",
       "    <tr>\n",
       "      <th>2</th>\n",
       "      <td>222222cccccc</td>\n",
       "      <td>-0.112687</td>\n",
       "      <td>-0.12167</td>\n",
       "    </tr>\n",
       "    <tr>\n",
       "      <th>3</th>\n",
       "      <td>333333dddddd</td>\n",
       "      <td>-0.112687</td>\n",
       "      <td>-0.12167</td>\n",
       "    </tr>\n",
       "  </tbody>\n",
       "</table>\n",
       "</div>"
      ],
      "text/plain": [
       "     student_id   content  wording\n",
       "0  000000ffffff -0.112687 -0.12167\n",
       "1  111111eeeeee -0.112687 -0.12167\n",
       "2  222222cccccc -0.112687 -0.12167\n",
       "3  333333dddddd -0.112687 -0.12167"
      ]
     },
     "execution_count": 25,
     "metadata": {},
     "output_type": "execute_result"
    }
   ],
   "source": [
    "submission_df"
   ]
  },
  {
   "cell_type": "code",
   "execution_count": 26,
   "id": "5a40afcf",
   "metadata": {
    "execution": {
     "iopub.execute_input": "2023-08-26T06:33:59.332321Z",
     "iopub.status.busy": "2023-08-26T06:33:59.331989Z",
     "iopub.status.idle": "2023-08-26T06:33:59.340273Z",
     "shell.execute_reply": "2023-08-26T06:33:59.339408Z"
    },
    "papermill": {
     "duration": 0.033462,
     "end_time": "2023-08-26T06:33:59.342219",
     "exception": false,
     "start_time": "2023-08-26T06:33:59.308757",
     "status": "completed"
    },
    "tags": []
   },
   "outputs": [],
   "source": [
    "submission_df.to_csv('submission.csv', index=False)"
   ]
  },
  {
   "cell_type": "code",
   "execution_count": null,
   "id": "50f8d567",
   "metadata": {
    "papermill": {
     "duration": 0.021908,
     "end_time": "2023-08-26T06:33:59.386983",
     "exception": false,
     "start_time": "2023-08-26T06:33:59.365075",
     "status": "completed"
    },
    "tags": []
   },
   "outputs": [],
   "source": []
  }
 ],
 "metadata": {
  "kernelspec": {
   "display_name": "Python 3",
   "language": "python",
   "name": "python3"
  },
  "language_info": {
   "codemirror_mode": {
    "name": "ipython",
    "version": 3
   },
   "file_extension": ".py",
   "mimetype": "text/x-python",
   "name": "python",
   "nbconvert_exporter": "python",
   "pygments_lexer": "ipython3",
   "version": "3.10.12"
  },
  "papermill": {
   "default_parameters": {},
   "duration": 6018.003512,
   "end_time": "2023-08-26T06:34:03.039488",
   "environment_variables": {},
   "exception": null,
   "input_path": "__notebook__.ipynb",
   "output_path": "__notebook__.ipynb",
   "parameters": {},
   "start_time": "2023-08-26T04:53:45.035976",
   "version": "2.4.0"
  }
 },
 "nbformat": 4,
 "nbformat_minor": 5
}
