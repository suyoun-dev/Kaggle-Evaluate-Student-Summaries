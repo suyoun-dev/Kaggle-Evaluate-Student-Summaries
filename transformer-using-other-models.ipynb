{
 "cells": [
  {
   "cell_type": "code",
   "execution_count": 1,
   "id": "c4d2321f",
   "metadata": {
    "_cell_guid": "b1076dfc-b9ad-4769-8c92-a6c4dae69d19",
    "_uuid": "8f2839f25d086af736a60e9eeb907d3b93b6e0e5",
    "execution": {
     "iopub.execute_input": "2023-08-26T16:50:52.992760Z",
     "iopub.status.busy": "2023-08-26T16:50:52.992348Z",
     "iopub.status.idle": "2023-08-26T16:50:53.021757Z",
     "shell.execute_reply": "2023-08-26T16:50:53.020444Z"
    },
    "papermill": {
     "duration": 0.044185,
     "end_time": "2023-08-26T16:50:53.023965",
     "exception": false,
     "start_time": "2023-08-26T16:50:52.979780",
     "status": "completed"
    },
    "tags": []
   },
   "outputs": [
    {
     "name": "stdout",
     "output_type": "stream",
     "text": [
      "/kaggle/input/hugging-face-models-safe-tensors/bert-base-uncased/config.json\n",
      "/kaggle/input/hugging-face-models-safe-tensors/bert-base-uncased/tokenizer_config.json\n",
      "/kaggle/input/hugging-face-models-safe-tensors/bert-base-uncased/pytorch_model.bin\n",
      "/kaggle/input/hugging-face-models-safe-tensors/bert-base-uncased/special_tokens_map.json\n",
      "/kaggle/input/hugging-face-models-safe-tensors/bert-base-uncased/vocab.txt\n",
      "/kaggle/input/commonlit-evaluate-student-summaries/sample_submission.csv\n",
      "/kaggle/input/commonlit-evaluate-student-summaries/prompts_train.csv\n",
      "/kaggle/input/commonlit-evaluate-student-summaries/summaries_test.csv\n",
      "/kaggle/input/commonlit-evaluate-student-summaries/summaries_train.csv\n",
      "/kaggle/input/commonlit-evaluate-student-summaries/prompts_test.csv\n"
     ]
    }
   ],
   "source": [
    "# This Python 3 environment comes with many helpful analytics libraries installed\n",
    "# It is defined by the kaggle/python Docker image: https://github.com/kaggle/docker-python\n",
    "# For example, here's several helpful packages to load\n",
    "\n",
    "import numpy as np # linear algebra\n",
    "import pandas as pd # data processing, CSV file I/O (e.g. pd.read_csv)\n",
    "\n",
    "# Input data files are available in the read-only \"../input/\" directory\n",
    "# For example, running this (by clicking run or pressing Shift+Enter) will list all files under the input directory\n",
    "\n",
    "import os\n",
    "for dirname, _, filenames in os.walk('/kaggle/input'):\n",
    "    for filename in filenames:\n",
    "        print(os.path.join(dirname, filename))\n",
    "\n",
    "# You can write up to 20GB to the current directory (/kaggle/working/) that gets preserved as output when you create a version using \"Save & Run All\" \n",
    "# You can also write temporary files to /kaggle/temp/, but they won't be saved outside of the current session"
   ]
  },
  {
   "cell_type": "markdown",
   "id": "2354d7bb",
   "metadata": {
    "papermill": {
     "duration": 0.012091,
     "end_time": "2023-08-26T16:50:53.047047",
     "exception": false,
     "start_time": "2023-08-26T16:50:53.034956",
     "status": "completed"
    },
    "tags": []
   },
   "source": [
    "## Reference: Bert Tokenizer + Fine-Tuning Model\n",
    "https://www.kaggle.com/code/theodorospsarras/bert-tokenizer-fine-tuning-model/input"
   ]
  },
  {
   "cell_type": "code",
   "execution_count": 2,
   "id": "30c70768",
   "metadata": {
    "execution": {
     "iopub.execute_input": "2023-08-26T16:50:53.070014Z",
     "iopub.status.busy": "2023-08-26T16:50:53.069731Z",
     "iopub.status.idle": "2023-08-26T16:50:53.073687Z",
     "shell.execute_reply": "2023-08-26T16:50:53.072744Z"
    },
    "papermill": {
     "duration": 0.015103,
     "end_time": "2023-08-26T16:50:53.075693",
     "exception": false,
     "start_time": "2023-08-26T16:50:53.060590",
     "status": "completed"
    },
    "tags": []
   },
   "outputs": [],
   "source": [
    "#!pip install torch"
   ]
  },
  {
   "cell_type": "code",
   "execution_count": 3,
   "id": "7b9be3c0",
   "metadata": {
    "execution": {
     "iopub.execute_input": "2023-08-26T16:50:53.093577Z",
     "iopub.status.busy": "2023-08-26T16:50:53.092757Z",
     "iopub.status.idle": "2023-08-26T16:50:57.472728Z",
     "shell.execute_reply": "2023-08-26T16:50:57.471702Z"
    },
    "papermill": {
     "duration": 4.39125,
     "end_time": "2023-08-26T16:50:57.475123",
     "exception": false,
     "start_time": "2023-08-26T16:50:53.083873",
     "status": "completed"
    },
    "tags": []
   },
   "outputs": [],
   "source": [
    "import torch\n",
    "import torch.nn as nn\n",
    "from transformers import AutoTokenizer, AutoModel,AutoModelForSequenceClassification\n",
    "import pandas as pd\n",
    "import torch.nn.functional as F\n",
    "import numpy as np"
   ]
  },
  {
   "cell_type": "code",
   "execution_count": 4,
   "id": "3bff0450",
   "metadata": {
    "execution": {
     "iopub.execute_input": "2023-08-26T16:50:57.495152Z",
     "iopub.status.busy": "2023-08-26T16:50:57.494640Z",
     "iopub.status.idle": "2023-08-26T16:50:57.500049Z",
     "shell.execute_reply": "2023-08-26T16:50:57.499191Z"
    },
    "papermill": {
     "duration": 0.016866,
     "end_time": "2023-08-26T16:50:57.502103",
     "exception": false,
     "start_time": "2023-08-26T16:50:57.485237",
     "status": "completed"
    },
    "tags": []
   },
   "outputs": [],
   "source": [
    "#import os\n",
    "\n",
    "#os.environ['CUDA_VISIBLE_DEVICES']  = \"0\"\n",
    "\n",
    "#torch.cuda.device_count()"
   ]
  },
  {
   "cell_type": "code",
   "execution_count": 5,
   "id": "d68e02da",
   "metadata": {
    "execution": {
     "iopub.execute_input": "2023-08-26T16:50:57.520288Z",
     "iopub.status.busy": "2023-08-26T16:50:57.519394Z",
     "iopub.status.idle": "2023-08-26T16:50:57.703154Z",
     "shell.execute_reply": "2023-08-26T16:50:57.702228Z"
    },
    "papermill": {
     "duration": 0.195041,
     "end_time": "2023-08-26T16:50:57.705376",
     "exception": false,
     "start_time": "2023-08-26T16:50:57.510335",
     "status": "completed"
    },
    "tags": []
   },
   "outputs": [
    {
     "data": {
      "text/html": [
       "<div>\n",
       "<style scoped>\n",
       "    .dataframe tbody tr th:only-of-type {\n",
       "        vertical-align: middle;\n",
       "    }\n",
       "\n",
       "    .dataframe tbody tr th {\n",
       "        vertical-align: top;\n",
       "    }\n",
       "\n",
       "    .dataframe thead th {\n",
       "        text-align: right;\n",
       "    }\n",
       "</style>\n",
       "<table border=\"1\" class=\"dataframe\">\n",
       "  <thead>\n",
       "    <tr style=\"text-align: right;\">\n",
       "      <th></th>\n",
       "      <th>prompt_id</th>\n",
       "      <th>prompt_question</th>\n",
       "      <th>prompt_title</th>\n",
       "      <th>prompt_text</th>\n",
       "    </tr>\n",
       "  </thead>\n",
       "  <tbody>\n",
       "    <tr>\n",
       "      <th>0</th>\n",
       "      <td>39c16e</td>\n",
       "      <td>Summarize at least 3 elements of an ideal trag...</td>\n",
       "      <td>On Tragedy</td>\n",
       "      <td>Chapter 13 \\r\\nAs the sequel to what has alrea...</td>\n",
       "    </tr>\n",
       "    <tr>\n",
       "      <th>1</th>\n",
       "      <td>3b9047</td>\n",
       "      <td>In complete sentences, summarize the structure...</td>\n",
       "      <td>Egyptian Social Structure</td>\n",
       "      <td>Egyptian society was structured like a pyramid...</td>\n",
       "    </tr>\n",
       "    <tr>\n",
       "      <th>2</th>\n",
       "      <td>814d6b</td>\n",
       "      <td>Summarize how the Third Wave developed over su...</td>\n",
       "      <td>The Third Wave</td>\n",
       "      <td>Background \\r\\nThe Third Wave experiment took ...</td>\n",
       "    </tr>\n",
       "    <tr>\n",
       "      <th>3</th>\n",
       "      <td>ebad26</td>\n",
       "      <td>Summarize the various ways the factory would u...</td>\n",
       "      <td>Excerpt from The Jungle</td>\n",
       "      <td>With one member trimming beef in a cannery, an...</td>\n",
       "    </tr>\n",
       "  </tbody>\n",
       "</table>\n",
       "</div>"
      ],
      "text/plain": [
       "  prompt_id                                    prompt_question  \\\n",
       "0    39c16e  Summarize at least 3 elements of an ideal trag...   \n",
       "1    3b9047  In complete sentences, summarize the structure...   \n",
       "2    814d6b  Summarize how the Third Wave developed over su...   \n",
       "3    ebad26  Summarize the various ways the factory would u...   \n",
       "\n",
       "                prompt_title  \\\n",
       "0                 On Tragedy   \n",
       "1  Egyptian Social Structure   \n",
       "2             The Third Wave   \n",
       "3    Excerpt from The Jungle   \n",
       "\n",
       "                                         prompt_text  \n",
       "0  Chapter 13 \\r\\nAs the sequel to what has alrea...  \n",
       "1  Egyptian society was structured like a pyramid...  \n",
       "2  Background \\r\\nThe Third Wave experiment took ...  \n",
       "3  With one member trimming beef in a cannery, an...  "
      ]
     },
     "execution_count": 5,
     "metadata": {},
     "output_type": "execute_result"
    }
   ],
   "source": [
    "prompts_train = pd.read_csv(\"/kaggle/input/commonlit-evaluate-student-summaries/prompts_train.csv\")\n",
    "prompts_test = pd.read_csv(\"/kaggle/input/commonlit-evaluate-student-summaries/prompts_test.csv\")\n",
    "\n",
    "summaries_train = pd.read_csv(\"/kaggle/input/commonlit-evaluate-student-summaries/summaries_train.csv\")\n",
    "summaries_test = pd.read_csv(\"/kaggle/input/commonlit-evaluate-student-summaries/summaries_test.csv\")\n",
    "\n",
    "sample_submission = pd.read_csv(\"/kaggle/input/commonlit-evaluate-student-summaries/sample_submission.csv\")\n",
    "\n",
    "prompts_train"
   ]
  },
  {
   "cell_type": "markdown",
   "id": "603da2a3",
   "metadata": {
    "papermill": {
     "duration": 0.008301,
     "end_time": "2023-08-26T16:50:57.722312",
     "exception": false,
     "start_time": "2023-08-26T16:50:57.714011",
     "status": "completed"
    },
    "tags": []
   },
   "source": [
    "1. prompt 파일과 train/test 파일 merge 하기"
   ]
  },
  {
   "cell_type": "code",
   "execution_count": 6,
   "id": "8e76d3fb",
   "metadata": {
    "execution": {
     "iopub.execute_input": "2023-08-26T16:50:57.740404Z",
     "iopub.status.busy": "2023-08-26T16:50:57.740047Z",
     "iopub.status.idle": "2023-08-26T16:50:57.772816Z",
     "shell.execute_reply": "2023-08-26T16:50:57.771935Z"
    },
    "papermill": {
     "duration": 0.044257,
     "end_time": "2023-08-26T16:50:57.774967",
     "exception": false,
     "start_time": "2023-08-26T16:50:57.730710",
     "status": "completed"
    },
    "tags": []
   },
   "outputs": [
    {
     "data": {
      "text/html": [
       "<div>\n",
       "<style scoped>\n",
       "    .dataframe tbody tr th:only-of-type {\n",
       "        vertical-align: middle;\n",
       "    }\n",
       "\n",
       "    .dataframe tbody tr th {\n",
       "        vertical-align: top;\n",
       "    }\n",
       "\n",
       "    .dataframe thead th {\n",
       "        text-align: right;\n",
       "    }\n",
       "</style>\n",
       "<table border=\"1\" class=\"dataframe\">\n",
       "  <thead>\n",
       "    <tr style=\"text-align: right;\">\n",
       "      <th></th>\n",
       "      <th>student_id</th>\n",
       "      <th>prompt_id</th>\n",
       "      <th>text</th>\n",
       "      <th>content</th>\n",
       "      <th>wording</th>\n",
       "      <th>prompt_question</th>\n",
       "      <th>prompt_title</th>\n",
       "      <th>prompt_text</th>\n",
       "    </tr>\n",
       "  </thead>\n",
       "  <tbody>\n",
       "    <tr>\n",
       "      <th>0</th>\n",
       "      <td>000e8c3c7ddb</td>\n",
       "      <td>814d6b</td>\n",
       "      <td>The third wave was an experimentto see how peo...</td>\n",
       "      <td>0.205683</td>\n",
       "      <td>0.380538</td>\n",
       "      <td>Summarize how the Third Wave developed over su...</td>\n",
       "      <td>The Third Wave</td>\n",
       "      <td>Background \\r\\nThe Third Wave experiment took ...</td>\n",
       "    </tr>\n",
       "    <tr>\n",
       "      <th>1</th>\n",
       "      <td>0020ae56ffbf</td>\n",
       "      <td>ebad26</td>\n",
       "      <td>They would rub it up with soda to make the sme...</td>\n",
       "      <td>-0.548304</td>\n",
       "      <td>0.506755</td>\n",
       "      <td>Summarize the various ways the factory would u...</td>\n",
       "      <td>Excerpt from The Jungle</td>\n",
       "      <td>With one member trimming beef in a cannery, an...</td>\n",
       "    </tr>\n",
       "    <tr>\n",
       "      <th>2</th>\n",
       "      <td>004e978e639e</td>\n",
       "      <td>3b9047</td>\n",
       "      <td>In Egypt, there were many occupations and soci...</td>\n",
       "      <td>3.128928</td>\n",
       "      <td>4.231226</td>\n",
       "      <td>In complete sentences, summarize the structure...</td>\n",
       "      <td>Egyptian Social Structure</td>\n",
       "      <td>Egyptian society was structured like a pyramid...</td>\n",
       "    </tr>\n",
       "    <tr>\n",
       "      <th>3</th>\n",
       "      <td>005ab0199905</td>\n",
       "      <td>3b9047</td>\n",
       "      <td>The highest class was Pharaohs these people we...</td>\n",
       "      <td>-0.210614</td>\n",
       "      <td>-0.471415</td>\n",
       "      <td>In complete sentences, summarize the structure...</td>\n",
       "      <td>Egyptian Social Structure</td>\n",
       "      <td>Egyptian society was structured like a pyramid...</td>\n",
       "    </tr>\n",
       "    <tr>\n",
       "      <th>4</th>\n",
       "      <td>0070c9e7af47</td>\n",
       "      <td>814d6b</td>\n",
       "      <td>The Third Wave developed  rapidly because the ...</td>\n",
       "      <td>3.272894</td>\n",
       "      <td>3.219757</td>\n",
       "      <td>Summarize how the Third Wave developed over su...</td>\n",
       "      <td>The Third Wave</td>\n",
       "      <td>Background \\r\\nThe Third Wave experiment took ...</td>\n",
       "    </tr>\n",
       "    <tr>\n",
       "      <th>...</th>\n",
       "      <td>...</td>\n",
       "      <td>...</td>\n",
       "      <td>...</td>\n",
       "      <td>...</td>\n",
       "      <td>...</td>\n",
       "      <td>...</td>\n",
       "      <td>...</td>\n",
       "      <td>...</td>\n",
       "    </tr>\n",
       "    <tr>\n",
       "      <th>7160</th>\n",
       "      <td>ff7c7e70df07</td>\n",
       "      <td>ebad26</td>\n",
       "      <td>They used all sorts of chemical concoctions to...</td>\n",
       "      <td>0.205683</td>\n",
       "      <td>0.380538</td>\n",
       "      <td>Summarize the various ways the factory would u...</td>\n",
       "      <td>Excerpt from The Jungle</td>\n",
       "      <td>With one member trimming beef in a cannery, an...</td>\n",
       "    </tr>\n",
       "    <tr>\n",
       "      <th>7161</th>\n",
       "      <td>ffc34d056498</td>\n",
       "      <td>3b9047</td>\n",
       "      <td>The lowest classes are slaves and farmers slav...</td>\n",
       "      <td>-0.308448</td>\n",
       "      <td>0.048171</td>\n",
       "      <td>In complete sentences, summarize the structure...</td>\n",
       "      <td>Egyptian Social Structure</td>\n",
       "      <td>Egyptian society was structured like a pyramid...</td>\n",
       "    </tr>\n",
       "    <tr>\n",
       "      <th>7162</th>\n",
       "      <td>ffd1576d2e1b</td>\n",
       "      <td>3b9047</td>\n",
       "      <td>they sorta made people start workin...</td>\n",
       "      <td>-1.408180</td>\n",
       "      <td>-0.493603</td>\n",
       "      <td>In complete sentences, summarize the structure...</td>\n",
       "      <td>Egyptian Social Structure</td>\n",
       "      <td>Egyptian society was structured like a pyramid...</td>\n",
       "    </tr>\n",
       "    <tr>\n",
       "      <th>7163</th>\n",
       "      <td>ffe4a98093b2</td>\n",
       "      <td>39c16e</td>\n",
       "      <td>An ideal tragety has three elements that make ...</td>\n",
       "      <td>-0.393310</td>\n",
       "      <td>0.627128</td>\n",
       "      <td>Summarize at least 3 elements of an ideal trag...</td>\n",
       "      <td>On Tragedy</td>\n",
       "      <td>Chapter 13 \\r\\nAs the sequel to what has alrea...</td>\n",
       "    </tr>\n",
       "    <tr>\n",
       "      <th>7164</th>\n",
       "      <td>fffbccfd8a08</td>\n",
       "      <td>ebad26</td>\n",
       "      <td>The meat would smell sour but the would \"rub i...</td>\n",
       "      <td>1.771596</td>\n",
       "      <td>0.547742</td>\n",
       "      <td>Summarize the various ways the factory would u...</td>\n",
       "      <td>Excerpt from The Jungle</td>\n",
       "      <td>With one member trimming beef in a cannery, an...</td>\n",
       "    </tr>\n",
       "  </tbody>\n",
       "</table>\n",
       "<p>7165 rows × 8 columns</p>\n",
       "</div>"
      ],
      "text/plain": [
       "        student_id prompt_id  \\\n",
       "0     000e8c3c7ddb    814d6b   \n",
       "1     0020ae56ffbf    ebad26   \n",
       "2     004e978e639e    3b9047   \n",
       "3     005ab0199905    3b9047   \n",
       "4     0070c9e7af47    814d6b   \n",
       "...            ...       ...   \n",
       "7160  ff7c7e70df07    ebad26   \n",
       "7161  ffc34d056498    3b9047   \n",
       "7162  ffd1576d2e1b    3b9047   \n",
       "7163  ffe4a98093b2    39c16e   \n",
       "7164  fffbccfd8a08    ebad26   \n",
       "\n",
       "                                                   text   content   wording  \\\n",
       "0     The third wave was an experimentto see how peo...  0.205683  0.380538   \n",
       "1     They would rub it up with soda to make the sme... -0.548304  0.506755   \n",
       "2     In Egypt, there were many occupations and soci...  3.128928  4.231226   \n",
       "3     The highest class was Pharaohs these people we... -0.210614 -0.471415   \n",
       "4     The Third Wave developed  rapidly because the ...  3.272894  3.219757   \n",
       "...                                                 ...       ...       ...   \n",
       "7160  They used all sorts of chemical concoctions to...  0.205683  0.380538   \n",
       "7161  The lowest classes are slaves and farmers slav... -0.308448  0.048171   \n",
       "7162             they sorta made people start workin... -1.408180 -0.493603   \n",
       "7163  An ideal tragety has three elements that make ... -0.393310  0.627128   \n",
       "7164  The meat would smell sour but the would \"rub i...  1.771596  0.547742   \n",
       "\n",
       "                                        prompt_question  \\\n",
       "0     Summarize how the Third Wave developed over su...   \n",
       "1     Summarize the various ways the factory would u...   \n",
       "2     In complete sentences, summarize the structure...   \n",
       "3     In complete sentences, summarize the structure...   \n",
       "4     Summarize how the Third Wave developed over su...   \n",
       "...                                                 ...   \n",
       "7160  Summarize the various ways the factory would u...   \n",
       "7161  In complete sentences, summarize the structure...   \n",
       "7162  In complete sentences, summarize the structure...   \n",
       "7163  Summarize at least 3 elements of an ideal trag...   \n",
       "7164  Summarize the various ways the factory would u...   \n",
       "\n",
       "                   prompt_title  \\\n",
       "0                The Third Wave   \n",
       "1       Excerpt from The Jungle   \n",
       "2     Egyptian Social Structure   \n",
       "3     Egyptian Social Structure   \n",
       "4                The Third Wave   \n",
       "...                         ...   \n",
       "7160    Excerpt from The Jungle   \n",
       "7161  Egyptian Social Structure   \n",
       "7162  Egyptian Social Structure   \n",
       "7163                 On Tragedy   \n",
       "7164    Excerpt from The Jungle   \n",
       "\n",
       "                                            prompt_text  \n",
       "0     Background \\r\\nThe Third Wave experiment took ...  \n",
       "1     With one member trimming beef in a cannery, an...  \n",
       "2     Egyptian society was structured like a pyramid...  \n",
       "3     Egyptian society was structured like a pyramid...  \n",
       "4     Background \\r\\nThe Third Wave experiment took ...  \n",
       "...                                                 ...  \n",
       "7160  With one member trimming beef in a cannery, an...  \n",
       "7161  Egyptian society was structured like a pyramid...  \n",
       "7162  Egyptian society was structured like a pyramid...  \n",
       "7163  Chapter 13 \\r\\nAs the sequel to what has alrea...  \n",
       "7164  With one member trimming beef in a cannery, an...  \n",
       "\n",
       "[7165 rows x 8 columns]"
      ]
     },
     "execution_count": 6,
     "metadata": {},
     "output_type": "execute_result"
    }
   ],
   "source": [
    "# dataframe 병합, prompt id 기준으로 각 아이디에 맞는 prompts_train, test 내용을 왼쪽에 붙임\n",
    "train = summaries_train.merge(prompts_train, how=\"left\", on=\"prompt_id\")\n",
    "test = summaries_test.merge(prompts_test, how=\"left\", on=\"prompt_id\")\n",
    "\n",
    "train"
   ]
  },
  {
   "cell_type": "code",
   "execution_count": 7,
   "id": "e73ef365",
   "metadata": {
    "execution": {
     "iopub.execute_input": "2023-08-26T16:50:57.794245Z",
     "iopub.status.busy": "2023-08-26T16:50:57.793951Z",
     "iopub.status.idle": "2023-08-26T16:50:57.804197Z",
     "shell.execute_reply": "2023-08-26T16:50:57.803305Z"
    },
    "papermill": {
     "duration": 0.022253,
     "end_time": "2023-08-26T16:50:57.806192",
     "exception": false,
     "start_time": "2023-08-26T16:50:57.783939",
     "status": "completed"
    },
    "tags": []
   },
   "outputs": [
    {
     "data": {
      "text/html": [
       "<div>\n",
       "<style scoped>\n",
       "    .dataframe tbody tr th:only-of-type {\n",
       "        vertical-align: middle;\n",
       "    }\n",
       "\n",
       "    .dataframe tbody tr th {\n",
       "        vertical-align: top;\n",
       "    }\n",
       "\n",
       "    .dataframe thead th {\n",
       "        text-align: right;\n",
       "    }\n",
       "</style>\n",
       "<table border=\"1\" class=\"dataframe\">\n",
       "  <thead>\n",
       "    <tr style=\"text-align: right;\">\n",
       "      <th></th>\n",
       "      <th>student_id</th>\n",
       "      <th>prompt_id</th>\n",
       "      <th>text</th>\n",
       "      <th>prompt_question</th>\n",
       "      <th>prompt_title</th>\n",
       "      <th>prompt_text</th>\n",
       "    </tr>\n",
       "  </thead>\n",
       "  <tbody>\n",
       "    <tr>\n",
       "      <th>0</th>\n",
       "      <td>000000ffffff</td>\n",
       "      <td>abc123</td>\n",
       "      <td>Example text 1</td>\n",
       "      <td>Summarize...</td>\n",
       "      <td>Example Title 1</td>\n",
       "      <td>Heading\\nText...</td>\n",
       "    </tr>\n",
       "    <tr>\n",
       "      <th>1</th>\n",
       "      <td>111111eeeeee</td>\n",
       "      <td>def789</td>\n",
       "      <td>Example text 2</td>\n",
       "      <td>Summarize...</td>\n",
       "      <td>Example Title 2</td>\n",
       "      <td>Heading\\nText...</td>\n",
       "    </tr>\n",
       "    <tr>\n",
       "      <th>2</th>\n",
       "      <td>222222cccccc</td>\n",
       "      <td>abc123</td>\n",
       "      <td>Example text 3</td>\n",
       "      <td>Summarize...</td>\n",
       "      <td>Example Title 1</td>\n",
       "      <td>Heading\\nText...</td>\n",
       "    </tr>\n",
       "    <tr>\n",
       "      <th>3</th>\n",
       "      <td>333333dddddd</td>\n",
       "      <td>def789</td>\n",
       "      <td>Example text 4</td>\n",
       "      <td>Summarize...</td>\n",
       "      <td>Example Title 2</td>\n",
       "      <td>Heading\\nText...</td>\n",
       "    </tr>\n",
       "  </tbody>\n",
       "</table>\n",
       "</div>"
      ],
      "text/plain": [
       "     student_id prompt_id            text prompt_question     prompt_title  \\\n",
       "0  000000ffffff    abc123  Example text 1    Summarize...  Example Title 1   \n",
       "1  111111eeeeee    def789  Example text 2    Summarize...  Example Title 2   \n",
       "2  222222cccccc    abc123  Example text 3    Summarize...  Example Title 1   \n",
       "3  333333dddddd    def789  Example text 4    Summarize...  Example Title 2   \n",
       "\n",
       "        prompt_text  \n",
       "0  Heading\\nText...  \n",
       "1  Heading\\nText...  \n",
       "2  Heading\\nText...  \n",
       "3  Heading\\nText...  "
      ]
     },
     "execution_count": 7,
     "metadata": {},
     "output_type": "execute_result"
    }
   ],
   "source": [
    "test"
   ]
  },
  {
   "cell_type": "code",
   "execution_count": 8,
   "id": "cec7c4a8",
   "metadata": {
    "execution": {
     "iopub.execute_input": "2023-08-26T16:50:57.825774Z",
     "iopub.status.busy": "2023-08-26T16:50:57.825511Z",
     "iopub.status.idle": "2023-08-26T16:50:57.889841Z",
     "shell.execute_reply": "2023-08-26T16:50:57.888776Z"
    },
    "papermill": {
     "duration": 0.076846,
     "end_time": "2023-08-26T16:50:57.892455",
     "exception": false,
     "start_time": "2023-08-26T16:50:57.815609",
     "status": "completed"
    },
    "tags": []
   },
   "outputs": [
    {
     "data": {
      "text/plain": [
       "0    text The third wave was an experimentto see ho...\n",
       "1    text They would rub it up with soda to make th...\n",
       "Name: merged_text, dtype: object"
      ]
     },
     "execution_count": 8,
     "metadata": {},
     "output_type": "execute_result"
    }
   ],
   "source": [
    "train['merged_text'] = 'text '+train['text'] + ' prompt_question ' + train['prompt_question'] + ' prompt_title '+train['prompt_title']+ ' prompt_text '+train['prompt_text']\n",
    "train['merged_text'].head(2)"
   ]
  },
  {
   "cell_type": "code",
   "execution_count": 9,
   "id": "d2ab67f9",
   "metadata": {
    "execution": {
     "iopub.execute_input": "2023-08-26T16:50:57.912172Z",
     "iopub.status.busy": "2023-08-26T16:50:57.911891Z",
     "iopub.status.idle": "2023-08-26T16:50:57.921030Z",
     "shell.execute_reply": "2023-08-26T16:50:57.920021Z"
    },
    "papermill": {
     "duration": 0.022237,
     "end_time": "2023-08-26T16:50:57.924023",
     "exception": false,
     "start_time": "2023-08-26T16:50:57.901786",
     "status": "completed"
    },
    "tags": []
   },
   "outputs": [
    {
     "data": {
      "text/plain": [
       "0    text Example text 1 prompt_question Summarize....\n",
       "1    text Example text 2 prompt_question Summarize....\n",
       "Name: merged_text, dtype: object"
      ]
     },
     "execution_count": 9,
     "metadata": {},
     "output_type": "execute_result"
    }
   ],
   "source": [
    "test['merged_text'] = 'text '+ test['text'] + ' prompt_question ' + test['prompt_question'] + ' prompt_title '+ test['prompt_title']+ ' prompt_text '+ test['prompt_text']\n",
    "test['merged_text'].head(2)"
   ]
  },
  {
   "cell_type": "code",
   "execution_count": 10,
   "id": "4c4f68dd",
   "metadata": {
    "execution": {
     "iopub.execute_input": "2023-08-26T16:50:57.944438Z",
     "iopub.status.busy": "2023-08-26T16:50:57.943680Z",
     "iopub.status.idle": "2023-08-26T16:50:57.949168Z",
     "shell.execute_reply": "2023-08-26T16:50:57.948325Z"
    },
    "papermill": {
     "duration": 0.017487,
     "end_time": "2023-08-26T16:50:57.951109",
     "exception": false,
     "start_time": "2023-08-26T16:50:57.933622",
     "status": "completed"
    },
    "tags": []
   },
   "outputs": [],
   "source": [
    "class CFG:\n",
    "    def __init__(self):\n",
    "        self.model_name = '/kaggle/input/hugging-face-models-safe-tensors/bert-base-uncased'\n",
    "        self.tokenizer_path = '/kaggle/input/hugging-face-models-safe-tensors/bert-base-uncased'\n",
    "        self.batch_size = 16\n",
    "        self.num_epochs = 40\n",
    "        self.token_max = 512\n",
    "        self.learning_rate = 1e-5\n",
    "        self.model_save_path = '/kaggle/working/model.pt'\n",
    "\n",
    "cfg = CFG()"
   ]
  },
  {
   "cell_type": "code",
   "execution_count": 11,
   "id": "0bab0295",
   "metadata": {
    "execution": {
     "iopub.execute_input": "2023-08-26T16:50:57.971194Z",
     "iopub.status.busy": "2023-08-26T16:50:57.970349Z",
     "iopub.status.idle": "2023-08-26T16:51:05.004524Z",
     "shell.execute_reply": "2023-08-26T16:51:05.003350Z"
    },
    "papermill": {
     "duration": 7.046675,
     "end_time": "2023-08-26T16:51:05.006970",
     "exception": false,
     "start_time": "2023-08-26T16:50:57.960295",
     "status": "completed"
    },
    "tags": []
   },
   "outputs": [
    {
     "name": "stderr",
     "output_type": "stream",
     "text": [
      "/opt/conda/lib/python3.10/site-packages/scipy/__init__.py:146: UserWarning: A NumPy version >=1.16.5 and <1.23.0 is required for this version of SciPy (detected version 1.23.5\n",
      "  warnings.warn(f\"A NumPy version >={np_minversion} and <{np_maxversion}\"\n",
      "/opt/conda/lib/python3.10/site-packages/tensorflow_io/python/ops/__init__.py:98: UserWarning: unable to load libtensorflow_io_plugins.so: unable to open file: libtensorflow_io_plugins.so, from paths: ['/opt/conda/lib/python3.10/site-packages/tensorflow_io/python/ops/libtensorflow_io_plugins.so']\n",
      "caused by: ['/opt/conda/lib/python3.10/site-packages/tensorflow_io/python/ops/libtensorflow_io_plugins.so: undefined symbol: _ZN3tsl6StatusC1EN10tensorflow5error4CodeESt17basic_string_viewIcSt11char_traitsIcEENS_14SourceLocationE']\n",
      "  warnings.warn(f\"unable to load libtensorflow_io_plugins.so: {e}\")\n",
      "/opt/conda/lib/python3.10/site-packages/tensorflow_io/python/ops/__init__.py:104: UserWarning: file system plugins are not loaded: unable to open file: libtensorflow_io.so, from paths: ['/opt/conda/lib/python3.10/site-packages/tensorflow_io/python/ops/libtensorflow_io.so']\n",
      "caused by: ['/opt/conda/lib/python3.10/site-packages/tensorflow_io/python/ops/libtensorflow_io.so: undefined symbol: _ZTVN10tensorflow13GcsFileSystemE']\n",
      "  warnings.warn(f\"file system plugins are not loaded: {e}\")\n"
     ]
    }
   ],
   "source": [
    "from transformers import BertModel, BertTokenizer"
   ]
  },
  {
   "cell_type": "code",
   "execution_count": 12,
   "id": "ce6e5df2",
   "metadata": {
    "execution": {
     "iopub.execute_input": "2023-08-26T16:51:05.035803Z",
     "iopub.status.busy": "2023-08-26T16:51:05.035018Z",
     "iopub.status.idle": "2023-08-26T16:51:11.774369Z",
     "shell.execute_reply": "2023-08-26T16:51:11.773326Z"
    },
    "papermill": {
     "duration": 6.757725,
     "end_time": "2023-08-26T16:51:11.776835",
     "exception": false,
     "start_time": "2023-08-26T16:51:05.019110",
     "status": "completed"
    },
    "tags": []
   },
   "outputs": [],
   "source": [
    "tokenizer = BertTokenizer.from_pretrained(cfg.tokenizer_path)\n",
    "model_deberta = BertModel.from_pretrained(cfg.model_name)"
   ]
  },
  {
   "cell_type": "code",
   "execution_count": 13,
   "id": "452ed75f",
   "metadata": {
    "execution": {
     "iopub.execute_input": "2023-08-26T16:51:11.799327Z",
     "iopub.status.busy": "2023-08-26T16:51:11.797604Z",
     "iopub.status.idle": "2023-08-26T16:51:11.802964Z",
     "shell.execute_reply": "2023-08-26T16:51:11.802037Z"
    },
    "papermill": {
     "duration": 0.018221,
     "end_time": "2023-08-26T16:51:11.805011",
     "exception": false,
     "start_time": "2023-08-26T16:51:11.786790",
     "status": "completed"
    },
    "tags": []
   },
   "outputs": [],
   "source": [
    "from itertools import chain\n",
    "from torch.utils.data import TensorDataset, DataLoader, random_split"
   ]
  },
  {
   "cell_type": "code",
   "execution_count": 14,
   "id": "ccc92563",
   "metadata": {
    "execution": {
     "iopub.execute_input": "2023-08-26T16:51:11.826115Z",
     "iopub.status.busy": "2023-08-26T16:51:11.825797Z",
     "iopub.status.idle": "2023-08-26T16:54:44.353323Z",
     "shell.execute_reply": "2023-08-26T16:54:44.352302Z"
    },
    "papermill": {
     "duration": 212.541373,
     "end_time": "2023-08-26T16:54:44.356097",
     "exception": false,
     "start_time": "2023-08-26T16:51:11.814724",
     "status": "completed"
    },
    "tags": []
   },
   "outputs": [],
   "source": [
    "def get_dataset(df):\n",
    "    encoding = tokenizer(list(train['merged_text']),\n",
    "                   padding=True,\n",
    "                   truncation=True,\n",
    "                   max_length=cfg.token_max,\n",
    "                   return_tensors=\"pt\")\n",
    "    content = torch.tensor(df['content'], dtype=torch.float32)\n",
    "    wording = torch.tensor(df['wording'], dtype=torch.float32)\n",
    "    labels = torch.dstack((content, wording)).squeeze()\n",
    "    dataset = TensorDataset(encoding['input_ids'], encoding['attention_mask'], labels)\n",
    "    return dataset\n",
    "\n",
    "ds = get_dataset(train)"
   ]
  },
  {
   "cell_type": "code",
   "execution_count": 15,
   "id": "5ceb8987",
   "metadata": {
    "execution": {
     "iopub.execute_input": "2023-08-26T16:54:44.378322Z",
     "iopub.status.busy": "2023-08-26T16:54:44.377232Z",
     "iopub.status.idle": "2023-08-26T16:54:44.385680Z",
     "shell.execute_reply": "2023-08-26T16:54:44.384648Z"
    },
    "papermill": {
     "duration": 0.021419,
     "end_time": "2023-08-26T16:54:44.387780",
     "exception": false,
     "start_time": "2023-08-26T16:54:44.366361",
     "status": "completed"
    },
    "tags": []
   },
   "outputs": [],
   "source": [
    "class BERT(nn.Module):\n",
    "    def __init__(self):\n",
    "        super(BERT, self).__init__()\n",
    "        self.bert = BertModel.from_pretrained('/kaggle/input/hugging-face-models-safe-tensors/bert-base-uncased')\n",
    "\n",
    "        self.dropout = nn.Dropout(0.1)\n",
    "        self.linear1 = nn.Linear(768, 128)\n",
    "        self.linear2 = nn.Linear(128, 2) # 왜 2? content, wording이라?\n",
    "\n",
    "    def forward(self, input_ids, attention_mask):\n",
    "        outputs = self.bert(input_ids=input_ids, attention_mask=attention_mask)\n",
    "        pooled_output = outputs.pooler_output\n",
    "        pooled_output = self.dropout(pooled_output)\n",
    "        output = self.linear1(pooled_output)\n",
    "        output = nn.ReLU()(output)\n",
    "        output = self.linear2(output)\n",
    "        return output"
   ]
  },
  {
   "cell_type": "code",
   "execution_count": 16,
   "id": "4421802e",
   "metadata": {
    "execution": {
     "iopub.execute_input": "2023-08-26T16:54:44.408260Z",
     "iopub.status.busy": "2023-08-26T16:54:44.407421Z",
     "iopub.status.idle": "2023-08-26T16:54:44.415990Z",
     "shell.execute_reply": "2023-08-26T16:54:44.415018Z"
    },
    "papermill": {
     "duration": 0.020932,
     "end_time": "2023-08-26T16:54:44.418079",
     "exception": false,
     "start_time": "2023-08-26T16:54:44.397147",
     "status": "completed"
    },
    "tags": []
   },
   "outputs": [
    {
     "name": "stdout",
     "output_type": "stream",
     "text": [
      "5732\n",
      "1433\n"
     ]
    }
   ],
   "source": [
    "train_ds, val_ds = random_split(ds, [0.8, 0.2])\n",
    "print(len(train_ds))\n",
    "print(len(val_ds))"
   ]
  },
  {
   "cell_type": "code",
   "execution_count": 17,
   "id": "05da62f6",
   "metadata": {
    "execution": {
     "iopub.execute_input": "2023-08-26T16:54:44.438824Z",
     "iopub.status.busy": "2023-08-26T16:54:44.438027Z",
     "iopub.status.idle": "2023-08-26T16:54:44.443111Z",
     "shell.execute_reply": "2023-08-26T16:54:44.442286Z"
    },
    "papermill": {
     "duration": 0.017636,
     "end_time": "2023-08-26T16:54:44.445068",
     "exception": false,
     "start_time": "2023-08-26T16:54:44.427432",
     "status": "completed"
    },
    "tags": []
   },
   "outputs": [],
   "source": [
    "train_dataloader = DataLoader(\n",
    "            train_ds,  \n",
    "            batch_size = cfg.batch_size \n",
    ")\n",
    "\n",
    "val_dataloader = DataLoader(\n",
    "            val_ds,  \n",
    "            batch_size = cfg.batch_size\n",
    ")"
   ]
  },
  {
   "cell_type": "code",
   "execution_count": 18,
   "id": "f2ba383e",
   "metadata": {
    "execution": {
     "iopub.execute_input": "2023-08-26T16:54:44.465007Z",
     "iopub.status.busy": "2023-08-26T16:54:44.464671Z",
     "iopub.status.idle": "2023-08-26T16:54:44.469146Z",
     "shell.execute_reply": "2023-08-26T16:54:44.468278Z"
    },
    "papermill": {
     "duration": 0.016562,
     "end_time": "2023-08-26T16:54:44.471056",
     "exception": false,
     "start_time": "2023-08-26T16:54:44.454494",
     "status": "completed"
    },
    "tags": []
   },
   "outputs": [],
   "source": [
    "# installation \n",
    "#!curl https://raw.githubusercontent.com/pytorch/xla/master/contrib/scripts/env-setup.py -o pytorch-xla-env-setup.py\n",
    "#!python pytorch-xla-env-setup.py --version nightly --apt-packages libomp5 libopenblas-dev"
   ]
  },
  {
   "cell_type": "code",
   "execution_count": 19,
   "id": "5cac1286",
   "metadata": {
    "execution": {
     "iopub.execute_input": "2023-08-26T16:54:44.491551Z",
     "iopub.status.busy": "2023-08-26T16:54:44.490776Z",
     "iopub.status.idle": "2023-08-26T16:54:44.494808Z",
     "shell.execute_reply": "2023-08-26T16:54:44.493964Z"
    },
    "papermill": {
     "duration": 0.016115,
     "end_time": "2023-08-26T16:54:44.496715",
     "exception": false,
     "start_time": "2023-08-26T16:54:44.480600",
     "status": "completed"
    },
    "tags": []
   },
   "outputs": [],
   "source": [
    "# for TPU\n",
    "#import torch_xla\n",
    "#import torch_xla.core.xla_model as xm"
   ]
  },
  {
   "cell_type": "code",
   "execution_count": 20,
   "id": "9dec446e",
   "metadata": {
    "execution": {
     "iopub.execute_input": "2023-08-26T16:54:44.517166Z",
     "iopub.status.busy": "2023-08-26T16:54:44.516415Z",
     "iopub.status.idle": "2023-08-26T16:54:44.520530Z",
     "shell.execute_reply": "2023-08-26T16:54:44.519678Z"
    },
    "papermill": {
     "duration": 0.01626,
     "end_time": "2023-08-26T16:54:44.522447",
     "exception": false,
     "start_time": "2023-08-26T16:54:44.506187",
     "status": "completed"
    },
    "tags": []
   },
   "outputs": [],
   "source": [
    "#device = xm.xla_device()"
   ]
  },
  {
   "cell_type": "code",
   "execution_count": 21,
   "id": "4dd1113d",
   "metadata": {
    "execution": {
     "iopub.execute_input": "2023-08-26T16:54:44.542653Z",
     "iopub.status.busy": "2023-08-26T16:54:44.541912Z",
     "iopub.status.idle": "2023-08-26T16:54:44.594874Z",
     "shell.execute_reply": "2023-08-26T16:54:44.593957Z"
    },
    "papermill": {
     "duration": 0.064885,
     "end_time": "2023-08-26T16:54:44.596684",
     "exception": false,
     "start_time": "2023-08-26T16:54:44.531799",
     "status": "completed"
    },
    "tags": []
   },
   "outputs": [
    {
     "name": "stdout",
     "output_type": "stream",
     "text": [
      "GPU is available and being used\n"
     ]
    }
   ],
   "source": [
    "if torch.cuda.is_available():\n",
    "    device = torch.device(\"cuda\")\n",
    "    print(\"GPU is available and being used\")\n",
    "else:\n",
    "    device = torch.device(\"cpu\")\n",
    "    print(\"GPU is not available, using CPU instead\")"
   ]
  },
  {
   "cell_type": "code",
   "execution_count": 22,
   "id": "9fc7aa54",
   "metadata": {
    "execution": {
     "iopub.execute_input": "2023-08-26T16:54:44.617703Z",
     "iopub.status.busy": "2023-08-26T16:54:44.616703Z",
     "iopub.status.idle": "2023-08-26T16:54:44.892942Z",
     "shell.execute_reply": "2023-08-26T16:54:44.891781Z"
    },
    "papermill": {
     "duration": 0.289184,
     "end_time": "2023-08-26T16:54:44.895472",
     "exception": false,
     "start_time": "2023-08-26T16:54:44.606288",
     "status": "completed"
    },
    "tags": []
   },
   "outputs": [],
   "source": [
    "import torch, gc\n",
    "gc.collect()\n",
    "torch.cuda.empty_cache()"
   ]
  },
  {
   "cell_type": "code",
   "execution_count": 23,
   "id": "5c278ffe",
   "metadata": {
    "execution": {
     "iopub.execute_input": "2023-08-26T16:54:44.916437Z",
     "iopub.status.busy": "2023-08-26T16:54:44.916136Z",
     "iopub.status.idle": "2023-08-26T16:54:50.667352Z",
     "shell.execute_reply": "2023-08-26T16:54:50.666281Z"
    },
    "papermill": {
     "duration": 5.764465,
     "end_time": "2023-08-26T16:54:50.669697",
     "exception": false,
     "start_time": "2023-08-26T16:54:44.905232",
     "status": "completed"
    },
    "tags": []
   },
   "outputs": [],
   "source": [
    "model = BERT().to(device)\n",
    "optimizer = torch.optim.AdamW(model.parameters(), lr=cfg.learning_rate)\n",
    "loss_fn = nn.MSELoss() # RMSE\n",
    "min_val_loss = np.inf"
   ]
  },
  {
   "cell_type": "code",
   "execution_count": 24,
   "id": "a784bcd2",
   "metadata": {
    "execution": {
     "iopub.execute_input": "2023-08-26T16:54:50.690469Z",
     "iopub.status.busy": "2023-08-26T16:54:50.690148Z",
     "iopub.status.idle": "2023-08-26T18:21:51.005247Z",
     "shell.execute_reply": "2023-08-26T18:21:51.004309Z"
    },
    "papermill": {
     "duration": 5220.327976,
     "end_time": "2023-08-26T18:21:51.007514",
     "exception": false,
     "start_time": "2023-08-26T16:54:50.679538",
     "status": "completed"
    },
    "tags": []
   },
   "outputs": [
    {
     "name": "stdout",
     "output_type": "stream",
     "text": [
      "Epoch 1, Step 0, Loss: 0.7537897825241089\n",
      "Epoch 1, Step 100, Loss: 0.6666721701622009\n",
      "Epoch 1, Step 200, Loss: 0.3937780559062958\n",
      "Epoch 1, Step 300, Loss: 0.3360957205295563\n",
      "Epoch 1 Loss: 0.5632732040702798\n",
      "Validation Loss: 0.3898829221725464\n",
      "saving model with score: 0.3898829221725464\n",
      "Epoch 2, Step 0, Loss: 0.26867711544036865\n",
      "Epoch 2, Step 100, Loss: 0.28826481103897095\n",
      "Epoch 2, Step 200, Loss: 0.3510225713253021\n",
      "Epoch 2, Step 300, Loss: 0.13545340299606323\n",
      "Epoch 2 Loss: 0.3478867424895836\n",
      "Validation Loss: 0.30435729026794434\n",
      "saving model with score: 0.30435729026794434\n",
      "Epoch 3, Step 0, Loss: 0.22908003628253937\n",
      "Epoch 3, Step 100, Loss: 0.25998660922050476\n",
      "Epoch 3, Step 200, Loss: 0.35159754753112793\n",
      "Epoch 3, Step 300, Loss: 0.18098440766334534\n",
      "Epoch 3 Loss: 0.27726999508388195\n",
      "Validation Loss: 0.27366769313812256\n",
      "saving model with score: 0.27366769313812256\n",
      "Epoch 4, Step 0, Loss: 0.26754534244537354\n",
      "Epoch 4, Step 100, Loss: 0.2723729610443115\n",
      "Epoch 4, Step 200, Loss: 0.28422728180885315\n",
      "Epoch 4, Step 300, Loss: 0.1528569608926773\n",
      "Epoch 4 Loss: 0.23050203919410706\n",
      "Validation Loss: 0.27798178791999817\n",
      "Epoch 5, Step 0, Loss: 0.26869702339172363\n",
      "Epoch 5, Step 100, Loss: 0.2013612687587738\n",
      "Epoch 5, Step 200, Loss: 0.2634000778198242\n",
      "Epoch 5, Step 300, Loss: 0.09958876669406891\n",
      "Epoch 5 Loss: 0.198550045552526\n",
      "Validation Loss: 0.27445781230926514\n",
      "Epoch 6, Step 0, Loss: 0.2243821769952774\n",
      "Epoch 6, Step 100, Loss: 0.17382469773292542\n",
      "Epoch 6, Step 200, Loss: 0.2396109402179718\n",
      "Epoch 6, Step 300, Loss: 0.08736574649810791\n",
      "Epoch 6 Loss: 0.1762493375408616\n",
      "Validation Loss: 0.27295395731925964\n",
      "saving model with score: 0.27295395731925964\n",
      "Epoch 7, Step 0, Loss: 0.2358207404613495\n",
      "Epoch 7, Step 100, Loss: 0.1577223837375641\n",
      "Epoch 7, Step 200, Loss: 0.3011324107646942\n",
      "Epoch 7, Step 300, Loss: 0.08875463157892227\n",
      "Epoch 7 Loss: 0.15269548901483873\n",
      "Validation Loss: 0.2640387713909149\n",
      "saving model with score: 0.2640387713909149\n",
      "Epoch 8, Step 0, Loss: 0.1736879050731659\n",
      "Epoch 8, Step 100, Loss: 0.11100587993860245\n",
      "Epoch 8, Step 200, Loss: 0.19452908635139465\n",
      "Epoch 8, Step 300, Loss: 0.06939470022916794\n",
      "Epoch 8 Loss: 0.13520005764569412\n",
      "Validation Loss: 0.2684639096260071\n",
      "Epoch 9, Step 0, Loss: 0.17408305406570435\n",
      "Epoch 9, Step 100, Loss: 0.11573748290538788\n",
      "Epoch 9, Step 200, Loss: 0.16854228079319\n",
      "Epoch 9, Step 300, Loss: 0.07769469171762466\n",
      "Epoch 9 Loss: 0.1234593623341126\n",
      "Validation Loss: 0.2732842266559601\n",
      "Epoch 10, Step 0, Loss: 0.13421303033828735\n",
      "Epoch 10, Step 100, Loss: 0.09284703433513641\n",
      "Epoch 10, Step 200, Loss: 0.12765786051750183\n",
      "Epoch 10, Step 300, Loss: 0.05399279668927193\n",
      "Epoch 10 Loss: 0.11581312165618939\n",
      "Validation Loss: 0.2694559395313263\n",
      "Epoch 11, Step 0, Loss: 0.14819377660751343\n",
      "Epoch 11, Step 100, Loss: 0.09655049443244934\n",
      "Epoch 11, Step 200, Loss: 0.08760221302509308\n",
      "Epoch 11, Step 300, Loss: 0.050522126257419586\n",
      "Epoch 11 Loss: 0.10652645982407594\n",
      "Validation Loss: 0.26524433493614197\n",
      "Epoch 12, Step 0, Loss: 0.12220239639282227\n",
      "Epoch 12, Step 100, Loss: 0.10870396345853806\n",
      "Epoch 12, Step 200, Loss: 0.08951003849506378\n",
      "Epoch 12, Step 300, Loss: 0.04671317711472511\n",
      "Epoch 12 Loss: 0.09851739106279561\n",
      "Validation Loss: 0.26825591921806335\n",
      "Epoch 13, Step 0, Loss: 0.1437593698501587\n",
      "Epoch 13, Step 100, Loss: 0.08007824420928955\n",
      "Epoch 13, Step 200, Loss: 0.0858643651008606\n",
      "Epoch 13, Step 300, Loss: 0.06816218048334122\n",
      "Epoch 13 Loss: 0.09737375485490292\n",
      "Validation Loss: 0.2960178256034851\n",
      "Epoch 14, Step 0, Loss: 0.1858677864074707\n",
      "Epoch 14, Step 100, Loss: 0.06856519728899002\n",
      "Epoch 14, Step 200, Loss: 0.08889217674732208\n",
      "Epoch 14, Step 300, Loss: 0.053796038031578064\n",
      "Epoch 14 Loss: 0.08987101422711004\n",
      "Validation Loss: 0.3174521327018738\n",
      "Epoch 15, Step 0, Loss: 0.19244492053985596\n",
      "Epoch 15, Step 100, Loss: 0.05702926218509674\n",
      "Epoch 15, Step 200, Loss: 0.08779428899288177\n",
      "Epoch 15, Step 300, Loss: 0.054694294929504395\n",
      "Epoch 15 Loss: 0.08069835455885836\n",
      "Validation Loss: 0.2936447560787201\n",
      "Epoch 16, Step 0, Loss: 0.14289529621601105\n",
      "Epoch 16, Step 100, Loss: 0.0524418018758297\n",
      "Epoch 16, Step 200, Loss: 0.08248232305049896\n",
      "Epoch 16, Step 300, Loss: 0.05466410517692566\n",
      "Epoch 16 Loss: 0.07338477296541993\n",
      "Validation Loss: 0.3064922094345093\n",
      "Early Stopping trigerred on epoch: {}\n"
     ]
    }
   ],
   "source": [
    "# Training loop\n",
    "model.train()\n",
    "patience = 0\n",
    "\n",
    "for epoch in range(cfg.num_epochs):\n",
    "    running_loss = 0.0\n",
    "    for step, (input_ids, attention_mask, labels) in enumerate(train_dataloader):\n",
    "        input_ids = input_ids.to(device)\n",
    "        attention_mask = attention_mask.to(device)\n",
    "        labels = labels.to(device)\n",
    "        \n",
    "        optimizer.zero_grad()\n",
    "\n",
    "        outputs = model(input_ids, attention_mask)\n",
    "        loss = loss_fn(outputs, labels)\n",
    "        loss.backward()\n",
    "        optimizer.step()\n",
    "        if step % 100 == 0:\n",
    "            print(\"Epoch {}, Step {}, Loss: {}\".format(epoch+1, step, loss.item()))\n",
    "\n",
    "        running_loss += loss.item()\n",
    "\n",
    "    print(f\"Epoch {epoch+1} Loss: {running_loss / len(train_dataloader)}\")\n",
    "\n",
    "    # Validation loop\n",
    "    model.eval()\n",
    "    with torch.no_grad():\n",
    "        val_loss = 0.0\n",
    "        for val_step, (input_ids, attention_mask, labels) in enumerate(val_dataloader):\n",
    "            input_ids = input_ids.to(device)\n",
    "            attention_mask = attention_mask.to(device)\n",
    "            labels = labels.to(device)\n",
    "            \n",
    "            val_outputs = model(input_ids, attention_mask)\n",
    "            val_loss += loss_fn(val_outputs, labels) \n",
    "        avg_loss = val_loss / len(val_dataloader)\n",
    "        print(f\"Validation Loss: {avg_loss}\")\n",
    "        \n",
    "        if avg_loss < min_val_loss:\n",
    "            patience = 0\n",
    "            min_val_loss = avg_loss\n",
    "            torch.save(model.state_dict(), cfg.model_save_path)\n",
    "            print(f'saving model with score: {avg_loss}')\n",
    "            \n",
    "    patience += 1    \n",
    "    if patience >= 10:\n",
    "            print('Early Stopping trigerred on epoch: {}')\n",
    "            break\n",
    "            \n",
    "    model.train()"
   ]
  },
  {
   "cell_type": "code",
   "execution_count": 25,
   "id": "6703fd15",
   "metadata": {
    "execution": {
     "iopub.execute_input": "2023-08-26T18:21:51.045618Z",
     "iopub.status.busy": "2023-08-26T18:21:51.044735Z",
     "iopub.status.idle": "2023-08-26T18:21:52.947819Z",
     "shell.execute_reply": "2023-08-26T18:21:52.946786Z"
    },
    "papermill": {
     "duration": 1.924829,
     "end_time": "2023-08-26T18:21:52.950437",
     "exception": false,
     "start_time": "2023-08-26T18:21:51.025608",
     "status": "completed"
    },
    "tags": []
   },
   "outputs": [],
   "source": [
    "model = BERT()\n",
    "model.load_state_dict(torch.load(cfg.model_save_path))\n",
    "model.eval()\n",
    "\n",
    "\n",
    "enc = tokenizer(list(test['merged_text']),\n",
    "                   padding=True,\n",
    "                   truncation=True,\n",
    "                   max_length=cfg.token_max,\n",
    "                   return_tensors=\"pt\")\n",
    "\n",
    "test_ds = TensorDataset(enc['input_ids'], enc['attention_mask'])\n",
    "test_dataloader = torch.utils.data.DataLoader(test_ds, batch_size=16, shuffle=False)\n",
    "\n",
    "\n",
    "predictions = []\n",
    "with torch.no_grad():\n",
    "    for input_ids, attention_mask in test_dataloader:\n",
    "        input_ids = input_ids\n",
    "        attention_mask = attention_mask\n",
    "\n",
    "        outputs = model(input_ids, attention_mask)\n",
    "        predictions.extend(outputs.cpu().numpy())\n",
    "        "
   ]
  },
  {
   "cell_type": "code",
   "execution_count": 26,
   "id": "18a69eb7",
   "metadata": {
    "execution": {
     "iopub.execute_input": "2023-08-26T18:21:52.993403Z",
     "iopub.status.busy": "2023-08-26T18:21:52.993044Z",
     "iopub.status.idle": "2023-08-26T18:21:52.999148Z",
     "shell.execute_reply": "2023-08-26T18:21:52.998169Z"
    },
    "papermill": {
     "duration": 0.033718,
     "end_time": "2023-08-26T18:21:53.001358",
     "exception": false,
     "start_time": "2023-08-26T18:21:52.967640",
     "status": "completed"
    },
    "tags": []
   },
   "outputs": [],
   "source": [
    "submission_df = pd.DataFrame({\n",
    "    'student_id': test['student_id'],\n",
    "    'content': [pred[0] for pred in predictions],\n",
    "    'wording': [pred[1] for pred in predictions]\n",
    "})"
   ]
  },
  {
   "cell_type": "code",
   "execution_count": 27,
   "id": "b05b30fd",
   "metadata": {
    "execution": {
     "iopub.execute_input": "2023-08-26T18:21:53.036235Z",
     "iopub.status.busy": "2023-08-26T18:21:53.035964Z",
     "iopub.status.idle": "2023-08-26T18:21:53.046539Z",
     "shell.execute_reply": "2023-08-26T18:21:53.045455Z"
    },
    "papermill": {
     "duration": 0.030362,
     "end_time": "2023-08-26T18:21:53.048690",
     "exception": false,
     "start_time": "2023-08-26T18:21:53.018328",
     "status": "completed"
    },
    "tags": []
   },
   "outputs": [
    {
     "data": {
      "text/html": [
       "<div>\n",
       "<style scoped>\n",
       "    .dataframe tbody tr th:only-of-type {\n",
       "        vertical-align: middle;\n",
       "    }\n",
       "\n",
       "    .dataframe tbody tr th {\n",
       "        vertical-align: top;\n",
       "    }\n",
       "\n",
       "    .dataframe thead th {\n",
       "        text-align: right;\n",
       "    }\n",
       "</style>\n",
       "<table border=\"1\" class=\"dataframe\">\n",
       "  <thead>\n",
       "    <tr style=\"text-align: right;\">\n",
       "      <th></th>\n",
       "      <th>student_id</th>\n",
       "      <th>content</th>\n",
       "      <th>wording</th>\n",
       "    </tr>\n",
       "  </thead>\n",
       "  <tbody>\n",
       "    <tr>\n",
       "      <th>0</th>\n",
       "      <td>000000ffffff</td>\n",
       "      <td>0.310775</td>\n",
       "      <td>0.281048</td>\n",
       "    </tr>\n",
       "    <tr>\n",
       "      <th>1</th>\n",
       "      <td>111111eeeeee</td>\n",
       "      <td>0.351757</td>\n",
       "      <td>0.340169</td>\n",
       "    </tr>\n",
       "    <tr>\n",
       "      <th>2</th>\n",
       "      <td>222222cccccc</td>\n",
       "      <td>0.311938</td>\n",
       "      <td>0.331025</td>\n",
       "    </tr>\n",
       "    <tr>\n",
       "      <th>3</th>\n",
       "      <td>333333dddddd</td>\n",
       "      <td>0.366009</td>\n",
       "      <td>0.378696</td>\n",
       "    </tr>\n",
       "  </tbody>\n",
       "</table>\n",
       "</div>"
      ],
      "text/plain": [
       "     student_id   content   wording\n",
       "0  000000ffffff  0.310775  0.281048\n",
       "1  111111eeeeee  0.351757  0.340169\n",
       "2  222222cccccc  0.311938  0.331025\n",
       "3  333333dddddd  0.366009  0.378696"
      ]
     },
     "execution_count": 27,
     "metadata": {},
     "output_type": "execute_result"
    }
   ],
   "source": [
    "submission_df"
   ]
  },
  {
   "cell_type": "code",
   "execution_count": 28,
   "id": "61cafbb7",
   "metadata": {
    "execution": {
     "iopub.execute_input": "2023-08-26T18:21:53.083664Z",
     "iopub.status.busy": "2023-08-26T18:21:53.083411Z",
     "iopub.status.idle": "2023-08-26T18:21:53.089959Z",
     "shell.execute_reply": "2023-08-26T18:21:53.089060Z"
    },
    "papermill": {
     "duration": 0.026243,
     "end_time": "2023-08-26T18:21:53.091948",
     "exception": false,
     "start_time": "2023-08-26T18:21:53.065705",
     "status": "completed"
    },
    "tags": []
   },
   "outputs": [],
   "source": [
    "submission_df.to_csv('submission.csv', index=False)"
   ]
  },
  {
   "cell_type": "code",
   "execution_count": null,
   "id": "ed36dbb2",
   "metadata": {
    "papermill": {
     "duration": 0.030615,
     "end_time": "2023-08-26T18:21:53.147584",
     "exception": false,
     "start_time": "2023-08-26T18:21:53.116969",
     "status": "completed"
    },
    "tags": []
   },
   "outputs": [],
   "source": []
  }
 ],
 "metadata": {
  "kernelspec": {
   "display_name": "Python 3",
   "language": "python",
   "name": "python3"
  },
  "language_info": {
   "codemirror_mode": {
    "name": "ipython",
    "version": 3
   },
   "file_extension": ".py",
   "mimetype": "text/x-python",
   "name": "python",
   "nbconvert_exporter": "python",
   "pygments_lexer": "ipython3",
   "version": "3.10.12"
  },
  "papermill": {
   "default_parameters": {},
   "duration": 5472.646924,
   "end_time": "2023-08-26T18:21:56.431474",
   "environment_variables": {},
   "exception": null,
   "input_path": "__notebook__.ipynb",
   "output_path": "__notebook__.ipynb",
   "parameters": {},
   "start_time": "2023-08-26T16:50:43.784550",
   "version": "2.4.0"
  }
 },
 "nbformat": 4,
 "nbformat_minor": 5
}
