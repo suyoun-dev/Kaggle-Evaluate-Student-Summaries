{
 "cells": [
  {
   "cell_type": "code",
   "execution_count": 1,
   "id": "d1ff9560",
   "metadata": {
    "_cell_guid": "b1076dfc-b9ad-4769-8c92-a6c4dae69d19",
    "_uuid": "8f2839f25d086af736a60e9eeb907d3b93b6e0e5",
    "execution": {
     "iopub.execute_input": "2023-08-26T02:53:18.058093Z",
     "iopub.status.busy": "2023-08-26T02:53:18.057405Z",
     "iopub.status.idle": "2023-08-26T02:53:18.081355Z",
     "shell.execute_reply": "2023-08-26T02:53:18.080492Z"
    },
    "papermill": {
     "duration": 0.035573,
     "end_time": "2023-08-26T02:53:18.083582",
     "exception": false,
     "start_time": "2023-08-26T02:53:18.048009",
     "status": "completed"
    },
    "tags": []
   },
   "outputs": [
    {
     "name": "stdout",
     "output_type": "stream",
     "text": [
      "/kaggle/input/hugging-face-models-safe-tensors/bert-base-uncased/config.json\n",
      "/kaggle/input/hugging-face-models-safe-tensors/bert-base-uncased/tokenizer_config.json\n",
      "/kaggle/input/hugging-face-models-safe-tensors/bert-base-uncased/pytorch_model.bin\n",
      "/kaggle/input/hugging-face-models-safe-tensors/bert-base-uncased/special_tokens_map.json\n",
      "/kaggle/input/hugging-face-models-safe-tensors/bert-base-uncased/vocab.txt\n",
      "/kaggle/input/commonlit-evaluate-student-summaries/sample_submission.csv\n",
      "/kaggle/input/commonlit-evaluate-student-summaries/prompts_train.csv\n",
      "/kaggle/input/commonlit-evaluate-student-summaries/summaries_test.csv\n",
      "/kaggle/input/commonlit-evaluate-student-summaries/summaries_train.csv\n",
      "/kaggle/input/commonlit-evaluate-student-summaries/prompts_test.csv\n"
     ]
    }
   ],
   "source": [
    "# This Python 3 environment comes with many helpful analytics libraries installed\n",
    "# It is defined by the kaggle/python Docker image: https://github.com/kaggle/docker-python\n",
    "# For example, here's several helpful packages to load\n",
    "\n",
    "import numpy as np # linear algebra\n",
    "import pandas as pd # data processing, CSV file I/O (e.g. pd.read_csv)\n",
    "\n",
    "# Input data files are available in the read-only \"../input/\" directory\n",
    "# For example, running this (by clicking run or pressing Shift+Enter) will list all files under the input directory\n",
    "\n",
    "import os\n",
    "for dirname, _, filenames in os.walk('/kaggle/input'):\n",
    "    for filename in filenames:\n",
    "        print(os.path.join(dirname, filename))\n",
    "\n",
    "# You can write up to 20GB to the current directory (/kaggle/working/) that gets preserved as output when you create a version using \"Save & Run All\" \n",
    "# You can also write temporary files to /kaggle/temp/, but they won't be saved outside of the current session"
   ]
  },
  {
   "cell_type": "markdown",
   "id": "1d6f6f09",
   "metadata": {
    "papermill": {
     "duration": 0.007244,
     "end_time": "2023-08-26T02:53:18.098576",
     "exception": false,
     "start_time": "2023-08-26T02:53:18.091332",
     "status": "completed"
    },
    "tags": []
   },
   "source": [
    "## Reference: Bert Tokenizer + Fine-Tuning Model\n",
    "https://www.kaggle.com/code/theodorospsarras/bert-tokenizer-fine-tuning-model/input"
   ]
  },
  {
   "cell_type": "code",
   "execution_count": 2,
   "id": "245f8201",
   "metadata": {
    "execution": {
     "iopub.execute_input": "2023-08-26T02:53:18.114661Z",
     "iopub.status.busy": "2023-08-26T02:53:18.114370Z",
     "iopub.status.idle": "2023-08-26T02:53:18.119312Z",
     "shell.execute_reply": "2023-08-26T02:53:18.118486Z"
    },
    "papermill": {
     "duration": 0.015271,
     "end_time": "2023-08-26T02:53:18.121191",
     "exception": false,
     "start_time": "2023-08-26T02:53:18.105920",
     "status": "completed"
    },
    "tags": []
   },
   "outputs": [],
   "source": [
    "#!pip install torch"
   ]
  },
  {
   "cell_type": "code",
   "execution_count": 3,
   "id": "f7238cc5",
   "metadata": {
    "execution": {
     "iopub.execute_input": "2023-08-26T02:53:18.137970Z",
     "iopub.status.busy": "2023-08-26T02:53:18.137144Z",
     "iopub.status.idle": "2023-08-26T02:53:22.868755Z",
     "shell.execute_reply": "2023-08-26T02:53:22.867704Z"
    },
    "papermill": {
     "duration": 4.742232,
     "end_time": "2023-08-26T02:53:22.871110",
     "exception": false,
     "start_time": "2023-08-26T02:53:18.128878",
     "status": "completed"
    },
    "tags": []
   },
   "outputs": [],
   "source": [
    "import torch\n",
    "import torch.nn as nn\n",
    "from transformers import AutoTokenizer, AutoModel,AutoModelForSequenceClassification\n",
    "import pandas as pd\n",
    "import torch.nn.functional as F\n",
    "import numpy as np"
   ]
  },
  {
   "cell_type": "code",
   "execution_count": 4,
   "id": "8befc98b",
   "metadata": {
    "execution": {
     "iopub.execute_input": "2023-08-26T02:53:22.888699Z",
     "iopub.status.busy": "2023-08-26T02:53:22.888202Z",
     "iopub.status.idle": "2023-08-26T02:53:22.892492Z",
     "shell.execute_reply": "2023-08-26T02:53:22.891374Z"
    },
    "papermill": {
     "duration": 0.015448,
     "end_time": "2023-08-26T02:53:22.894935",
     "exception": false,
     "start_time": "2023-08-26T02:53:22.879487",
     "status": "completed"
    },
    "tags": []
   },
   "outputs": [],
   "source": [
    "#import os\n",
    "\n",
    "#os.environ['CUDA_VISIBLE_DEVICES']  = \"0\"\n",
    "\n",
    "#torch.cuda.device_count()"
   ]
  },
  {
   "cell_type": "code",
   "execution_count": 5,
   "id": "18185424",
   "metadata": {
    "execution": {
     "iopub.execute_input": "2023-08-26T02:53:22.911628Z",
     "iopub.status.busy": "2023-08-26T02:53:22.911342Z",
     "iopub.status.idle": "2023-08-26T02:53:23.079394Z",
     "shell.execute_reply": "2023-08-26T02:53:23.078443Z"
    },
    "papermill": {
     "duration": 0.178918,
     "end_time": "2023-08-26T02:53:23.081609",
     "exception": false,
     "start_time": "2023-08-26T02:53:22.902691",
     "status": "completed"
    },
    "tags": []
   },
   "outputs": [
    {
     "data": {
      "text/html": [
       "<div>\n",
       "<style scoped>\n",
       "    .dataframe tbody tr th:only-of-type {\n",
       "        vertical-align: middle;\n",
       "    }\n",
       "\n",
       "    .dataframe tbody tr th {\n",
       "        vertical-align: top;\n",
       "    }\n",
       "\n",
       "    .dataframe thead th {\n",
       "        text-align: right;\n",
       "    }\n",
       "</style>\n",
       "<table border=\"1\" class=\"dataframe\">\n",
       "  <thead>\n",
       "    <tr style=\"text-align: right;\">\n",
       "      <th></th>\n",
       "      <th>prompt_id</th>\n",
       "      <th>prompt_question</th>\n",
       "      <th>prompt_title</th>\n",
       "      <th>prompt_text</th>\n",
       "    </tr>\n",
       "  </thead>\n",
       "  <tbody>\n",
       "    <tr>\n",
       "      <th>0</th>\n",
       "      <td>39c16e</td>\n",
       "      <td>Summarize at least 3 elements of an ideal trag...</td>\n",
       "      <td>On Tragedy</td>\n",
       "      <td>Chapter 13 \\r\\nAs the sequel to what has alrea...</td>\n",
       "    </tr>\n",
       "    <tr>\n",
       "      <th>1</th>\n",
       "      <td>3b9047</td>\n",
       "      <td>In complete sentences, summarize the structure...</td>\n",
       "      <td>Egyptian Social Structure</td>\n",
       "      <td>Egyptian society was structured like a pyramid...</td>\n",
       "    </tr>\n",
       "    <tr>\n",
       "      <th>2</th>\n",
       "      <td>814d6b</td>\n",
       "      <td>Summarize how the Third Wave developed over su...</td>\n",
       "      <td>The Third Wave</td>\n",
       "      <td>Background \\r\\nThe Third Wave experiment took ...</td>\n",
       "    </tr>\n",
       "    <tr>\n",
       "      <th>3</th>\n",
       "      <td>ebad26</td>\n",
       "      <td>Summarize the various ways the factory would u...</td>\n",
       "      <td>Excerpt from The Jungle</td>\n",
       "      <td>With one member trimming beef in a cannery, an...</td>\n",
       "    </tr>\n",
       "  </tbody>\n",
       "</table>\n",
       "</div>"
      ],
      "text/plain": [
       "  prompt_id                                    prompt_question  \\\n",
       "0    39c16e  Summarize at least 3 elements of an ideal trag...   \n",
       "1    3b9047  In complete sentences, summarize the structure...   \n",
       "2    814d6b  Summarize how the Third Wave developed over su...   \n",
       "3    ebad26  Summarize the various ways the factory would u...   \n",
       "\n",
       "                prompt_title  \\\n",
       "0                 On Tragedy   \n",
       "1  Egyptian Social Structure   \n",
       "2             The Third Wave   \n",
       "3    Excerpt from The Jungle   \n",
       "\n",
       "                                         prompt_text  \n",
       "0  Chapter 13 \\r\\nAs the sequel to what has alrea...  \n",
       "1  Egyptian society was structured like a pyramid...  \n",
       "2  Background \\r\\nThe Third Wave experiment took ...  \n",
       "3  With one member trimming beef in a cannery, an...  "
      ]
     },
     "execution_count": 5,
     "metadata": {},
     "output_type": "execute_result"
    }
   ],
   "source": [
    "prompts_train = pd.read_csv(\"/kaggle/input/commonlit-evaluate-student-summaries/prompts_train.csv\")\n",
    "prompts_test = pd.read_csv(\"/kaggle/input/commonlit-evaluate-student-summaries/prompts_test.csv\")\n",
    "\n",
    "summaries_train = pd.read_csv(\"/kaggle/input/commonlit-evaluate-student-summaries/summaries_train.csv\")\n",
    "summaries_test = pd.read_csv(\"/kaggle/input/commonlit-evaluate-student-summaries/summaries_test.csv\")\n",
    "\n",
    "sample_submission = pd.read_csv(\"/kaggle/input/commonlit-evaluate-student-summaries/sample_submission.csv\")\n",
    "\n",
    "prompts_train"
   ]
  },
  {
   "cell_type": "markdown",
   "id": "0a01a872",
   "metadata": {
    "papermill": {
     "duration": 0.008412,
     "end_time": "2023-08-26T02:53:23.098379",
     "exception": false,
     "start_time": "2023-08-26T02:53:23.089967",
     "status": "completed"
    },
    "tags": []
   },
   "source": [
    "1. prompt 파일과 train/test 파일 merge 하기"
   ]
  },
  {
   "cell_type": "code",
   "execution_count": 6,
   "id": "3a30f43d",
   "metadata": {
    "execution": {
     "iopub.execute_input": "2023-08-26T02:53:23.115523Z",
     "iopub.status.busy": "2023-08-26T02:53:23.115213Z",
     "iopub.status.idle": "2023-08-26T02:53:23.148304Z",
     "shell.execute_reply": "2023-08-26T02:53:23.147403Z"
    },
    "papermill": {
     "duration": 0.043998,
     "end_time": "2023-08-26T02:53:23.150284",
     "exception": false,
     "start_time": "2023-08-26T02:53:23.106286",
     "status": "completed"
    },
    "tags": []
   },
   "outputs": [
    {
     "data": {
      "text/html": [
       "<div>\n",
       "<style scoped>\n",
       "    .dataframe tbody tr th:only-of-type {\n",
       "        vertical-align: middle;\n",
       "    }\n",
       "\n",
       "    .dataframe tbody tr th {\n",
       "        vertical-align: top;\n",
       "    }\n",
       "\n",
       "    .dataframe thead th {\n",
       "        text-align: right;\n",
       "    }\n",
       "</style>\n",
       "<table border=\"1\" class=\"dataframe\">\n",
       "  <thead>\n",
       "    <tr style=\"text-align: right;\">\n",
       "      <th></th>\n",
       "      <th>student_id</th>\n",
       "      <th>prompt_id</th>\n",
       "      <th>text</th>\n",
       "      <th>content</th>\n",
       "      <th>wording</th>\n",
       "      <th>prompt_question</th>\n",
       "      <th>prompt_title</th>\n",
       "      <th>prompt_text</th>\n",
       "    </tr>\n",
       "  </thead>\n",
       "  <tbody>\n",
       "    <tr>\n",
       "      <th>0</th>\n",
       "      <td>000e8c3c7ddb</td>\n",
       "      <td>814d6b</td>\n",
       "      <td>The third wave was an experimentto see how peo...</td>\n",
       "      <td>0.205683</td>\n",
       "      <td>0.380538</td>\n",
       "      <td>Summarize how the Third Wave developed over su...</td>\n",
       "      <td>The Third Wave</td>\n",
       "      <td>Background \\r\\nThe Third Wave experiment took ...</td>\n",
       "    </tr>\n",
       "    <tr>\n",
       "      <th>1</th>\n",
       "      <td>0020ae56ffbf</td>\n",
       "      <td>ebad26</td>\n",
       "      <td>They would rub it up with soda to make the sme...</td>\n",
       "      <td>-0.548304</td>\n",
       "      <td>0.506755</td>\n",
       "      <td>Summarize the various ways the factory would u...</td>\n",
       "      <td>Excerpt from The Jungle</td>\n",
       "      <td>With one member trimming beef in a cannery, an...</td>\n",
       "    </tr>\n",
       "    <tr>\n",
       "      <th>2</th>\n",
       "      <td>004e978e639e</td>\n",
       "      <td>3b9047</td>\n",
       "      <td>In Egypt, there were many occupations and soci...</td>\n",
       "      <td>3.128928</td>\n",
       "      <td>4.231226</td>\n",
       "      <td>In complete sentences, summarize the structure...</td>\n",
       "      <td>Egyptian Social Structure</td>\n",
       "      <td>Egyptian society was structured like a pyramid...</td>\n",
       "    </tr>\n",
       "    <tr>\n",
       "      <th>3</th>\n",
       "      <td>005ab0199905</td>\n",
       "      <td>3b9047</td>\n",
       "      <td>The highest class was Pharaohs these people we...</td>\n",
       "      <td>-0.210614</td>\n",
       "      <td>-0.471415</td>\n",
       "      <td>In complete sentences, summarize the structure...</td>\n",
       "      <td>Egyptian Social Structure</td>\n",
       "      <td>Egyptian society was structured like a pyramid...</td>\n",
       "    </tr>\n",
       "    <tr>\n",
       "      <th>4</th>\n",
       "      <td>0070c9e7af47</td>\n",
       "      <td>814d6b</td>\n",
       "      <td>The Third Wave developed  rapidly because the ...</td>\n",
       "      <td>3.272894</td>\n",
       "      <td>3.219757</td>\n",
       "      <td>Summarize how the Third Wave developed over su...</td>\n",
       "      <td>The Third Wave</td>\n",
       "      <td>Background \\r\\nThe Third Wave experiment took ...</td>\n",
       "    </tr>\n",
       "    <tr>\n",
       "      <th>...</th>\n",
       "      <td>...</td>\n",
       "      <td>...</td>\n",
       "      <td>...</td>\n",
       "      <td>...</td>\n",
       "      <td>...</td>\n",
       "      <td>...</td>\n",
       "      <td>...</td>\n",
       "      <td>...</td>\n",
       "    </tr>\n",
       "    <tr>\n",
       "      <th>7160</th>\n",
       "      <td>ff7c7e70df07</td>\n",
       "      <td>ebad26</td>\n",
       "      <td>They used all sorts of chemical concoctions to...</td>\n",
       "      <td>0.205683</td>\n",
       "      <td>0.380538</td>\n",
       "      <td>Summarize the various ways the factory would u...</td>\n",
       "      <td>Excerpt from The Jungle</td>\n",
       "      <td>With one member trimming beef in a cannery, an...</td>\n",
       "    </tr>\n",
       "    <tr>\n",
       "      <th>7161</th>\n",
       "      <td>ffc34d056498</td>\n",
       "      <td>3b9047</td>\n",
       "      <td>The lowest classes are slaves and farmers slav...</td>\n",
       "      <td>-0.308448</td>\n",
       "      <td>0.048171</td>\n",
       "      <td>In complete sentences, summarize the structure...</td>\n",
       "      <td>Egyptian Social Structure</td>\n",
       "      <td>Egyptian society was structured like a pyramid...</td>\n",
       "    </tr>\n",
       "    <tr>\n",
       "      <th>7162</th>\n",
       "      <td>ffd1576d2e1b</td>\n",
       "      <td>3b9047</td>\n",
       "      <td>they sorta made people start workin...</td>\n",
       "      <td>-1.408180</td>\n",
       "      <td>-0.493603</td>\n",
       "      <td>In complete sentences, summarize the structure...</td>\n",
       "      <td>Egyptian Social Structure</td>\n",
       "      <td>Egyptian society was structured like a pyramid...</td>\n",
       "    </tr>\n",
       "    <tr>\n",
       "      <th>7163</th>\n",
       "      <td>ffe4a98093b2</td>\n",
       "      <td>39c16e</td>\n",
       "      <td>An ideal tragety has three elements that make ...</td>\n",
       "      <td>-0.393310</td>\n",
       "      <td>0.627128</td>\n",
       "      <td>Summarize at least 3 elements of an ideal trag...</td>\n",
       "      <td>On Tragedy</td>\n",
       "      <td>Chapter 13 \\r\\nAs the sequel to what has alrea...</td>\n",
       "    </tr>\n",
       "    <tr>\n",
       "      <th>7164</th>\n",
       "      <td>fffbccfd8a08</td>\n",
       "      <td>ebad26</td>\n",
       "      <td>The meat would smell sour but the would \"rub i...</td>\n",
       "      <td>1.771596</td>\n",
       "      <td>0.547742</td>\n",
       "      <td>Summarize the various ways the factory would u...</td>\n",
       "      <td>Excerpt from The Jungle</td>\n",
       "      <td>With one member trimming beef in a cannery, an...</td>\n",
       "    </tr>\n",
       "  </tbody>\n",
       "</table>\n",
       "<p>7165 rows × 8 columns</p>\n",
       "</div>"
      ],
      "text/plain": [
       "        student_id prompt_id  \\\n",
       "0     000e8c3c7ddb    814d6b   \n",
       "1     0020ae56ffbf    ebad26   \n",
       "2     004e978e639e    3b9047   \n",
       "3     005ab0199905    3b9047   \n",
       "4     0070c9e7af47    814d6b   \n",
       "...            ...       ...   \n",
       "7160  ff7c7e70df07    ebad26   \n",
       "7161  ffc34d056498    3b9047   \n",
       "7162  ffd1576d2e1b    3b9047   \n",
       "7163  ffe4a98093b2    39c16e   \n",
       "7164  fffbccfd8a08    ebad26   \n",
       "\n",
       "                                                   text   content   wording  \\\n",
       "0     The third wave was an experimentto see how peo...  0.205683  0.380538   \n",
       "1     They would rub it up with soda to make the sme... -0.548304  0.506755   \n",
       "2     In Egypt, there were many occupations and soci...  3.128928  4.231226   \n",
       "3     The highest class was Pharaohs these people we... -0.210614 -0.471415   \n",
       "4     The Third Wave developed  rapidly because the ...  3.272894  3.219757   \n",
       "...                                                 ...       ...       ...   \n",
       "7160  They used all sorts of chemical concoctions to...  0.205683  0.380538   \n",
       "7161  The lowest classes are slaves and farmers slav... -0.308448  0.048171   \n",
       "7162             they sorta made people start workin... -1.408180 -0.493603   \n",
       "7163  An ideal tragety has three elements that make ... -0.393310  0.627128   \n",
       "7164  The meat would smell sour but the would \"rub i...  1.771596  0.547742   \n",
       "\n",
       "                                        prompt_question  \\\n",
       "0     Summarize how the Third Wave developed over su...   \n",
       "1     Summarize the various ways the factory would u...   \n",
       "2     In complete sentences, summarize the structure...   \n",
       "3     In complete sentences, summarize the structure...   \n",
       "4     Summarize how the Third Wave developed over su...   \n",
       "...                                                 ...   \n",
       "7160  Summarize the various ways the factory would u...   \n",
       "7161  In complete sentences, summarize the structure...   \n",
       "7162  In complete sentences, summarize the structure...   \n",
       "7163  Summarize at least 3 elements of an ideal trag...   \n",
       "7164  Summarize the various ways the factory would u...   \n",
       "\n",
       "                   prompt_title  \\\n",
       "0                The Third Wave   \n",
       "1       Excerpt from The Jungle   \n",
       "2     Egyptian Social Structure   \n",
       "3     Egyptian Social Structure   \n",
       "4                The Third Wave   \n",
       "...                         ...   \n",
       "7160    Excerpt from The Jungle   \n",
       "7161  Egyptian Social Structure   \n",
       "7162  Egyptian Social Structure   \n",
       "7163                 On Tragedy   \n",
       "7164    Excerpt from The Jungle   \n",
       "\n",
       "                                            prompt_text  \n",
       "0     Background \\r\\nThe Third Wave experiment took ...  \n",
       "1     With one member trimming beef in a cannery, an...  \n",
       "2     Egyptian society was structured like a pyramid...  \n",
       "3     Egyptian society was structured like a pyramid...  \n",
       "4     Background \\r\\nThe Third Wave experiment took ...  \n",
       "...                                                 ...  \n",
       "7160  With one member trimming beef in a cannery, an...  \n",
       "7161  Egyptian society was structured like a pyramid...  \n",
       "7162  Egyptian society was structured like a pyramid...  \n",
       "7163  Chapter 13 \\r\\nAs the sequel to what has alrea...  \n",
       "7164  With one member trimming beef in a cannery, an...  \n",
       "\n",
       "[7165 rows x 8 columns]"
      ]
     },
     "execution_count": 6,
     "metadata": {},
     "output_type": "execute_result"
    }
   ],
   "source": [
    "# dataframe 병합, prompt id 기준으로 각 아이디에 맞는 prompts_train, test 내용을 왼쪽에 붙임\n",
    "train = summaries_train.merge(prompts_train, how=\"left\", on=\"prompt_id\")\n",
    "test = summaries_test.merge(prompts_test, how=\"left\", on=\"prompt_id\")\n",
    "\n",
    "train"
   ]
  },
  {
   "cell_type": "code",
   "execution_count": 7,
   "id": "91d8e46a",
   "metadata": {
    "execution": {
     "iopub.execute_input": "2023-08-26T02:53:23.168954Z",
     "iopub.status.busy": "2023-08-26T02:53:23.168129Z",
     "iopub.status.idle": "2023-08-26T02:53:23.179277Z",
     "shell.execute_reply": "2023-08-26T02:53:23.178398Z"
    },
    "papermill": {
     "duration": 0.022529,
     "end_time": "2023-08-26T02:53:23.181185",
     "exception": false,
     "start_time": "2023-08-26T02:53:23.158656",
     "status": "completed"
    },
    "tags": []
   },
   "outputs": [
    {
     "data": {
      "text/html": [
       "<div>\n",
       "<style scoped>\n",
       "    .dataframe tbody tr th:only-of-type {\n",
       "        vertical-align: middle;\n",
       "    }\n",
       "\n",
       "    .dataframe tbody tr th {\n",
       "        vertical-align: top;\n",
       "    }\n",
       "\n",
       "    .dataframe thead th {\n",
       "        text-align: right;\n",
       "    }\n",
       "</style>\n",
       "<table border=\"1\" class=\"dataframe\">\n",
       "  <thead>\n",
       "    <tr style=\"text-align: right;\">\n",
       "      <th></th>\n",
       "      <th>student_id</th>\n",
       "      <th>prompt_id</th>\n",
       "      <th>text</th>\n",
       "      <th>prompt_question</th>\n",
       "      <th>prompt_title</th>\n",
       "      <th>prompt_text</th>\n",
       "    </tr>\n",
       "  </thead>\n",
       "  <tbody>\n",
       "    <tr>\n",
       "      <th>0</th>\n",
       "      <td>000000ffffff</td>\n",
       "      <td>abc123</td>\n",
       "      <td>Example text 1</td>\n",
       "      <td>Summarize...</td>\n",
       "      <td>Example Title 1</td>\n",
       "      <td>Heading\\nText...</td>\n",
       "    </tr>\n",
       "    <tr>\n",
       "      <th>1</th>\n",
       "      <td>111111eeeeee</td>\n",
       "      <td>def789</td>\n",
       "      <td>Example text 2</td>\n",
       "      <td>Summarize...</td>\n",
       "      <td>Example Title 2</td>\n",
       "      <td>Heading\\nText...</td>\n",
       "    </tr>\n",
       "    <tr>\n",
       "      <th>2</th>\n",
       "      <td>222222cccccc</td>\n",
       "      <td>abc123</td>\n",
       "      <td>Example text 3</td>\n",
       "      <td>Summarize...</td>\n",
       "      <td>Example Title 1</td>\n",
       "      <td>Heading\\nText...</td>\n",
       "    </tr>\n",
       "    <tr>\n",
       "      <th>3</th>\n",
       "      <td>333333dddddd</td>\n",
       "      <td>def789</td>\n",
       "      <td>Example text 4</td>\n",
       "      <td>Summarize...</td>\n",
       "      <td>Example Title 2</td>\n",
       "      <td>Heading\\nText...</td>\n",
       "    </tr>\n",
       "  </tbody>\n",
       "</table>\n",
       "</div>"
      ],
      "text/plain": [
       "     student_id prompt_id            text prompt_question     prompt_title  \\\n",
       "0  000000ffffff    abc123  Example text 1    Summarize...  Example Title 1   \n",
       "1  111111eeeeee    def789  Example text 2    Summarize...  Example Title 2   \n",
       "2  222222cccccc    abc123  Example text 3    Summarize...  Example Title 1   \n",
       "3  333333dddddd    def789  Example text 4    Summarize...  Example Title 2   \n",
       "\n",
       "        prompt_text  \n",
       "0  Heading\\nText...  \n",
       "1  Heading\\nText...  \n",
       "2  Heading\\nText...  \n",
       "3  Heading\\nText...  "
      ]
     },
     "execution_count": 7,
     "metadata": {},
     "output_type": "execute_result"
    }
   ],
   "source": [
    "test"
   ]
  },
  {
   "cell_type": "code",
   "execution_count": 8,
   "id": "146cedee",
   "metadata": {
    "execution": {
     "iopub.execute_input": "2023-08-26T02:53:23.200920Z",
     "iopub.status.busy": "2023-08-26T02:53:23.199325Z",
     "iopub.status.idle": "2023-08-26T02:53:23.205329Z",
     "shell.execute_reply": "2023-08-26T02:53:23.204484Z"
    },
    "papermill": {
     "duration": 0.017392,
     "end_time": "2023-08-26T02:53:23.207265",
     "exception": false,
     "start_time": "2023-08-26T02:53:23.189873",
     "status": "completed"
    },
    "tags": []
   },
   "outputs": [],
   "source": [
    "class CFG:\n",
    "    def __init__(self):\n",
    "        self.model_name = '/kaggle/input/hugging-face-models-safe-tensors/bert-base-uncased'\n",
    "        self.tokenizer_path = '/kaggle/input/hugging-face-models-safe-tensors/bert-base-uncased'\n",
    "        self.batch_size = 8\n",
    "        self.num_epochs = 30\n",
    "        self.token_max = 512\n",
    "        self.learning_rate = 1e-5\n",
    "        self.model_save_path = '/kaggle/working/model01.pt'\n",
    "\n",
    "cfg = CFG()"
   ]
  },
  {
   "cell_type": "code",
   "execution_count": 9,
   "id": "31829d10",
   "metadata": {
    "execution": {
     "iopub.execute_input": "2023-08-26T02:53:23.231711Z",
     "iopub.status.busy": "2023-08-26T02:53:23.230258Z",
     "iopub.status.idle": "2023-08-26T02:53:30.671764Z",
     "shell.execute_reply": "2023-08-26T02:53:30.670814Z"
    },
    "papermill": {
     "duration": 7.453586,
     "end_time": "2023-08-26T02:53:30.674397",
     "exception": false,
     "start_time": "2023-08-26T02:53:23.220811",
     "status": "completed"
    },
    "tags": []
   },
   "outputs": [
    {
     "name": "stderr",
     "output_type": "stream",
     "text": [
      "/opt/conda/lib/python3.10/site-packages/scipy/__init__.py:146: UserWarning: A NumPy version >=1.16.5 and <1.23.0 is required for this version of SciPy (detected version 1.23.5\n",
      "  warnings.warn(f\"A NumPy version >={np_minversion} and <{np_maxversion}\"\n",
      "/opt/conda/lib/python3.10/site-packages/tensorflow_io/python/ops/__init__.py:98: UserWarning: unable to load libtensorflow_io_plugins.so: unable to open file: libtensorflow_io_plugins.so, from paths: ['/opt/conda/lib/python3.10/site-packages/tensorflow_io/python/ops/libtensorflow_io_plugins.so']\n",
      "caused by: ['/opt/conda/lib/python3.10/site-packages/tensorflow_io/python/ops/libtensorflow_io_plugins.so: undefined symbol: _ZN3tsl6StatusC1EN10tensorflow5error4CodeESt17basic_string_viewIcSt11char_traitsIcEENS_14SourceLocationE']\n",
      "  warnings.warn(f\"unable to load libtensorflow_io_plugins.so: {e}\")\n",
      "/opt/conda/lib/python3.10/site-packages/tensorflow_io/python/ops/__init__.py:104: UserWarning: file system plugins are not loaded: unable to open file: libtensorflow_io.so, from paths: ['/opt/conda/lib/python3.10/site-packages/tensorflow_io/python/ops/libtensorflow_io.so']\n",
      "caused by: ['/opt/conda/lib/python3.10/site-packages/tensorflow_io/python/ops/libtensorflow_io.so: undefined symbol: _ZTVN10tensorflow13GcsFileSystemE']\n",
      "  warnings.warn(f\"file system plugins are not loaded: {e}\")\n"
     ]
    }
   ],
   "source": [
    "from transformers import BertModel, BertTokenizer"
   ]
  },
  {
   "cell_type": "code",
   "execution_count": 10,
   "id": "816a341c",
   "metadata": {
    "execution": {
     "iopub.execute_input": "2023-08-26T02:53:30.693527Z",
     "iopub.status.busy": "2023-08-26T02:53:30.693218Z",
     "iopub.status.idle": "2023-08-26T02:53:37.285297Z",
     "shell.execute_reply": "2023-08-26T02:53:37.284298Z"
    },
    "papermill": {
     "duration": 6.604578,
     "end_time": "2023-08-26T02:53:37.288017",
     "exception": false,
     "start_time": "2023-08-26T02:53:30.683439",
     "status": "completed"
    },
    "tags": []
   },
   "outputs": [],
   "source": [
    "tokenizer = AutoTokenizer.from_pretrained(cfg.tokenizer_path)\n",
    "model_deberta = AutoModel.from_pretrained(cfg.model_name)"
   ]
  },
  {
   "cell_type": "code",
   "execution_count": 11,
   "id": "33d732f6",
   "metadata": {
    "execution": {
     "iopub.execute_input": "2023-08-26T02:53:37.309441Z",
     "iopub.status.busy": "2023-08-26T02:53:37.309119Z",
     "iopub.status.idle": "2023-08-26T02:53:37.313706Z",
     "shell.execute_reply": "2023-08-26T02:53:37.312682Z"
    },
    "papermill": {
     "duration": 0.016781,
     "end_time": "2023-08-26T02:53:37.315918",
     "exception": false,
     "start_time": "2023-08-26T02:53:37.299137",
     "status": "completed"
    },
    "tags": []
   },
   "outputs": [],
   "source": [
    "from itertools import chain\n",
    "from torch.utils.data import TensorDataset, DataLoader, random_split"
   ]
  },
  {
   "cell_type": "code",
   "execution_count": 12,
   "id": "ad0b6e54",
   "metadata": {
    "execution": {
     "iopub.execute_input": "2023-08-26T02:53:37.335886Z",
     "iopub.status.busy": "2023-08-26T02:53:37.335584Z",
     "iopub.status.idle": "2023-08-26T02:54:03.805871Z",
     "shell.execute_reply": "2023-08-26T02:54:03.804862Z"
    },
    "papermill": {
     "duration": 26.484322,
     "end_time": "2023-08-26T02:54:03.808904",
     "exception": false,
     "start_time": "2023-08-26T02:53:37.324582",
     "status": "completed"
    },
    "tags": []
   },
   "outputs": [],
   "source": [
    "def get_dataset(df):\n",
    "    encoding = tokenizer(list(df['prompt_question']), list(df['prompt_text']), list(df['text']),\n",
    "                   padding=True,\n",
    "                   truncation=True,\n",
    "                   max_length=cfg.token_max,\n",
    "                   return_tensors=\"pt\")\n",
    "    content = torch.tensor(df['content'], dtype=torch.float32)\n",
    "    wording = torch.tensor(df['wording'], dtype=torch.float32)\n",
    "    labels = torch.dstack((content, wording)).squeeze()\n",
    "    dataset = TensorDataset(encoding['input_ids'], encoding['attention_mask'], labels)\n",
    "    return dataset\n",
    "\n",
    "ds = get_dataset(train)"
   ]
  },
  {
   "cell_type": "code",
   "execution_count": 13,
   "id": "27e1a51c",
   "metadata": {
    "execution": {
     "iopub.execute_input": "2023-08-26T02:54:03.830654Z",
     "iopub.status.busy": "2023-08-26T02:54:03.828927Z",
     "iopub.status.idle": "2023-08-26T02:54:03.837520Z",
     "shell.execute_reply": "2023-08-26T02:54:03.836632Z"
    },
    "papermill": {
     "duration": 0.020175,
     "end_time": "2023-08-26T02:54:03.839449",
     "exception": false,
     "start_time": "2023-08-26T02:54:03.819274",
     "status": "completed"
    },
    "tags": []
   },
   "outputs": [],
   "source": [
    "class BERT(nn.Module):\n",
    "    def __init__(self):\n",
    "        super(BERT, self).__init__()\n",
    "        self.bert = BertModel.from_pretrained('/kaggle/input/hugging-face-models-safe-tensors/bert-base-uncased')\n",
    "\n",
    "        self.dropout = nn.Dropout(0.1)\n",
    "        self.linear1 = nn.Linear(768, 128)\n",
    "        self.linear2 = nn.Linear(128, 2)\n",
    "\n",
    "    def forward(self, input_ids, attention_mask):\n",
    "        outputs = self.bert(input_ids=input_ids, attention_mask=attention_mask)\n",
    "        pooled_output = outputs.pooler_output\n",
    "        pooled_output = self.dropout(pooled_output)\n",
    "        output = self.linear1(pooled_output)\n",
    "        output = nn.ReLU()(output)\n",
    "        output = self.linear2(output)\n",
    "        return output"
   ]
  },
  {
   "cell_type": "code",
   "execution_count": 14,
   "id": "5e495d68",
   "metadata": {
    "execution": {
     "iopub.execute_input": "2023-08-26T02:54:03.859445Z",
     "iopub.status.busy": "2023-08-26T02:54:03.858029Z",
     "iopub.status.idle": "2023-08-26T02:54:03.867271Z",
     "shell.execute_reply": "2023-08-26T02:54:03.866009Z"
    },
    "papermill": {
     "duration": 0.020687,
     "end_time": "2023-08-26T02:54:03.869189",
     "exception": false,
     "start_time": "2023-08-26T02:54:03.848502",
     "status": "completed"
    },
    "tags": []
   },
   "outputs": [
    {
     "name": "stdout",
     "output_type": "stream",
     "text": [
      "5732\n",
      "1433\n"
     ]
    }
   ],
   "source": [
    "train_ds, val_ds = random_split(ds, [0.8, 0.2])\n",
    "print(len(train_ds))\n",
    "print(len(val_ds))"
   ]
  },
  {
   "cell_type": "code",
   "execution_count": 15,
   "id": "df66f200",
   "metadata": {
    "execution": {
     "iopub.execute_input": "2023-08-26T02:54:03.889055Z",
     "iopub.status.busy": "2023-08-26T02:54:03.888272Z",
     "iopub.status.idle": "2023-08-26T02:54:03.893521Z",
     "shell.execute_reply": "2023-08-26T02:54:03.892651Z"
    },
    "papermill": {
     "duration": 0.016802,
     "end_time": "2023-08-26T02:54:03.895488",
     "exception": false,
     "start_time": "2023-08-26T02:54:03.878686",
     "status": "completed"
    },
    "tags": []
   },
   "outputs": [],
   "source": [
    "train_dataloader = DataLoader(\n",
    "            train_ds,  \n",
    "            batch_size = cfg.batch_size \n",
    ")\n",
    "\n",
    "val_dataloader = DataLoader(\n",
    "            val_ds,  \n",
    "            batch_size = cfg.batch_size\n",
    ")"
   ]
  },
  {
   "cell_type": "code",
   "execution_count": 16,
   "id": "4531bf91",
   "metadata": {
    "execution": {
     "iopub.execute_input": "2023-08-26T02:54:03.914740Z",
     "iopub.status.busy": "2023-08-26T02:54:03.913988Z",
     "iopub.status.idle": "2023-08-26T02:54:03.918309Z",
     "shell.execute_reply": "2023-08-26T02:54:03.917473Z"
    },
    "papermill": {
     "duration": 0.015653,
     "end_time": "2023-08-26T02:54:03.920118",
     "exception": false,
     "start_time": "2023-08-26T02:54:03.904465",
     "status": "completed"
    },
    "tags": []
   },
   "outputs": [],
   "source": [
    "# installation \n",
    "#!curl https://raw.githubusercontent.com/pytorch/xla/master/contrib/scripts/env-setup.py -o pytorch-xla-env-setup.py\n",
    "#!python pytorch-xla-env-setup.py --version nightly --apt-packages libomp5 libopenblas-dev"
   ]
  },
  {
   "cell_type": "code",
   "execution_count": 17,
   "id": "665cb228",
   "metadata": {
    "execution": {
     "iopub.execute_input": "2023-08-26T02:54:03.939420Z",
     "iopub.status.busy": "2023-08-26T02:54:03.938592Z",
     "iopub.status.idle": "2023-08-26T02:54:03.942687Z",
     "shell.execute_reply": "2023-08-26T02:54:03.941740Z"
    },
    "papermill": {
     "duration": 0.015603,
     "end_time": "2023-08-26T02:54:03.944632",
     "exception": false,
     "start_time": "2023-08-26T02:54:03.929029",
     "status": "completed"
    },
    "tags": []
   },
   "outputs": [],
   "source": [
    "# for TPU\n",
    "#import torch_xla\n",
    "#import torch_xla.core.xla_model as xm"
   ]
  },
  {
   "cell_type": "code",
   "execution_count": 18,
   "id": "4712586a",
   "metadata": {
    "execution": {
     "iopub.execute_input": "2023-08-26T02:54:03.963540Z",
     "iopub.status.busy": "2023-08-26T02:54:03.962754Z",
     "iopub.status.idle": "2023-08-26T02:54:03.966964Z",
     "shell.execute_reply": "2023-08-26T02:54:03.966123Z"
    },
    "papermill": {
     "duration": 0.015545,
     "end_time": "2023-08-26T02:54:03.968841",
     "exception": false,
     "start_time": "2023-08-26T02:54:03.953296",
     "status": "completed"
    },
    "tags": []
   },
   "outputs": [],
   "source": [
    "#device = xm.xla_device()"
   ]
  },
  {
   "cell_type": "code",
   "execution_count": 19,
   "id": "00c1bb7f",
   "metadata": {
    "execution": {
     "iopub.execute_input": "2023-08-26T02:54:03.987571Z",
     "iopub.status.busy": "2023-08-26T02:54:03.987291Z",
     "iopub.status.idle": "2023-08-26T02:54:03.993260Z",
     "shell.execute_reply": "2023-08-26T02:54:03.992404Z"
    },
    "papermill": {
     "duration": 0.017373,
     "end_time": "2023-08-26T02:54:03.995251",
     "exception": false,
     "start_time": "2023-08-26T02:54:03.977878",
     "status": "completed"
    },
    "tags": []
   },
   "outputs": [
    {
     "data": {
      "text/plain": [
       "'if torch.cuda.is_available():\\n    device = torch.device(\"cuda\")\\n    print(\"GPU is available and being used\")\\nelse:\\n    device = torch.device(\"cpu\")\\n    print(\"GPU is not available, using CPU instead\")'"
      ]
     },
     "execution_count": 19,
     "metadata": {},
     "output_type": "execute_result"
    }
   ],
   "source": [
    "'''if torch.cuda.is_available():\n",
    "    device = torch.device(\"cuda\")\n",
    "    print(\"GPU is available and being used\")\n",
    "else:\n",
    "    device = torch.device(\"cpu\")\n",
    "    print(\"GPU is not available, using CPU instead\")'''"
   ]
  },
  {
   "cell_type": "code",
   "execution_count": 20,
   "id": "a8478156",
   "metadata": {
    "execution": {
     "iopub.execute_input": "2023-08-26T02:54:04.014391Z",
     "iopub.status.busy": "2023-08-26T02:54:04.013601Z",
     "iopub.status.idle": "2023-08-26T02:54:04.279880Z",
     "shell.execute_reply": "2023-08-26T02:54:04.278900Z"
    },
    "papermill": {
     "duration": 0.278257,
     "end_time": "2023-08-26T02:54:04.282242",
     "exception": false,
     "start_time": "2023-08-26T02:54:04.003985",
     "status": "completed"
    },
    "tags": []
   },
   "outputs": [],
   "source": [
    "import torch, gc\n",
    "gc.collect()\n",
    "torch.cuda.empty_cache()"
   ]
  },
  {
   "cell_type": "code",
   "execution_count": 21,
   "id": "fc900342",
   "metadata": {
    "execution": {
     "iopub.execute_input": "2023-08-26T02:54:04.302351Z",
     "iopub.status.busy": "2023-08-26T02:54:04.301691Z",
     "iopub.status.idle": "2023-08-26T02:54:06.533171Z",
     "shell.execute_reply": "2023-08-26T02:54:06.531863Z"
    },
    "papermill": {
     "duration": 2.243964,
     "end_time": "2023-08-26T02:54:06.535370",
     "exception": true,
     "start_time": "2023-08-26T02:54:04.291406",
     "status": "failed"
    },
    "tags": []
   },
   "outputs": [
    {
     "data": {
      "text/html": [
       "<pre style=\"white-space:pre;overflow-x:auto;line-height:normal;font-family:Menlo,'DejaVu Sans Mono',consolas,'Courier New',monospace\"><span style=\"color: #800000; text-decoration-color: #800000\">╭─────────────────────────────── </span><span style=\"color: #800000; text-decoration-color: #800000; font-weight: bold\">Traceback </span><span style=\"color: #bf7f7f; text-decoration-color: #bf7f7f; font-weight: bold\">(most recent call last)</span><span style=\"color: #800000; text-decoration-color: #800000\"> ────────────────────────────────╮</span>\n",
       "<span style=\"color: #800000; text-decoration-color: #800000\">│</span> in <span style=\"color: #00ff00; text-decoration-color: #00ff00\">&lt;module&gt;</span>:<span style=\"color: #0000ff; text-decoration-color: #0000ff\">1</span>                                                                                    <span style=\"color: #800000; text-decoration-color: #800000\">│</span>\n",
       "<span style=\"color: #800000; text-decoration-color: #800000\">│</span>                                                                                                  <span style=\"color: #800000; text-decoration-color: #800000\">│</span>\n",
       "<span style=\"color: #800000; text-decoration-color: #800000\">│</span> <span style=\"color: #800000; text-decoration-color: #800000\">❱ </span>1 model = BERT().to(device)                                                                    <span style=\"color: #800000; text-decoration-color: #800000\">│</span>\n",
       "<span style=\"color: #800000; text-decoration-color: #800000\">│</span>   <span style=\"color: #7f7f7f; text-decoration-color: #7f7f7f\">2 </span>optimizer = torch.optim.AdamW(model.parameters(), lr=cfg.learning_rate)                      <span style=\"color: #800000; text-decoration-color: #800000\">│</span>\n",
       "<span style=\"color: #800000; text-decoration-color: #800000\">│</span>   <span style=\"color: #7f7f7f; text-decoration-color: #7f7f7f\">3 </span>loss_fn = nn.MSELoss() <span style=\"color: #7f7f7f; text-decoration-color: #7f7f7f\"># RMSE</span>                                                                <span style=\"color: #800000; text-decoration-color: #800000\">│</span>\n",
       "<span style=\"color: #800000; text-decoration-color: #800000\">│</span>   <span style=\"color: #7f7f7f; text-decoration-color: #7f7f7f\">4 </span>min_val_loss = np.inf                                                                        <span style=\"color: #800000; text-decoration-color: #800000\">│</span>\n",
       "<span style=\"color: #800000; text-decoration-color: #800000\">╰──────────────────────────────────────────────────────────────────────────────────────────────────╯</span>\n",
       "<span style=\"color: #ff0000; text-decoration-color: #ff0000; font-weight: bold\">NameError: </span>name <span style=\"color: #008000; text-decoration-color: #008000\">'device'</span> is not defined\n",
       "</pre>\n"
      ],
      "text/plain": [
       "\u001b[31m╭─\u001b[0m\u001b[31m──────────────────────────────\u001b[0m\u001b[31m \u001b[0m\u001b[1;31mTraceback \u001b[0m\u001b[1;2;31m(most recent call last)\u001b[0m\u001b[31m \u001b[0m\u001b[31m───────────────────────────────\u001b[0m\u001b[31m─╮\u001b[0m\n",
       "\u001b[31m│\u001b[0m in \u001b[92m<module>\u001b[0m:\u001b[94m1\u001b[0m                                                                                    \u001b[31m│\u001b[0m\n",
       "\u001b[31m│\u001b[0m                                                                                                  \u001b[31m│\u001b[0m\n",
       "\u001b[31m│\u001b[0m \u001b[31m❱ \u001b[0m1 model = BERT().to(device)                                                                    \u001b[31m│\u001b[0m\n",
       "\u001b[31m│\u001b[0m   \u001b[2m2 \u001b[0moptimizer = torch.optim.AdamW(model.parameters(), lr=cfg.learning_rate)                      \u001b[31m│\u001b[0m\n",
       "\u001b[31m│\u001b[0m   \u001b[2m3 \u001b[0mloss_fn = nn.MSELoss() \u001b[2m# RMSE\u001b[0m                                                                \u001b[31m│\u001b[0m\n",
       "\u001b[31m│\u001b[0m   \u001b[2m4 \u001b[0mmin_val_loss = np.inf                                                                        \u001b[31m│\u001b[0m\n",
       "\u001b[31m╰──────────────────────────────────────────────────────────────────────────────────────────────────╯\u001b[0m\n",
       "\u001b[1;91mNameError: \u001b[0mname \u001b[32m'device'\u001b[0m is not defined\n"
      ]
     },
     "metadata": {},
     "output_type": "display_data"
    }
   ],
   "source": [
    "model = BERT().to(device)\n",
    "optimizer = torch.optim.AdamW(model.parameters(), lr=cfg.learning_rate)\n",
    "loss_fn = nn.MSELoss() # RMSE\n",
    "min_val_loss = np.inf"
   ]
  },
  {
   "cell_type": "code",
   "execution_count": null,
   "id": "f7b8f666",
   "metadata": {
    "execution": {
     "iopub.execute_input": "2023-08-24T08:58:41.082807Z",
     "iopub.status.busy": "2023-08-24T08:58:41.082368Z"
    },
    "papermill": {
     "duration": null,
     "end_time": null,
     "exception": null,
     "start_time": null,
     "status": "pending"
    },
    "tags": []
   },
   "outputs": [],
   "source": [
    "# Training loop\n",
    "model.train()\n",
    "patience = 0\n",
    "\n",
    "for epoch in range(cfg.num_epochs):\n",
    "    running_loss = 0.0\n",
    "    for step, (input_ids, attention_mask, labels) in enumerate(train_dataloader):\n",
    "        input_ids = input_ids.to(device)\n",
    "        attention_mask = attention_mask.to(device)\n",
    "        labels = labels.to(device)\n",
    "        \n",
    "        optimizer.zero_grad()\n",
    "\n",
    "        outputs = model(input_ids, attention_mask)\n",
    "        loss = loss_fn(outputs, labels)\n",
    "        loss.backward()\n",
    "        optimizer.step()\n",
    "        if step % 100 == 0:\n",
    "            print(\"Epoch {}, Step {}, Loss: {}\".format(epoch+1, step, loss.item()))\n",
    "\n",
    "        running_loss += loss.item()\n",
    "\n",
    "    print(f\"Epoch {epoch+1} Loss: {running_loss / len(train_dataloader)}\")\n",
    "\n",
    "    # Validation loop\n",
    "    model.eval()\n",
    "    with torch.no_grad():\n",
    "        val_loss = 0.0\n",
    "        for val_step, (input_ids, attention_mask, labels) in enumerate(val_dataloader):\n",
    "            input_ids = input_ids.to(device)\n",
    "            attention_mask = attention_mask.to(device)\n",
    "            labels = labels.to(device)\n",
    "            \n",
    "            val_outputs = model(input_ids, attention_mask)\n",
    "            val_loss += loss_fn(val_outputs, labels) \n",
    "        avg_loss = val_loss / len(val_dataloader)\n",
    "        print(f\"Validation Loss: {avg_loss}\")\n",
    "        \n",
    "        if avg_loss < min_val_loss:\n",
    "            patience = 0\n",
    "            min_val_loss = avg_loss\n",
    "            torch.save(model.state_dict(), cfg.model_save_path)\n",
    "            print(f'saving model with score: {avg_loss}')\n",
    "            \n",
    "    patience += 1    \n",
    "    if patience >= 10:\n",
    "            print('Early Stopping trigerred on epoch: {}')\n",
    "            break\n",
    "            \n",
    "    model.train()"
   ]
  },
  {
   "cell_type": "code",
   "execution_count": null,
   "id": "e19723b1",
   "metadata": {
    "execution": {
     "iopub.execute_input": "2023-08-23T14:29:30.690577Z",
     "iopub.status.busy": "2023-08-23T14:29:30.690210Z",
     "iopub.status.idle": "2023-08-23T14:29:32.240539Z",
     "shell.execute_reply": "2023-08-23T14:29:32.239451Z",
     "shell.execute_reply.started": "2023-08-23T14:29:30.690547Z"
    },
    "papermill": {
     "duration": null,
     "end_time": null,
     "exception": null,
     "start_time": null,
     "status": "pending"
    },
    "tags": []
   },
   "outputs": [],
   "source": [
    "model = BERT()\n",
    "model.load_state_dict(torch.load(cfg.model_save_path))\n",
    "model.eval()\n",
    "\n",
    "\n",
    "enc = tokenizer(list(test['text']),\n",
    "                   padding=True,\n",
    "                   truncation=True,\n",
    "                   max_length=cfg.token_max,\n",
    "                   return_tensors=\"pt\")\n",
    "\n",
    "test_ds = TensorDataset(enc['input_ids'], enc['attention_mask'])\n",
    "test_dataloader = torch.utils.data.DataLoader(test_ds, batch_size=16, shuffle=False)\n",
    "\n",
    "\n",
    "predictions = []\n",
    "with torch.no_grad():\n",
    "    for input_ids, attention_mask in test_dataloader:\n",
    "        input_ids = input_ids\n",
    "        attention_mask = attention_mask\n",
    "\n",
    "        outputs = model(input_ids, attention_mask)\n",
    "        predictions.extend(outputs.cpu().numpy())\n",
    "        "
   ]
  },
  {
   "cell_type": "code",
   "execution_count": null,
   "id": "41c11461",
   "metadata": {
    "execution": {
     "iopub.execute_input": "2023-08-23T14:29:32.609787Z",
     "iopub.status.busy": "2023-08-23T14:29:32.609050Z",
     "iopub.status.idle": "2023-08-23T14:29:32.615596Z",
     "shell.execute_reply": "2023-08-23T14:29:32.614508Z",
     "shell.execute_reply.started": "2023-08-23T14:29:32.609751Z"
    },
    "papermill": {
     "duration": null,
     "end_time": null,
     "exception": null,
     "start_time": null,
     "status": "pending"
    },
    "tags": []
   },
   "outputs": [],
   "source": [
    "submission_df = pd.DataFrame({\n",
    "    'student_id': test['student_id'],\n",
    "    'content': [pred[0] for pred in predictions],\n",
    "    'wording': [pred[1] for pred in predictions]\n",
    "})"
   ]
  },
  {
   "cell_type": "code",
   "execution_count": null,
   "id": "3dba47ca",
   "metadata": {
    "execution": {
     "iopub.execute_input": "2023-08-23T14:29:40.204788Z",
     "iopub.status.busy": "2023-08-23T14:29:40.204080Z",
     "iopub.status.idle": "2023-08-23T14:29:40.216756Z",
     "shell.execute_reply": "2023-08-23T14:29:40.215682Z",
     "shell.execute_reply.started": "2023-08-23T14:29:40.204755Z"
    },
    "papermill": {
     "duration": null,
     "end_time": null,
     "exception": null,
     "start_time": null,
     "status": "pending"
    },
    "tags": []
   },
   "outputs": [],
   "source": [
    "submission_df"
   ]
  },
  {
   "cell_type": "code",
   "execution_count": null,
   "id": "fae6f80e",
   "metadata": {
    "execution": {
     "iopub.execute_input": "2023-08-23T14:29:47.651083Z",
     "iopub.status.busy": "2023-08-23T14:29:47.650067Z",
     "iopub.status.idle": "2023-08-23T14:29:47.659016Z",
     "shell.execute_reply": "2023-08-23T14:29:47.658022Z",
     "shell.execute_reply.started": "2023-08-23T14:29:47.651043Z"
    },
    "papermill": {
     "duration": null,
     "end_time": null,
     "exception": null,
     "start_time": null,
     "status": "pending"
    },
    "tags": []
   },
   "outputs": [],
   "source": [
    "submission_df.to_csv('submission.csv', index=False)"
   ]
  },
  {
   "cell_type": "code",
   "execution_count": null,
   "id": "c9677b6a",
   "metadata": {
    "papermill": {
     "duration": null,
     "end_time": null,
     "exception": null,
     "start_time": null,
     "status": "pending"
    },
    "tags": []
   },
   "outputs": [],
   "source": []
  }
 ],
 "metadata": {
  "kernelspec": {
   "display_name": "Python 3",
   "language": "python",
   "name": "python3"
  },
  "language_info": {
   "codemirror_mode": {
    "name": "ipython",
    "version": 3
   },
   "file_extension": ".py",
   "mimetype": "text/x-python",
   "name": "python",
   "nbconvert_exporter": "python",
   "pygments_lexer": "ipython3",
   "version": "3.10.12"
  },
  "papermill": {
   "default_parameters": {},
   "duration": 61.672464,
   "end_time": "2023-08-26T02:54:09.881792",
   "environment_variables": {},
   "exception": true,
   "input_path": "__notebook__.ipynb",
   "output_path": "__notebook__.ipynb",
   "parameters": {},
   "start_time": "2023-08-26T02:53:08.209328",
   "version": "2.4.0"
  }
 },
 "nbformat": 4,
 "nbformat_minor": 5
}
